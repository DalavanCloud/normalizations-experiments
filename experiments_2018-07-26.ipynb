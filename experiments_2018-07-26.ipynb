{
 "cells": [
  {
   "cell_type": "markdown",
   "metadata": {},
   "source": [
    "# Crunching data from SciELO's services from DOI / PID"
   ]
  },
  {
   "cell_type": "code",
   "execution_count": 1,
   "metadata": {},
   "outputs": [],
   "source": [
    "from io import BytesIO\n",
    "import re\n",
    "from urllib.error import HTTPError\n",
    "from urllib.parse import urlencode\n",
    "from urllib.request import urlopen, Request\n",
    "\n",
    "from bs4 import BeautifulSoup\n",
    "from lxml import etree\n",
    "import pandas as pd"
   ]
  },
  {
   "cell_type": "markdown",
   "metadata": {},
   "source": [
    "## Querying by DOI in the internal ArticleMeta API"
   ]
  },
  {
   "cell_type": "markdown",
   "metadata": {},
   "source": [
    "There's an internal API for looking for a DOI, as shown in\n",
    "[this notebook](https://github.com/gustavofonseca/notebooks/blob/master/Receitas%20do%20ArticleMeta%20API.ipynb),\n",
    "which is part of the [articlemetaapi]().\n",
    "Though we can write something like:\n",
    "\n",
    "```python\n",
    "import json\n",
    "from articlemeta.client import ThriftClient\n",
    "\n",
    "client = ThriftClient()\n",
    "\n",
    "def get_internal_info_from_doi(doi):\n",
    "    try:\n",
    "        return next(client.documents(only_identifiers=True, extra_filter=json.dumps({\"doi\": doi})))\n",
    "    except StopIteration:\n",
    "        return None\n",
    "```\n",
    "\n",
    "That API is internal to SciELO,\n",
    "and it can't be accessed by an external network.\n",
    "It'll try $10x$ to reconnect,\n",
    "issuing warnings telling it couldn't connect to that host,\n",
    "raising a `ServerError` at the end.\n",
    "\n",
    "Therefore we need another approach to publicly access data from DOI values."
   ]
  },
  {
   "cell_type": "markdown",
   "metadata": {},
   "source": [
    "## Searching by DOI in [search.scielo.org](https://search.scielo.org) + BeautifulSoup scraping"
   ]
  },
  {
   "cell_type": "markdown",
   "metadata": {},
   "source": [
    "We can find some article using the SciELO search engine\n",
    "(the one DuckDuckGo redirect to when using the `!scielo` bang)."
   ]
  },
  {
   "cell_type": "code",
   "execution_count": 2,
   "metadata": {},
   "outputs": [],
   "source": [
    "def search_scielo_org_bsoup(search_string):\n",
    "    try:\n",
    "        query = urlencode({\"q\": search_string})\n",
    "        resp = urlopen(\"https://search.scielo.org/?\" + query)\n",
    "        return BeautifulSoup(resp.read(), \"lxml\")\n",
    "    except HTTPError:\n",
    "        return None"
   ]
  },
  {
   "cell_type": "markdown",
   "metadata": {},
   "source": [
    "We can't load that directly with `lxml.etree.parse`,\n",
    "it'll break telling the input isn't a valid XML.\n",
    "That's not a problem:\n",
    "the HTML syntax tells us not to close some tags,\n",
    "and there are stuff like the `<pre>` and `<script>` tags\n",
    "which might include non-tags text in their text content body\n",
    "that might have a tag-like syntax.\n",
    "Tweaking the parser\n",
    "(using the HTML parser instead of the XML parser,\n",
    " or using only parts of the input)\n",
    "would help,\n",
    "but BeautifulSoup is written for parsing HTML\n",
    "(using the lxml HTML parser)\n",
    "and works directly with CSS,\n",
    "which should help on scraping the search results' HTML."
   ]
  },
  {
   "cell_type": "markdown",
   "metadata": {},
   "source": [
    "Looking for `DOI: 10.----/--------` as the search string\n",
    "replacing the dashes by the actual DOI contents\n",
    "is enough to find the article.\n",
    "The items are in a `<div>` element that has `item`\n",
    "It's paginated ($15$ items per page) but we just need the first item."
   ]
  },
  {
   "cell_type": "code",
   "execution_count": 3,
   "metadata": {},
   "outputs": [
    {
     "name": "stdout",
     "output_type": "stream",
     "text": [
      "<div class=\"item\" id=\"S1516-35982018000100506-scl\">\n",
      " <div class=\"col-md-1 col-sm-2 col-xs-1\">\n",
      "  <input class=\"checkbox my_selection\" id=\"select_S1516-35982018000100506-scl\" type=\"checkbox\" value=\"S1516-35982018000100506-scl\"/>\n",
      "  <label class=\"checkbox\" for=\"select_S1516-35982018000100506-scl\">\n",
      "   1.\n",
      "  </label>\n",
      " </div>\n",
      " <div class=\"col-md-11 col-sm-10 col-xs-11\">\n",
      "  <!-- title -->\n",
      "  <div class=\"line\">\n",
      "   <img class=\"openAccessIcon showTooltip\" data-toggle=\"tooltip\" src=\"https://search.scielo.org/static/image/open-access-icon.png\" title=\"CC-BY/4.0\"/>\n",
      "   <a href=\"http://www.scielo.br/scielo.php?script=sci_arttext&amp;pid=S1516-35982018000100506&amp;lang=pt\" target=\"_blank\" title=\"Effects of 1,25-dihydroxycholecalciferol and reduced vitamin D3 level on broiler performance and bone quality\">\n",
      "    <strong class=\"title\" id=\"title-S1516-35982018000100506\">\n",
      "     Effects of 1,25-dihydroxycholecalciferol and reduced vitamin D3 level on broiler performance and bone quality\n",
      "    </strong>\n",
      "   </a>\n",
      "   <br class=\"visible-xs visible-sm\"/>\n",
      "   <span class=\"socialLinks articleShareLink\">\n",
      "    <a href=\"javascript:void()\">\n",
      "     <span class=\"st_email_custom\" st_image=\"https://search.scielo.org/static/image/logo-scielo.png\" st_title=\"Effects of 1,25-dihydroxycholecalciferol and reduced vitamin D3 level on broiler performance and bone quality\" st_url=\"http://www.scielo.br/scielo.php?script=sci_arttext&amp;pid=S1516-35982018000100506&amp;lang=pt\" style=\"margin-right: 0px\">\n",
      "     </span>\n",
      "    </a>\n",
      "    <a class=\"articleAction shareFacebook\" data-placement=\"top\" data-toggle=\"tooltip\" href=\"http://www.scielo.br/scielo.php?script=sci_arttext&amp;pid=S1516-35982018000100506&amp;lang=pt\" title=\"Compartilhar Facebook\">\n",
      "     Facebook\n",
      "    </a>\n",
      "    <a class=\"articleAction shareTwitter\" data-placement=\"top\" data-toggle=\"tooltip\" href=\"http://www.scielo.br/scielo.php?script=sci_arttext&amp;pid=S1516-35982018000100506&amp;lang=pt\" title=\" Twitter\">\n",
      "     Twitter\n",
      "    </a>\n",
      "    <a class=\"showTooltip dropdown-toggle\" data-original-title=\"Compartilhar em outras redes\" data-placement=\"top\" data-toggle=\"dropdown\" href=\"\" title=\"\">\n",
      "     <span class=\"glyphBtn otherNetworks\">\n",
      "     </span>\n",
      "    </a>\n",
      "    <ul class=\"dropdown-menu articleShare\">\n",
      "     <li class=\"dropdown-header\">\n",
      "      Outras redes sociais\n",
      "     </li>\n",
      "     <li>\n",
      "      <a class=\"shareGooglePlus\" href=\"http://www.scielo.br/scielo.php?script=sci_arttext&amp;pid=S1516-35982018000100506&amp;lang=pt\" target=\"_blank\">\n",
      "       <span class=\"glyphBtn googlePlus\">\n",
      "       </span>\n",
      "       Google+\n",
      "      </a>\n",
      "     </li>\n",
      "     <li>\n",
      "      <a class=\"shareLinkedIn\" href=\"http://www.scielo.br/scielo.php?script=sci_arttext&amp;pid=S1516-35982018000100506&amp;lang=pt\" target=\"_blank\">\n",
      "       <span class=\"glyphBtn linkedIn\">\n",
      "       </span>\n",
      "       LinkedIn\n",
      "      </a>\n",
      "     </li>\n",
      "     <li>\n",
      "      <a class=\"shareReddit\" href=\"http://www.scielo.br/scielo.php?script=sci_arttext&amp;pid=S1516-35982018000100506&amp;lang=pt\" target=\"_blank\">\n",
      "       <span class=\"glyphBtn reddit\">\n",
      "       </span>\n",
      "       Reddit\n",
      "      </a>\n",
      "     </li>\n",
      "     <li>\n",
      "      <a class=\"shareStambleUpon\" href=\"http://www.scielo.br/scielo.php?script=sci_arttext&amp;pid=S1516-35982018000100506&amp;lang=pt\" target=\"_blank\">\n",
      "       <span class=\"glyphBtn stambleUpon\">\n",
      "       </span>\n",
      "       StambleUpon\n",
      "      </a>\n",
      "     </li>\n",
      "     <li>\n",
      "      <a class=\"shareCiteULike\" href=\"http://www.scielo.br/scielo.php?script=sci_arttext&amp;pid=S1516-35982018000100506&amp;lang=pt\" target=\"_blank\">\n",
      "       <span class=\"glyphBtn citeULike\">\n",
      "       </span>\n",
      "       CiteULike\n",
      "      </a>\n",
      "     </li>\n",
      "     <li>\n",
      "      <a class=\"shareMendeley\" href=\"http://www.scielo.br/scielo.php?script=sci_arttext&amp;pid=S1516-35982018000100506&amp;lang=pt\" target=\"_blank\">\n",
      "       <span class=\"glyphBtn mendeley\">\n",
      "       </span>\n",
      "       Mendeley\n",
      "      </a>\n",
      "     </li>\n",
      "     <li>\n",
      "      <a class=\"st_sharethis\" href=\"#\" onclick=\"javascript:return false;\" st_url=\"http://www.scielo.br/scielo.php?script=sci_arttext&amp;pid=S1516-35982018000100506&amp;lang=pt\">\n",
      "       Outras redes\n",
      "      </a>\n",
      "     </li>\n",
      "    </ul>\n",
      "   </span>\n",
      "  </div>\n",
      "  <br class=\"visible-xs visible-sm\"/>\n",
      "  <!-- author -->\n",
      "  <div class=\"line authors\">\n",
      "   <a class=\"author\" href='http://www.google.com/search?q=\"Castro, Fernanda Lima de Souza\"' target=\"_blank\">\n",
      "    Castro, Fernanda Lima de Souza\n",
      "   </a>\n",
      "   ;\n",
      "   <a class=\"author\" href='http://www.google.com/search?q=\"Baião, Nelson Carneiro\"' target=\"_blank\">\n",
      "    Baião, Nelson Carneiro\n",
      "   </a>\n",
      "   ;\n",
      "   <a class=\"author\" href='http://www.google.com/search?q=\"Ecco, Roselene\"' target=\"_blank\">\n",
      "    Ecco, Roselene\n",
      "   </a>\n",
      "   ;\n",
      "   <a class=\"author\" href='http://www.google.com/search?q=\"Louzada, Mário Jefferson Quirino\"' target=\"_blank\">\n",
      "    Louzada, Mário Jefferson Quirino\n",
      "   </a>\n",
      "   ;\n",
      "   <a class=\"author\" href='http://www.google.com/search?q=\"Melo, Érica de Faria\"' target=\"_blank\">\n",
      "    Melo, Érica de Faria\n",
      "   </a>\n",
      "   ;\n",
      "   <a class=\"author\" href='http://www.google.com/search?q=\"Saldanha, Mariana Masseo\"' target=\"_blank\">\n",
      "    Saldanha, Mariana Masseo\n",
      "   </a>\n",
      "   ;\n",
      "   <a class=\"author\" href='http://www.google.com/search?q=\"Triginelli, Marcela Viana\"' target=\"_blank\">\n",
      "    Triginelli, Marcela Viana\n",
      "   </a>\n",
      "   ;\n",
      "   <a class=\"author\" href='http://www.google.com/search?q=\"Lara, Leonardo José Camargos\"' target=\"_blank\">\n",
      "    Lara, Leonardo José Camargos\n",
      "   </a>\n",
      "   .\n",
      "  </div>\n",
      "  <!-- source -->\n",
      "  <div class=\"line source\">\n",
      "   <span style=\"margin: 0\">\n",
      "    <a class=\"openJournalInfo\" data-collection=\"scl\" data-issn=\"1516-3598\" data-publisher=\"\" href=\"#\">\n",
      "     Revista Brasileira de Zootecnia\n",
      "    </a>\n",
      "    ,\n",
      "   </span>\n",
      "   <span style=\"margin: 0\">\n",
      "    Abr\n",
      "   </span>\n",
      "   <span style=\"margin: 0\">\n",
      "    2018,\n",
      "   </span>\n",
      "   <small>\n",
      "    Volume\n",
      "   </small>\n",
      "   <span>\n",
      "    47\n",
      "   </span>\n",
      "   <small>\n",
      "    elocation\n",
      "   </small>\n",
      "   <span>\n",
      "    e20170186\n",
      "   </span>\n",
      "  </div>\n",
      "  <div class=\"user-actions\">\n",
      "   <div class=\"line versions\">\n",
      "    <span>\n",
      "     · Inglês:\n",
      "     <a href=\"#\" onclick=\"$('#S1516-35982018000100506-scl_en').toggle(); return false;\">\n",
      "      Resumo\n",
      "     </a>\n",
      "     |\n",
      "     <a href=\"http://www.scielo.br/scielo.php?script=sci_arttext&amp;pid=S1516-35982018000100506&amp;lng=pt&amp;tlng=en\">\n",
      "      Texto\n",
      "     </a>\n",
      "     |\n",
      "     <a href=\"http://www.scielo.br/scielo.php?script=sci_pdf&amp;pid=S1516-35982018000100506&amp;lng=pt&amp;tlng=en\">\n",
      "      PDF\n",
      "     </a>\n",
      "     |\n",
      "     <a href=\"http://www.scielo.br/readcube/epdf.php?doi=10.1590/rbz4720170186&amp;pid=S1516-35982018000100506&amp;pdf_path=rbz/v47/1806-9290-rbz-rbz4720170186.pdf&amp;lang=en\">\n",
      "      ePDF\n",
      "     </a>\n",
      "    </span>\n",
      "   </div>\n",
      "   <div class=\"abstract\" id=\"S1516-35982018000100506-scl_en\" style=\"display:none\">\n",
      "    ABSTRACT This study was conducted to evaluate the effect of two levels of vitamin D3 with or without 1,25- dihydroxycholecalciferol (1,25(OH)2D3) on live performance and bone quality of broiler chickens. For that, we used a completely randomized design in a 2 × 2 factorial arrangement, with eight replicates of 30 Cobb®500 male broiler chicks each (n = 960). The two levels of vitamin D3 and the addition or not of 0.5 μg 1,25(OH)2D3/kg were considered as main factors. The vitamin D3 levels were: 2500/2000 IU/kg and 1250/1000 IU/kg for the starter (1 to 21 days) and grower (22 to 40 days) phases, respectively, with the first representing the levels used in industry (100%) and the second, a reduction in 50% of those levels. The 1,25(OH)2D3 source was Solanum glaucophyllum. On days 21 and 40, one broiler per replicate was killed and long bones were removed for analyses of mineral percentage, bone mineral density, biomechanical properties, and morphology. No significant differences were found related to vitamin D3 levels and the addition or not of 1,25(OH)2D3 for live performance, mineral percentage, strength, stiffness, and morphology. Toughness was lower when 1,25(OH)2D3 was used at 21 days, but this effect was not observed at 40 days of age. Bone mineral density was greater when 100% of vitamin D3 was used at 40 days of age. The reduction of up to 50% of vitamin D3 levels is sufficient to ensure performance and bone development of broilers at 21 and 40 days of age. The inclusion of 0.5 μg 1,25(OH)2D3/kg in addition to diets with sufficient levels of vitamin D3 shows no effect on the improvement of those parameters at the same ages.\n",
      "   </div>\n",
      "  </div>\n",
      "  <div class=\"line metadata\">\n",
      "   <div class=\"col-md-12 col-sm-12\">\n",
      "    <span class=\"DOIResults\">\n",
      "     DOI: 10.1590/rbz4720170186\n",
      "    </span>\n",
      "   </div>\n",
      "   <div class=\"clearfix\">\n",
      "   </div>\n",
      "  </div>\n",
      " </div>\n",
      " <div class=\"clearfix\">\n",
      " </div>\n",
      "</div>\n",
      "\n"
     ]
    }
   ],
   "source": [
    "full_bsoup = search_scielo_org_bsoup(\"DOI: 10.1590/rbz4720170186\")\n",
    "first_item = full_bsoup.select(\".results .item\")[0]\n",
    "print(first_item.prettify())"
   ]
  },
  {
   "cell_type": "markdown",
   "metadata": {},
   "source": [
    "That's still too much information.\n",
    "Displaying just a part of it using just the indentation\n",
    "instead of angle bracketing for nesting:"
   ]
  },
  {
   "cell_type": "code",
   "execution_count": 4,
   "metadata": {},
   "outputs": [],
   "source": [
    "# These 2 functions are just helpers to display some selected HTML contents\n",
    "def stringfy_attr_value(k, v):\n",
    "    if k not in ['title', 'id', 'class']:\n",
    "        return \"...\"\n",
    "    if isinstance(v, str):\n",
    "        return v\n",
    "    return \",\".join(v)\n",
    "\n",
    "def tree_str(root, indent=2, max_length=79):\n",
    "\n",
    "    def tree_gen(element, level=0):\n",
    "        prefix = indent * level * ' '\n",
    "\n",
    "        if element.name in [\"div\", \"span\", \"a\"]:\n",
    "            attrs = \"\".join(f\" {k}={stringfy_attr_value(k, v)}\"\n",
    "                            for k, v in element.attrs.items())\n",
    "            yield prefix + element.name + attrs\n",
    "            for child in element.children:\n",
    "                yield from tree_gen(child, level + 1)\n",
    "\n",
    "        elif not element.name: # Text node\n",
    "            raw_text = element.strip()\n",
    "            if raw_text and \"author\" in element.parent.attrs.get(\"class\", []):\n",
    "                yield prefix + raw_text\n",
    "                \n",
    "    lines = (line if len(line) <= max_length else line[:max_length - 3] + \"...\"\n",
    "             for line in tree_gen(root))\n",
    "    return \"\\n\".join(lines)"
   ]
  },
  {
   "cell_type": "code",
   "execution_count": 5,
   "metadata": {},
   "outputs": [
    {
     "name": "stdout",
     "output_type": "stream",
     "text": [
      "div id=S1516-35982018000100506-scl class=item\n",
      "  div class=col-md-1,col-sm-2,col-xs-1\n",
      "  div class=col-md-11,col-sm-10,col-xs-11\n",
      "    div class=line\n",
      "      a href=... title=Effects of 1,25-dihydroxycholecalciferol and reduced ...\n",
      "      span class=socialLinks,articleShareLink\n",
      "        a href=...\n",
      "          span class=st_email_custom st_title=... st_url=... st_image=... st...\n",
      "        a href=... class=articleAction,shareFacebook data-toggle=... data-pl...\n",
      "        a href=... class=articleAction,shareTwitter data-toggle=... data-pla...\n",
      "        a href=... class=showTooltip,dropdown-toggle data-toggle=... data-pl...\n",
      "          span class=glyphBtn,otherNetworks\n",
      "    div class=line,authors\n",
      "      a href=... target=... class=author\n",
      "        Castro, Fernanda Lima de Souza\n",
      "      a href=... target=... class=author\n",
      "        Baião, Nelson Carneiro\n",
      "      a href=... target=... class=author\n",
      "        Ecco, Roselene\n",
      "      a href=... target=... class=author\n",
      "        Louzada, Mário Jefferson Quirino\n",
      "      a href=... target=... class=author\n",
      "        Melo, Érica de Faria\n",
      "      a href=... target=... class=author\n",
      "        Saldanha, Mariana Masseo\n",
      "      a href=... target=... class=author\n",
      "        Triginelli, Marcela Viana\n",
      "      a href=... target=... class=author\n",
      "        Lara, Leonardo José Camargos\n",
      "    div class=line,source\n",
      "      span style=...\n",
      "        a href=... class=openJournalInfo data-issn=... data-publisher=... da...\n",
      "      span style=...\n",
      "      span style=...\n",
      "      span\n",
      "      span\n",
      "    div class=user-actions\n",
      "      div class=line,versions\n",
      "        span\n",
      "          a href=... onclick=...\n",
      "          a href=...\n",
      "          a href=...\n",
      "          a href=...\n",
      "      div id=S1516-35982018000100506-scl_en class=abstract style=...\n",
      "    div class=line,metadata\n",
      "      div class=col-md-12,col-sm-12\n",
      "        span class=DOIResults\n",
      "      div class=clearfix\n",
      "  div class=clearfix\n"
     ]
    }
   ],
   "source": [
    "print(tree_str(first_item))"
   ]
  },
  {
   "cell_type": "markdown",
   "metadata": {},
   "source": [
    "The PID is in the \\[root\\] item element's `id` attribute,\n",
    "which is written in a `\"{pid}-{collection}\"` format.\n",
    "The DOI is part of the single `<span class=\"DOIResults\">` element.\n",
    "Some other information can be found from that HTML snippet,\n",
    "like the article title (first `<div class=\"line\">` homonymous attribute)\n",
    "and the authors' names (text in the `<a class=\"author\">` elements)."
   ]
  },
  {
   "cell_type": "markdown",
   "metadata": {},
   "source": [
    "It has more information (e.g. volume, ISSN and journal name)\n",
    "which won't be scraped:"
   ]
  },
  {
   "cell_type": "code",
   "execution_count": 6,
   "metadata": {},
   "outputs": [
    {
     "data": {
      "text/plain": [
       "<div class=\"line source\">\n",
       "<span style=\"margin: 0\"><a class=\"openJournalInfo\" data-collection=\"scl\" data-issn=\"1516-3598\" data-publisher=\"\" href=\"#\">Revista Brasileira de Zootecnia</a>, </span>\n",
       "<span style=\"margin: 0\">Abr</span>\n",
       "<span style=\"margin: 0\">2018, </span>\n",
       "<small>Volume</small>\n",
       "<span>47</span>\n",
       "<small>elocation</small>\n",
       "<span>e20170186</span>\n",
       "</div>"
      ]
     },
     "execution_count": 6,
     "metadata": {},
     "output_type": "execute_result"
    }
   ],
   "source": [
    "first_item.select(\".source\")[0]"
   ]
  },
  {
   "cell_type": "markdown",
   "metadata": {},
   "source": [
    "A simple scraper function is:"
   ]
  },
  {
   "cell_type": "code",
   "execution_count": 7,
   "metadata": {},
   "outputs": [],
   "source": [
    "def get_doi_meta(doi):\n",
    "    bsoup = search_scielo_org_bsoup(\"DOI: \" + doi)\n",
    "    item = bsoup.select(\".results .item\")[0]\n",
    "    doi_span = item.select(\".DOIResults\")\n",
    "    doi_ctx = doi_span[0].text if doi_span else item.text\n",
    "    pid, collection = item.attrs[\"id\"].rsplit(\"-\", 1)\n",
    "    return {\n",
    "        \"doi\": re.search(\"[\\s>](10.[0-9.]+/[^< \\n]+)\", doi_ctx).groups()[0],\n",
    "        \"pid\": pid,\n",
    "        \"collection\": collection,\n",
    "        \"authors\": [author.text.strip() for author in item.select(\".author\")],\n",
    "        \"title\": item.select(\".line a:nth-of-type(1)\")[0].attrs[\"title\"],\n",
    "    }"
   ]
  },
  {
   "cell_type": "markdown",
   "metadata": {},
   "source": [
    "Scraping that DOI entry we were analyzing:"
   ]
  },
  {
   "cell_type": "code",
   "execution_count": 8,
   "metadata": {},
   "outputs": [
    {
     "data": {
      "text/plain": [
       "{'doi': '10.1590/rbz4720170186',\n",
       " 'pid': 'S1516-35982018000100506',\n",
       " 'collection': 'scl',\n",
       " 'authors': ['Castro, Fernanda Lima de Souza',\n",
       "  'Baião, Nelson Carneiro',\n",
       "  'Ecco, Roselene',\n",
       "  'Louzada, Mário Jefferson Quirino',\n",
       "  'Melo, Érica de Faria',\n",
       "  'Saldanha, Mariana Masseo',\n",
       "  'Triginelli, Marcela Viana',\n",
       "  'Lara, Leonardo José Camargos'],\n",
       " 'title': 'Effects of 1,25-dihydroxycholecalciferol and reduced vitamin D3 level on broiler performance and bone quality'}"
      ]
     },
     "execution_count": 8,
     "metadata": {},
     "output_type": "execute_result"
    }
   ],
   "source": [
    "get_doi_meta(\"10.1590/rbz4720170186\")"
   ]
  },
  {
   "cell_type": "markdown",
   "metadata": {},
   "source": [
    "Some other examples:"
   ]
  },
  {
   "cell_type": "code",
   "execution_count": 9,
   "metadata": {},
   "outputs": [
    {
     "data": {
      "text/plain": [
       "{'doi': '10.1590/2446-4740.02618',\n",
       " 'pid': 'S2446-47402018000200157',\n",
       " 'collection': 'scl',\n",
       " 'authors': ['Kauati, Adriana',\n",
       "  'Pereira, Wagner Coelho de Albuquerque',\n",
       "  'Campos, Marcello Luiz Rodrigues'],\n",
       " 'title': 'Mean scatterer space estimation from ultrasound signals combining singular spectral analysis and entropy'}"
      ]
     },
     "execution_count": 9,
     "metadata": {},
     "output_type": "execute_result"
    }
   ],
   "source": [
    "get_doi_meta(\"10.1590/2446-4740.02618\")"
   ]
  },
  {
   "cell_type": "code",
   "execution_count": 10,
   "metadata": {},
   "outputs": [
    {
     "data": {
      "text/plain": [
       "{'doi': '10.5028/jatm.v9i1.717',\n",
       " 'pid': 'S2175-91462017000100071',\n",
       " 'collection': 'scl',\n",
       " 'authors': ['Adami, Amirhossein', 'Mortazavi, Mahdi', 'Nosratollahi, Mehran'],\n",
       " 'title': 'A New Approach to Multidisciplinary Design Optimization of Solid Propulsion System Including Heat Transfer and Ablative Cooling'}"
      ]
     },
     "execution_count": 10,
     "metadata": {},
     "output_type": "execute_result"
    }
   ],
   "source": [
    "get_doi_meta(\"10.5028/jatm.v9i1.717\")"
   ]
  },
  {
   "cell_type": "code",
   "execution_count": 11,
   "metadata": {},
   "outputs": [
    {
     "data": {
      "text/plain": [
       "{'doi': '10.1590/1980-57642015DN92000002',\n",
       " 'pid': 'S1980-57642015000200093',\n",
       " 'collection': 'scl',\n",
       " 'authors': ['Jacinto, Alessandro Ferrari',\n",
       "  'Leite, Ananda Ghelfi Raza',\n",
       "  'Lima Neto, José Luiz de',\n",
       "  'Vidal, Edison Iglesias de Oliveira',\n",
       "  'Bôas, Paulo José Fortes Villas'],\n",
       " 'title': 'O ensino de demência nas escolas médicas: uma breve revisão'}"
      ]
     },
     "execution_count": 11,
     "metadata": {},
     "output_type": "execute_result"
    }
   ],
   "source": [
    "get_doi_meta(\"10.1590/1980-57642015DN92000002\")"
   ]
  },
  {
   "cell_type": "code",
   "execution_count": 12,
   "metadata": {},
   "outputs": [
    {
     "data": {
      "text/plain": [
       "{'doi': '10.4321/S1135-57272015000400009',\n",
       " 'pid': 'S1135-57272015000400009',\n",
       " 'collection': 'esp',\n",
       " 'authors': ['Montaño Remacha, Carmen',\n",
       "  'Gallardo García, Virtudes',\n",
       "  'Mochón Ochoa, M. Mar',\n",
       "  'García Fernández, Marcelino',\n",
       "  'Mayoral Cortés, José María',\n",
       "  'Ruiz Fernández, Josefa'],\n",
       " 'title': 'Outbreaks of Measles in Andalusia, Spain, during the Period 2010-2015'}"
      ]
     },
     "execution_count": 12,
     "metadata": {},
     "output_type": "execute_result"
    }
   ],
   "source": [
    "get_doi_meta(\"10.4321/S1135-57272015000400009\")"
   ]
  },
  {
   "cell_type": "markdown",
   "metadata": {},
   "source": [
    "## Getting metadata information from PID using [scielo.br](http://scielo.br)"
   ]
  },
  {
   "cell_type": "markdown",
   "metadata": {},
   "source": [
    "The [2018-07-23 experiments](experiments_2018-07-23.ipynb) had shown\n",
    "that we can get the DOI from the PID using the\n",
    "[www.scielo.br](http://www.scielo.br) web page\n",
    "using the XML debug output for a `sci_arttext` result,\n",
    "and it works even with the older \"ahead of print\" PID value:"
   ]
  },
  {
   "cell_type": "code",
   "execution_count": 13,
   "metadata": {},
   "outputs": [],
   "source": [
    "def get_scielo_php_etree_br(pid):\n",
    "    query = urlencode({\n",
    "        \"script\": \"sci_arttext\",\n",
    "        \"pid\": pid,\n",
    "        \"debug\": \"xml\",\n",
    "    })\n",
    "    try:\n",
    "        return etree.parse(\"http://www.scielo.br/scielo.php?\" + query)\n",
    "    except:\n",
    "        return None"
   ]
  },
  {
   "cell_type": "markdown",
   "metadata": {},
   "source": [
    "Let's test this for the PIDs we've seen in the previous section:"
   ]
  },
  {
   "cell_type": "code",
   "execution_count": 14,
   "metadata": {},
   "outputs": [],
   "source": [
    "pids = [\n",
    "    \"S1135-57272015000400009\",\n",
    "    \"S1980-57642015000200093\",\n",
    "    \"S2175-91462017000100071\",\n",
    "    \"S2446-47402018000200157\",\n",
    "    \"S1516-35982018000100506\",\n",
    "]"
   ]
  },
  {
   "cell_type": "code",
   "execution_count": 15,
   "metadata": {},
   "outputs": [
    {
     "data": {
      "text/plain": [
       "{'S1135-57272015000400009': None,\n",
       " 'S1980-57642015000200093': <lxml.etree._ElementTree at 0x7feccef51108>,\n",
       " 'S2175-91462017000100071': <lxml.etree._ElementTree at 0x7fecceff5848>,\n",
       " 'S2446-47402018000200157': <lxml.etree._ElementTree at 0x7fecceff57c8>,\n",
       " 'S1516-35982018000100506': <lxml.etree._ElementTree at 0x7fecceff5748>}"
      ]
     },
     "execution_count": 15,
     "metadata": {},
     "output_type": "execute_result"
    }
   ],
   "source": [
    "pts_dict = {pid: get_scielo_php_etree_br(pid) for pid in pids}\n",
    "pts_dict"
   ]
  },
  {
   "cell_type": "markdown",
   "metadata": {},
   "source": [
    "The first PID wasn't found (you can try\n",
    "[this link](http://www.scielo.br/scielo.php?script=sci_arttext&pid=S1135-57272015000400009&debug=xml)\n",
    "to check it was a 404 error),\n",
    "Actually, this PID is correct, but it's not in the Brazilian collection,\n",
    "so we should use the [scielo.isciii.es](http://scielo.isciii.es) as the base URL.\n",
    "An enhanced XML element tree getter is:"
   ]
  },
  {
   "cell_type": "code",
   "execution_count": 16,
   "metadata": {},
   "outputs": [],
   "source": [
    "def get_scielo_php_etree(pid, base_url=\"http://www.scielo.br\"):\n",
    "    query = urlencode({\n",
    "        \"script\": \"sci_arttext\",\n",
    "        \"pid\": pid,\n",
    "        \"debug\": \"xml\",\n",
    "    })\n",
    "    resp = urlopen(Request(\n",
    "        url=base_url + \"/scielo.php?\" + query,\n",
    "        headers={\n",
    "            \"User-Agent\": \"Normalizator!!!\",\n",
    "        },\n",
    "    ))\n",
    "    return etree.parse(BytesIO(resp.read().strip()))"
   ]
  },
  {
   "cell_type": "code",
   "execution_count": 17,
   "metadata": {},
   "outputs": [],
   "source": [
    "def get_scielo_php_etree_404_none(*args, **kwargs):\n",
    "    try:\n",
    "        return get_scielo_php_etree(*args, **kwargs)\n",
    "    except HTTPError as exc:\n",
    "        if exc.status == 404:\n",
    "            return None\n",
    "        raise"
   ]
  },
  {
   "cell_type": "markdown",
   "metadata": {},
   "source": [
    "*Info: we should use a modified `User-Agent` header\n",
    "because the original `Python-urllib/3.6` value\n",
    "crashes this server's request handler,\n",
    "and we should use the `io.BytesIO` because\n",
    "the [scielo.isciii.es](http://scielo.isciii.es) response\n",
    "has leading whitespaces that crashes the `lxml` parser.*"
   ]
  },
  {
   "cell_type": "code",
   "execution_count": 18,
   "metadata": {},
   "outputs": [
    {
     "data": {
      "text/plain": [
       "{'S1135-57272015000400009': <lxml.etree._ElementTree at 0x7fecceff5d48>,\n",
       " 'S1980-57642015000200093': <lxml.etree._ElementTree at 0x7feccef51108>,\n",
       " 'S2175-91462017000100071': <lxml.etree._ElementTree at 0x7fecceff5848>,\n",
       " 'S2446-47402018000200157': <lxml.etree._ElementTree at 0x7fecceff57c8>,\n",
       " 'S1516-35982018000100506': <lxml.etree._ElementTree at 0x7fecceff5748>}"
      ]
     },
     "execution_count": 18,
     "metadata": {},
     "output_type": "execute_result"
    }
   ],
   "source": [
    "pts_dict[pids[0]] = \\\n",
    "    get_scielo_php_etree_404_none(pids[0], base_url=\"http://scielo.isciii.es\")\n",
    "pts_dict"
   ]
  },
  {
   "cell_type": "markdown",
   "metadata": {},
   "source": [
    "Though these servers behave differently,\n",
    "their `//ARTICLE` result structure is the same:"
   ]
  },
  {
   "cell_type": "code",
   "execution_count": 19,
   "metadata": {},
   "outputs": [
    {
     "data": {
      "text/html": [
       "<div>\n",
       "<style scoped>\n",
       "    .dataframe tbody tr th:only-of-type {\n",
       "        vertical-align: middle;\n",
       "    }\n",
       "\n",
       "    .dataframe tbody tr th {\n",
       "        vertical-align: top;\n",
       "    }\n",
       "\n",
       "    .dataframe thead th {\n",
       "        text-align: right;\n",
       "    }\n",
       "</style>\n",
       "<table border=\"1\" class=\"dataframe\">\n",
       "  <thead>\n",
       "    <tr style=\"text-align: right;\">\n",
       "      <th></th>\n",
       "      <th>0</th>\n",
       "      <th>1</th>\n",
       "      <th>2</th>\n",
       "      <th>3</th>\n",
       "      <th>4</th>\n",
       "    </tr>\n",
       "  </thead>\n",
       "  <tbody>\n",
       "    <tr>\n",
       "      <th>AREASGEO</th>\n",
       "      <td></td>\n",
       "      <td></td>\n",
       "      <td></td>\n",
       "      <td></td>\n",
       "      <td></td>\n",
       "    </tr>\n",
       "    <tr>\n",
       "      <th>CITED</th>\n",
       "      <td></td>\n",
       "      <td></td>\n",
       "      <td></td>\n",
       "      <td></td>\n",
       "      <td></td>\n",
       "    </tr>\n",
       "    <tr>\n",
       "      <th>CLINICALTRIALS</th>\n",
       "      <td>NaN</td>\n",
       "      <td>0</td>\n",
       "      <td>0</td>\n",
       "      <td>0</td>\n",
       "      <td>0</td>\n",
       "    </tr>\n",
       "    <tr>\n",
       "      <th>CURR_DATE</th>\n",
       "      <td>20180802</td>\n",
       "      <td>20180802</td>\n",
       "      <td>20180802</td>\n",
       "      <td>20180802</td>\n",
       "      <td>20180802</td>\n",
       "    </tr>\n",
       "    <tr>\n",
       "      <th>DOCTOPIC</th>\n",
       "      <td>oa</td>\n",
       "      <td>ra</td>\n",
       "      <td>oa</td>\n",
       "      <td>oa</td>\n",
       "      <td>NaN</td>\n",
       "    </tr>\n",
       "    <tr>\n",
       "      <th>DOCTYPE</th>\n",
       "      <td>article</td>\n",
       "      <td>article</td>\n",
       "      <td>article</td>\n",
       "      <td>article</td>\n",
       "      <td>article</td>\n",
       "    </tr>\n",
       "    <tr>\n",
       "      <th>DOI</th>\n",
       "      <td>10.4321/S1135-57272015000400009</td>\n",
       "      <td>10.1590/1980-57642015DN92000002</td>\n",
       "      <td>10.5028/jatm.v9i1.717</td>\n",
       "      <td>10.1590/2446-4740.02618</td>\n",
       "      <td>10.1590/rbz4720170186</td>\n",
       "    </tr>\n",
       "    <tr>\n",
       "      <th>FPAGE</th>\n",
       "      <td>407</td>\n",
       "      <td>93</td>\n",
       "      <td>71</td>\n",
       "      <td>157</td>\n",
       "      <td>NaN</td>\n",
       "    </tr>\n",
       "    <tr>\n",
       "      <th>LPAGE</th>\n",
       "      <td>418</td>\n",
       "      <td>95</td>\n",
       "      <td>82</td>\n",
       "      <td>165</td>\n",
       "      <td>NaN</td>\n",
       "    </tr>\n",
       "    <tr>\n",
       "      <th>ORIGINALLANG</th>\n",
       "      <td>es</td>\n",
       "      <td>en</td>\n",
       "      <td>en</td>\n",
       "      <td>en</td>\n",
       "      <td>en</td>\n",
       "    </tr>\n",
       "    <tr>\n",
       "      <th>PDF</th>\n",
       "      <td>1</td>\n",
       "      <td>1</td>\n",
       "      <td>1</td>\n",
       "      <td>1</td>\n",
       "      <td>1</td>\n",
       "    </tr>\n",
       "    <tr>\n",
       "      <th>PID</th>\n",
       "      <td>S1135-57272015000400009</td>\n",
       "      <td>S1980-57642015000200093</td>\n",
       "      <td>S2175-91462017000100071</td>\n",
       "      <td>S2446-47402018000200157</td>\n",
       "      <td>S1516-35982018000100506</td>\n",
       "    </tr>\n",
       "    <tr>\n",
       "      <th>PROCESSDATE</th>\n",
       "      <td>20151103</td>\n",
       "      <td>20150702</td>\n",
       "      <td>20170324</td>\n",
       "      <td>20180619</td>\n",
       "      <td>20180417</td>\n",
       "    </tr>\n",
       "    <tr>\n",
       "      <th>PROJFAPESP</th>\n",
       "      <td>NaN</td>\n",
       "      <td></td>\n",
       "      <td></td>\n",
       "      <td></td>\n",
       "      <td></td>\n",
       "    </tr>\n",
       "    <tr>\n",
       "      <th>RELATED</th>\n",
       "      <td></td>\n",
       "      <td></td>\n",
       "      <td></td>\n",
       "      <td></td>\n",
       "      <td></td>\n",
       "    </tr>\n",
       "    <tr>\n",
       "      <th>TEXTLANG</th>\n",
       "      <td>es</td>\n",
       "      <td>en</td>\n",
       "      <td>en</td>\n",
       "      <td>en</td>\n",
       "      <td>en</td>\n",
       "    </tr>\n",
       "    <tr>\n",
       "      <th>ahpdate</th>\n",
       "      <td>NaN</td>\n",
       "      <td>NaN</td>\n",
       "      <td>NaN</td>\n",
       "      <td>NaN</td>\n",
       "      <td>20180423</td>\n",
       "    </tr>\n",
       "  </tbody>\n",
       "</table>\n",
       "</div>"
      ],
      "text/plain": [
       "                                              0  \\\n",
       "AREASGEO                                          \n",
       "CITED                                             \n",
       "CLINICALTRIALS                              NaN   \n",
       "CURR_DATE                              20180802   \n",
       "DOCTOPIC                                     oa   \n",
       "DOCTYPE                                 article   \n",
       "DOI             10.4321/S1135-57272015000400009   \n",
       "FPAGE                                       407   \n",
       "LPAGE                                       418   \n",
       "ORIGINALLANG                                 es   \n",
       "PDF                                           1   \n",
       "PID                     S1135-57272015000400009   \n",
       "PROCESSDATE                            20151103   \n",
       "PROJFAPESP                                  NaN   \n",
       "RELATED                                           \n",
       "TEXTLANG                                     es   \n",
       "ahpdate                                     NaN   \n",
       "\n",
       "                                              1                        2  \\\n",
       "AREASGEO                                                                   \n",
       "CITED                                                                      \n",
       "CLINICALTRIALS                                0                        0   \n",
       "CURR_DATE                              20180802                 20180802   \n",
       "DOCTOPIC                                     ra                       oa   \n",
       "DOCTYPE                                 article                  article   \n",
       "DOI             10.1590/1980-57642015DN92000002    10.5028/jatm.v9i1.717   \n",
       "FPAGE                                        93                       71   \n",
       "LPAGE                                        95                       82   \n",
       "ORIGINALLANG                                 en                       en   \n",
       "PDF                                           1                        1   \n",
       "PID                     S1980-57642015000200093  S2175-91462017000100071   \n",
       "PROCESSDATE                            20150702                 20170324   \n",
       "PROJFAPESP                                                                 \n",
       "RELATED                                                                    \n",
       "TEXTLANG                                     en                       en   \n",
       "ahpdate                                     NaN                      NaN   \n",
       "\n",
       "                                      3                        4  \n",
       "AREASGEO                                                          \n",
       "CITED                                                             \n",
       "CLINICALTRIALS                        0                        0  \n",
       "CURR_DATE                      20180802                 20180802  \n",
       "DOCTOPIC                             oa                      NaN  \n",
       "DOCTYPE                         article                  article  \n",
       "DOI             10.1590/2446-4740.02618    10.1590/rbz4720170186  \n",
       "FPAGE                               157                      NaN  \n",
       "LPAGE                               165                      NaN  \n",
       "ORIGINALLANG                         en                       en  \n",
       "PDF                                   1                        1  \n",
       "PID             S2446-47402018000200157  S1516-35982018000100506  \n",
       "PROCESSDATE                    20180619                 20180417  \n",
       "PROJFAPESP                                                        \n",
       "RELATED                                                           \n",
       "TEXTLANG                             en                       en  \n",
       "ahpdate                             NaN                 20180423  "
      ]
     },
     "execution_count": 19,
     "metadata": {},
     "output_type": "execute_result"
    }
   ],
   "source": [
    "data_from_pids = pd.DataFrame(dict(tree.xpath(\"//ARTICLE\")[0].attrib)\n",
    "                              for tree in pts_dict.values())\n",
    "data_from_pids.T"
   ]
  },
  {
   "cell_type": "markdown",
   "metadata": {},
   "source": [
    "That works, but for general use, we would have to know\n",
    "the collection for the given PID input,\n",
    "and the URLs for its collection.\n",
    "\n",
    "The http://articlemeta.scielo.org/api/v1/collection/identifiers/\n",
    "JSON has the collections' domains,\n",
    "two of them had been \"summoned\" here."
   ]
  },
  {
   "cell_type": "markdown",
   "metadata": {},
   "source": [
    "## Single-level crawling on [search.scielo.org](https://search.scielo.org)"
   ]
  },
  {
   "cell_type": "markdown",
   "metadata": {},
   "source": [
    "There's another information in the `first_item`\n",
    "we've got from the SciELO's search engine:\n",
    "the link to the article."
   ]
  },
  {
   "cell_type": "code",
   "execution_count": 20,
   "metadata": {},
   "outputs": [
    {
     "data": {
      "text/plain": [
       "<a href=\"http://www.scielo.br/scielo.php?script=sci_arttext&amp;pid=S1516-35982018000100506&amp;lang=pt\" target=\"_blank\" title=\"Effects of 1,25-dihydroxycholecalciferol and reduced vitamin D3 level on broiler performance and bone quality\">\n",
       "<strong class=\"title\" id=\"title-S1516-35982018000100506\">Effects of 1,25-dihydroxycholecalciferol and reduced vitamin D3 level on broiler performance and bone quality</strong>\n",
       "</a>"
      ]
     },
     "execution_count": 20,
     "metadata": {},
     "output_type": "execute_result"
    }
   ],
   "source": [
    "title_link = first_item.select(\".line a:nth-of-type(1)\")[0]\n",
    "title_link # We've already seen this to get the article title"
   ]
  },
  {
   "cell_type": "markdown",
   "metadata": {},
   "source": [
    "It'll have the correct domain and we can use that link to easily build the debug XML URL:"
   ]
  },
  {
   "cell_type": "code",
   "execution_count": 21,
   "metadata": {},
   "outputs": [
    {
     "data": {
      "text/plain": [
       "'http://www.scielo.br/scielo.php?script=sci_arttext&pid=S1516-35982018000100506&lang=pt&debug=xml'"
      ]
     },
     "execution_count": 21,
     "metadata": {},
     "output_type": "execute_result"
    }
   ],
   "source": [
    "title_link.attrs[\"href\"] + \"&debug=xml\""
   ]
  },
  {
   "cell_type": "markdown",
   "metadata": {},
   "source": [
    "Also, we can get the data from that search using the actual PID\n",
    "(not the old one) by prefixing the search string with `PID:`."
   ]
  },
  {
   "cell_type": "code",
   "execution_count": 22,
   "metadata": {},
   "outputs": [],
   "source": [
    "def search_article(*, doi=None, pid=None):\n",
    "    if bool(doi) == bool(pid):\n",
    "        raise ValueError(\"The input should be either a DOI or a PID\")\n",
    "    search_string = \"DOI: \" + doi if doi else \"PID: \" + pid\n",
    "    query = urlencode({\"q\": search_string})\n",
    "    resp = urlopen(\"https://search.scielo.org/?\" + query)\n",
    "    bsoup = BeautifulSoup(resp.read(), \"lxml\")\n",
    "    item = bsoup.select(\".results .item\")[0]\n",
    "    doi_span = item.select(\".DOIResults\")\n",
    "    doi_ctx = doi_span[0].text if doi_span else item.text\n",
    "    pid, collection = item.attrs[\"id\"].rsplit(\"-\", 1)\n",
    "    title_link = item.select(\".line a:nth-of-type(1)\")[0]\n",
    "    return {\n",
    "        \"doi\": re.search(\"[\\s>](10.[0-9.]+/[^< \\n]+)\", doi_ctx).groups()[0],\n",
    "        \"pid\": pid,\n",
    "        \"collection\": collection,\n",
    "        \"authors\": [author.text.strip() for author in item.select(\".author\")],\n",
    "        \"title\": title_link.attrs[\"title\"],\n",
    "        \"url\": title_link.attrs[\"href\"],\n",
    "    }"
   ]
  },
  {
   "cell_type": "code",
   "execution_count": 23,
   "metadata": {},
   "outputs": [],
   "source": [
    "def get_article(*, doi=None, pid=None):\n",
    "    try:\n",
    "        art_info = search_article(doi=doi, pid=pid)\n",
    "    except (HTTPError, IndexError):\n",
    "        return None\n",
    "    try:\n",
    "        resp = urlopen(Request(url=art_info[\"url\"] + \"&debug=xml\",\n",
    "                               headers={\"User-Agent\": \"Python\"}))\n",
    "        art_info[\"etree\"] = etree.parse(BytesIO(resp.read().strip()))\n",
    "        art_info[\"attr\"] = dict(art_info[\"etree\"].xpath(\"//ARTICLE\")[0].attrib)\n",
    "    except (HTTPError, etree.XMLSyntaxError):\n",
    "        pass\n",
    "    return art_info"
   ]
  },
  {
   "cell_type": "markdown",
   "metadata": {},
   "source": [
    "This way we can get the same information from either the PID or the DOI:"
   ]
  },
  {
   "cell_type": "code",
   "execution_count": 24,
   "metadata": {},
   "outputs": [
    {
     "data": {
      "text/plain": [
       "{'doi': '10.1590/rbz4720170186',\n",
       " 'pid': 'S1516-35982018000100506',\n",
       " 'collection': 'scl',\n",
       " 'authors': ['Castro, Fernanda Lima de Souza',\n",
       "  'Baião, Nelson Carneiro',\n",
       "  'Ecco, Roselene',\n",
       "  'Louzada, Mário Jefferson Quirino',\n",
       "  'Melo, Érica de Faria',\n",
       "  'Saldanha, Mariana Masseo',\n",
       "  'Triginelli, Marcela Viana',\n",
       "  'Lara, Leonardo José Camargos'],\n",
       " 'title': 'Effects of 1,25-dihydroxycholecalciferol and reduced vitamin D3 level on broiler performance and bone quality',\n",
       " 'url': 'http://www.scielo.br/scielo.php?script=sci_arttext&pid=S1516-35982018000100506&lang=pt',\n",
       " 'etree': <lxml.etree._ElementTree at 0x7feccf0a6748>,\n",
       " 'attr': {'TEXTLANG': 'en',\n",
       "  'ORIGINALLANG': 'en',\n",
       "  'PID': 'S1516-35982018000100506',\n",
       "  'DOCTYPE': 'article',\n",
       "  'RELATED': '',\n",
       "  'CITED': '',\n",
       "  'PROJFAPESP': '',\n",
       "  'CLINICALTRIALS': ' 0',\n",
       "  'AREASGEO': '',\n",
       "  'PROCESSDATE': '20180417',\n",
       "  'CURR_DATE': '20180802',\n",
       "  'ahpdate': '20180423',\n",
       "  'DOI': '10.1590/rbz4720170186',\n",
       "  'PDF': '1'}}"
      ]
     },
     "execution_count": 24,
     "metadata": {},
     "output_type": "execute_result"
    }
   ],
   "source": [
    "get_article(pid=\"S1516-35982018000100506\")"
   ]
  },
  {
   "cell_type": "code",
   "execution_count": 25,
   "metadata": {},
   "outputs": [
    {
     "data": {
      "text/plain": [
       "{'doi': '10.1590/rbz4720170186',\n",
       " 'pid': 'S1516-35982018000100506',\n",
       " 'collection': 'scl',\n",
       " 'authors': ['Castro, Fernanda Lima de Souza',\n",
       "  'Baião, Nelson Carneiro',\n",
       "  'Ecco, Roselene',\n",
       "  'Louzada, Mário Jefferson Quirino',\n",
       "  'Melo, Érica de Faria',\n",
       "  'Saldanha, Mariana Masseo',\n",
       "  'Triginelli, Marcela Viana',\n",
       "  'Lara, Leonardo José Camargos'],\n",
       " 'title': 'Effects of 1,25-dihydroxycholecalciferol and reduced vitamin D3 level on broiler performance and bone quality',\n",
       " 'url': 'http://www.scielo.br/scielo.php?script=sci_arttext&pid=S1516-35982018000100506&lang=pt',\n",
       " 'etree': <lxml.etree._ElementTree at 0x7feccd9ed288>,\n",
       " 'attr': {'TEXTLANG': 'en',\n",
       "  'ORIGINALLANG': 'en',\n",
       "  'PID': 'S1516-35982018000100506',\n",
       "  'DOCTYPE': 'article',\n",
       "  'RELATED': '',\n",
       "  'CITED': '',\n",
       "  'PROJFAPESP': '',\n",
       "  'CLINICALTRIALS': ' 0',\n",
       "  'AREASGEO': '',\n",
       "  'PROCESSDATE': '20180417',\n",
       "  'CURR_DATE': '20180802',\n",
       "  'ahpdate': '20180423',\n",
       "  'DOI': '10.1590/rbz4720170186',\n",
       "  'PDF': '1'}}"
      ]
     },
     "execution_count": 25,
     "metadata": {},
     "output_type": "execute_result"
    }
   ],
   "source": [
    "get_article(doi=\"10.1590/rbz4720170186\")"
   ]
  },
  {
   "cell_type": "markdown",
   "metadata": {},
   "source": [
    "However, the [www.scielosp.org](http://www.scielosp.org) source\n",
    "ignores the `debug=xml` argument,\n",
    "and that will be the new default in the other collection links."
   ]
  },
  {
   "cell_type": "code",
   "execution_count": 26,
   "metadata": {},
   "outputs": [
    {
     "data": {
      "text/plain": [
       "{'doi': '10.1590/1807-57622016.0103',\n",
       " 'pid': 'S1414-32832017000200349',\n",
       " 'collection': 'spa',\n",
       " 'authors': ['Orlandin, Eduardo Antônio de Sousa',\n",
       "  'Moscovici, Leonardo',\n",
       "  'Franzon, Ana Carolina Arruda',\n",
       "  'Passos, Afonso Dinis Costa',\n",
       "  'Fabbro, Amaury Lelis Dal',\n",
       "  'Vieira, Elisabeth Meloni',\n",
       "  'Bellissimo-Rodrigues, Fernando',\n",
       "  'Gusso, Gustavo Diniz Ferreira',\n",
       "  'Ferreira, Janise Braga Barros',\n",
       "  'Marques, João Mazzoncini de Azevedo',\n",
       "  'Ribeiro, Luciana Cisoto',\n",
       "  'Santos, Luciane Loures dos',\n",
       "  'Demarzo, Marcelo Marcos Piva',\n",
       "  'Fontão, Paulo Celso Nogueira',\n",
       "  'Souza, João Paulo'],\n",
       " 'title': 'A research agenda for Primary Health Care in the state of Sao Paulo, Brazil: the ELECT study',\n",
       " 'url': 'http://www.scielosp.org/scielo.php?script=sci_arttext&pid=S1414-32832017000200349&lang=pt'}"
      ]
     },
     "execution_count": 26,
     "metadata": {},
     "output_type": "execute_result"
    }
   ],
   "source": [
    "get_article(pid=\"S1414-32832017000200349\")"
   ]
  },
  {
   "cell_type": "markdown",
   "metadata": {},
   "source": [
    "And the queried search engine isn't indexed by the ahead of print PID:"
   ]
  },
  {
   "cell_type": "code",
   "execution_count": 27,
   "metadata": {},
   "outputs": [],
   "source": [
    "get_article(pid=\"S1414-32832016005024105\")"
   ]
  }
 ],
 "metadata": {
  "kernelspec": {
   "display_name": "Python 3",
   "language": "python",
   "name": "python3"
  },
  "language_info": {
   "codemirror_mode": {
    "name": "ipython",
    "version": 3
   },
   "file_extension": ".py",
   "mimetype": "text/x-python",
   "name": "python",
   "nbconvert_exporter": "python",
   "pygments_lexer": "ipython3",
   "version": "3.6.6"
  }
 },
 "nbformat": 4,
 "nbformat_minor": 2
}
