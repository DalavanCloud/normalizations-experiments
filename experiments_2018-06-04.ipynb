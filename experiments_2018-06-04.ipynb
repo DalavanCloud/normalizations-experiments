{
 "cells": [
  {
   "cell_type": "markdown",
   "metadata": {},
   "source": [
    "# Using scielo-clea to analyze a XML"
   ]
  },
  {
   "cell_type": "markdown",
   "metadata": {},
   "source": [
    "The version in this example is [scielo-clea v0.1.0](https://pypi.org/project/scielo-clea/0.1.0/)."
   ]
  },
  {
   "cell_type": "code",
   "execution_count": 1,
   "metadata": {},
   "outputs": [],
   "source": [
    "from clea.core import Article\n",
    "from clea.join import aff_contrib_inner_join"
   ]
  },
  {
   "cell_type": "markdown",
   "metadata": {},
   "source": [
    "This XML has a `<contrib>` with two `<xref>`, one for each `<aff>` available:"
   ]
  },
  {
   "cell_type": "code",
   "execution_count": 2,
   "metadata": {},
   "outputs": [
    {
     "data": {
      "text/plain": [
       "[{'institution_orgname': 'Smithsonian Tropical Research Institute',\n",
       "  'journal_publisher_id': 'zool',\n",
       "  'addr_state': '',\n",
       "  'issn_epub': '1984-4689',\n",
       "  'xref_aff': 'aff1; aff2',\n",
       "  'contrib_role': '',\n",
       "  'xref_aff_text': '1; 2',\n",
       "  'publisher_name': 'Sociedade Brasileira de Zoologia',\n",
       "  'institution_original': 'Smithsonian Tropical Research Institute, Box 0843-03092, Balboa, Republic of Panama.',\n",
       "  'contrib_prefix': '',\n",
       "  'journal_title': 'Zoologia (Curitiba)',\n",
       "  'xref_corresp_text': '*',\n",
       "  'addr_city': 'Balboa',\n",
       "  'issn_ppub': '1984-4670',\n",
       "  'aff_text': '1 Smithsonian Tropical Research Institute, Box 0843-03092, Balboa, Republic of Panama. Smithsonian Tropical Research Institute Smithsonian Tropical Research Institute Balboa Panama',\n",
       "  'contrib_type': 'author',\n",
       "  'article_title': 'Thermal tolerance of the zoea I stage of four Neotropical crab species (Crustacea: Decapoda)',\n",
       "  'contrib_given_names': 'Adriana P.',\n",
       "  'label': '1',\n",
       "  'institution_orgdiv1': '',\n",
       "  'contrib_degrees': '',\n",
       "  'contrib_bio': '',\n",
       "  'contrib_suffix': '',\n",
       "  'addr_postal_code': '',\n",
       "  'aff_id': 'aff1',\n",
       "  'article_doi': '10.3897/zoologia.35.e14641',\n",
       "  'addr_country_code': 'PA',\n",
       "  'institution_orgdiv2': '',\n",
       "  'phone': '',\n",
       "  'contrib_name': 'Rebolledo Adriana P.',\n",
       "  'article_publisher_id': '',\n",
       "  'contrib_surname': 'Rebolledo',\n",
       "  'aff_email': '',\n",
       "  'journal_nlm_ta': '',\n",
       "  'contrib_orcid': '0000-0003-0711-3588',\n",
       "  'xref_corresp': 'c1',\n",
       "  'contrib_email': '',\n",
       "  'addr_country': 'Panama',\n",
       "  'institution_orgname_rewritten': 'Smithsonian Tropical Research Institute'},\n",
       " {'institution_orgname': 'Smithsonian Tropical Research Institute',\n",
       "  'journal_publisher_id': 'zool',\n",
       "  'addr_state': '',\n",
       "  'issn_epub': '1984-4689',\n",
       "  'xref_aff': 'aff1',\n",
       "  'contrib_role': '',\n",
       "  'xref_aff_text': '1',\n",
       "  'publisher_name': 'Sociedade Brasileira de Zoologia',\n",
       "  'institution_original': 'Smithsonian Tropical Research Institute, Box 0843-03092, Balboa, Republic of Panama.',\n",
       "  'contrib_prefix': '',\n",
       "  'journal_title': 'Zoologia (Curitiba)',\n",
       "  'xref_corresp_text': '',\n",
       "  'addr_city': 'Balboa',\n",
       "  'issn_ppub': '1984-4670',\n",
       "  'aff_text': '1 Smithsonian Tropical Research Institute, Box 0843-03092, Balboa, Republic of Panama. Smithsonian Tropical Research Institute Smithsonian Tropical Research Institute Balboa Panama',\n",
       "  'contrib_type': 'author',\n",
       "  'article_title': 'Thermal tolerance of the zoea I stage of four Neotropical crab species (Crustacea: Decapoda)',\n",
       "  'contrib_given_names': 'Rachel',\n",
       "  'label': '1',\n",
       "  'institution_orgdiv1': '',\n",
       "  'contrib_degrees': '',\n",
       "  'contrib_bio': '',\n",
       "  'contrib_suffix': '',\n",
       "  'addr_postal_code': '',\n",
       "  'aff_id': 'aff1',\n",
       "  'article_doi': '10.3897/zoologia.35.e14641',\n",
       "  'addr_country_code': 'PA',\n",
       "  'institution_orgdiv2': '',\n",
       "  'phone': '',\n",
       "  'contrib_name': 'Collin Rachel',\n",
       "  'article_publisher_id': '',\n",
       "  'contrib_surname': 'Collin',\n",
       "  'aff_email': '',\n",
       "  'journal_nlm_ta': '',\n",
       "  'contrib_orcid': '0000-0001-5103-4460',\n",
       "  'xref_corresp': '',\n",
       "  'contrib_email': '',\n",
       "  'addr_country': 'Panama',\n",
       "  'institution_orgname_rewritten': 'Smithsonian Tropical Research Institute'},\n",
       " {'institution_orgname': 'Monash University',\n",
       "  'journal_publisher_id': 'zool',\n",
       "  'addr_state': '',\n",
       "  'issn_epub': '1984-4689',\n",
       "  'xref_aff': 'aff1; aff2',\n",
       "  'contrib_role': '',\n",
       "  'xref_aff_text': '1; 2',\n",
       "  'publisher_name': 'Sociedade Brasileira de Zoologia',\n",
       "  'institution_original': 'School of Biological Sciences, Monash University, Melbourne Vic. 3800, Australia.',\n",
       "  'contrib_prefix': '',\n",
       "  'journal_title': 'Zoologia (Curitiba)',\n",
       "  'xref_corresp_text': '*',\n",
       "  'addr_city': 'Melbourne',\n",
       "  'issn_ppub': '1984-4670',\n",
       "  'aff_text': '2 School of Biological Sciences, Monash University, Melbourne Vic. 3800, Australia. Monash University School of Biological Sciences Monash University Melbourne Australia',\n",
       "  'contrib_type': 'author',\n",
       "  'article_title': 'Thermal tolerance of the zoea I stage of four Neotropical crab species (Crustacea: Decapoda)',\n",
       "  'contrib_given_names': 'Adriana P.',\n",
       "  'label': '2',\n",
       "  'institution_orgdiv1': 'School of Biological Sciences',\n",
       "  'contrib_degrees': '',\n",
       "  'contrib_bio': '',\n",
       "  'contrib_suffix': '',\n",
       "  'addr_postal_code': '',\n",
       "  'aff_id': 'aff2',\n",
       "  'article_doi': '10.3897/zoologia.35.e14641',\n",
       "  'addr_country_code': 'AU',\n",
       "  'institution_orgdiv2': '',\n",
       "  'phone': '',\n",
       "  'contrib_name': 'Rebolledo Adriana P.',\n",
       "  'article_publisher_id': '',\n",
       "  'contrib_surname': 'Rebolledo',\n",
       "  'aff_email': '',\n",
       "  'journal_nlm_ta': '',\n",
       "  'contrib_orcid': '0000-0003-0711-3588',\n",
       "  'xref_corresp': 'c1',\n",
       "  'contrib_email': '',\n",
       "  'addr_country': 'Australia',\n",
       "  'institution_orgname_rewritten': 'Monash University'}]"
      ]
     },
     "execution_count": 2,
     "metadata": {},
     "output_type": "execute_result"
    }
   ],
   "source": [
    "aff_contrib_inner_join(Article(\"1984-4689-zool-35-e14641.xml\"))"
   ]
  },
  {
   "cell_type": "markdown",
   "metadata": {},
   "source": [
    "It's pretty hard to extract high level knowledge just by looking at huge JSON-like representations like that. The goal should be to let some algorithm help on that."
   ]
  },
  {
   "cell_type": "markdown",
   "metadata": {},
   "source": [
    "# Generate a CSV with all information from `scielo-clea`"
   ]
  },
  {
   "cell_type": "code",
   "execution_count": 3,
   "metadata": {},
   "outputs": [],
   "source": [
    "import collections, csv, pathlib, multiprocessing"
   ]
  },
  {
   "cell_type": "code",
   "execution_count": 4,
   "metadata": {},
   "outputs": [],
   "source": [
    "def path2rows(path):\n",
    "    try:\n",
    "        return aff_contrib_inner_join(Article(str(path)))\n",
    "    except:\n",
    "        return []"
   ]
  },
  {
   "cell_type": "code",
   "execution_count": 5,
   "metadata": {},
   "outputs": [],
   "source": [
    "def multiprocess_row_generator(paths):\n",
    "    with multiprocessing.Pool() as pool:\n",
    "        for rows in pool.imap(path2rows, paths):\n",
    "            for row in rows:\n",
    "                yield row"
   ]
  },
  {
   "cell_type": "code",
   "execution_count": 6,
   "metadata": {},
   "outputs": [
    {
     "name": "stdout",
     "output_type": "stream",
     "text": [
      "CPU times: user 6.99 s, sys: 934 ms, total: 7.92 s\n",
      "Wall time: 11min 32s\n"
     ]
    }
   ],
   "source": [
    "%%time\n",
    "paths = pathlib.Path(\"selecao_xml_br\").glob(\"**/*.xml\")\n",
    "rows = iter(multiprocess_row_generator(paths))\n",
    "row = next(rows)\n",
    "header = sorted(row.keys())\n",
    "with open(\"inner_join_2018-06-04.csv\", \"w\") as output_file:\n",
    "    cw = csv.writer(output_file)\n",
    "    cw.writerow(header)\n",
    "    cw.writerow(row[col_name] for col_name in header)\n",
    "    for row in rows:\n",
    "        cw.writerow(row[col_name] for col_name in header)"
   ]
  },
  {
   "cell_type": "markdown",
   "metadata": {},
   "source": [
    "The generated `inner_join_2018-06-04.csv` had 74024497 bytes (71 MB)"
   ]
  }
 ],
 "metadata": {
  "kernelspec": {
   "display_name": "Python 3",
   "language": "python",
   "name": "python3"
  },
  "language_info": {
   "codemirror_mode": {
    "name": "ipython",
    "version": 3
   },
   "file_extension": ".py",
   "mimetype": "text/x-python",
   "name": "python",
   "nbconvert_exporter": "python",
   "pygments_lexer": "ipython3",
   "version": "3.6.5"
  }
 },
 "nbformat": 4,
 "nbformat_minor": 2
}
