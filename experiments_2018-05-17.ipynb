{
 "cells": [
  {
   "cell_type": "code",
   "execution_count": 1,
   "metadata": {},
   "outputs": [],
   "source": [
    "from collections import defaultdict\n",
    "from functools import partial\n",
    "from lxml import etree\n",
    "from unidecode import unidecode\n",
    "import Levenshtein as lev\n",
    "import numpy as np\n",
    "import regex"
   ]
  },
  {
   "cell_type": "markdown",
   "metadata": {},
   "source": [
    "### Getting tags that looks like `<article-id>`, `<aff>` and `<contrib>`"
   ]
  },
  {
   "cell_type": "code",
   "execution_count": 2,
   "metadata": {},
   "outputs": [],
   "source": [
    "document_regex_searchers = {k: regex.compile(v).search for k, v in [\n",
    "    (\"article-id\", r\"/(?:front){e<=1}/.*/(?:article-id){e<=2}$\"),\n",
    "    (\"contrib\", r\"/(?:front){e<=1}/(?:article-meta){e<=4}/.*/(?:contrib){e<=2}$\"),\n",
    "    (\"aff\", r\"/(?:front){e<=1}/(?:article-meta){e<=4}/.*/(?:aff){e<=1}$\"),\n",
    "]}"
   ]
  },
  {
   "cell_type": "code",
   "execution_count": 3,
   "metadata": {},
   "outputs": [],
   "source": [
    "def etree_tag_line_gen(root, start=\"\"):\n",
    "    start += \"/\" + root.tag\n",
    "    yield start, root\n",
    "    for node in root.iterchildren():\n",
    "        yield from etree_tag_line_gen(node, start)"
   ]
  },
  {
   "cell_type": "code",
   "execution_count": 4,
   "metadata": {},
   "outputs": [],
   "source": [
    "def get_article_id_contrib_aff(element):\n",
    "    result = defaultdict(list)\n",
    "    for tag_line, element in etree_tag_line_gen(element):\n",
    "        for k, searcher in document_regex_searchers.items():\n",
    "            if searcher(tag_line):\n",
    "                result[k].append(element)\n",
    "    return result"
   ]
  },
  {
   "cell_type": "code",
   "execution_count": 5,
   "metadata": {},
   "outputs": [],
   "source": [
    "with open(\"selecao_xml_br/rbort/v48n1/0102-3616-rbort-48-01-0041.xml\") as f:\n",
    "    doctree = etree.parse(f)"
   ]
  },
  {
   "cell_type": "code",
   "execution_count": 6,
   "metadata": {},
   "outputs": [
    {
     "data": {
      "text/plain": [
       "{'article-id': 2, 'contrib': 1, 'aff': 1}"
      ]
     },
     "execution_count": 6,
     "metadata": {},
     "output_type": "execute_result"
    }
   ],
   "source": [
    "{k: len(v) for k, v in get_article_id_contrib_aff(doctree.getroot()).items()}"
   ]
  },
  {
   "cell_type": "markdown",
   "metadata": {},
   "source": [
    "### Creating a Levenshtein distance approximate `__getitem__`"
   ]
  },
  {
   "cell_type": "code",
   "execution_count": 7,
   "metadata": {},
   "outputs": [
    {
     "data": {
      "text/plain": [
       "'aid'"
      ]
     },
     "execution_count": 7,
     "metadata": {},
     "output_type": "execute_result"
    }
   ],
   "source": [
    "min([\"aidy\", \"di\", \"aid\", \"prid\", \"xp\", \"b\"], key=partial(lev.distance, \"id\"))"
   ]
  },
  {
   "cell_type": "code",
   "execution_count": 8,
   "metadata": {},
   "outputs": [],
   "source": [
    "def get_lev(dict_or_node, key):\n",
    "    return dict_or_node.get(min(dict_or_node.keys(),\n",
    "                                key=partial(lev.distance, key)))"
   ]
  },
  {
   "cell_type": "code",
   "execution_count": 9,
   "metadata": {},
   "outputs": [
    {
     "data": {
      "text/plain": [
       "'aff1'"
      ]
     },
     "execution_count": 9,
     "metadata": {},
     "output_type": "execute_result"
    }
   ],
   "source": [
    "branches = get_article_id_contrib_aff(doctree.getroot())\n",
    "first_aff = branches[\"aff\"][0]\n",
    "get_lev(first_aff, \"id\")"
   ]
  },
  {
   "cell_type": "markdown",
   "metadata": {},
   "source": [
    "### Getting the `rid` value from approximate `<xref ref-type=\"aff\" rid=\"...\">`"
   ]
  },
  {
   "cell_type": "code",
   "execution_count": 10,
   "metadata": {},
   "outputs": [],
   "source": [
    "def xml_attr_cleanup(name):\n",
    "    return regex.sub(\"/@\", \"\", unidecode(name))"
   ]
  },
  {
   "cell_type": "code",
   "execution_count": 11,
   "metadata": {},
   "outputs": [],
   "source": [
    "def etree_line_gen(branch, path=\"\"):\n",
    "    path += \"/\" + branch.tag\n",
    "    for k, v in sorted(branch.items()):\n",
    "        path += f\"@{k}={xml_attr_cleanup(v)}\"\n",
    "    if branch.attrib: # We don't need an empty node entry\n",
    "        yield path, branch\n",
    "    for node in branch.xpath(\"node()\"):\n",
    "        if not isinstance(node, str):\n",
    "            yield from etree_line_gen(node, path)\n",
    "        else:\n",
    "            if node.strip():\n",
    "                yield f\"{path}#text\", node"
   ]
  },
  {
   "cell_type": "markdown",
   "metadata": {},
   "source": [
    "Is this node a text?"
   ]
  },
  {
   "cell_type": "code",
   "execution_count": 12,
   "metadata": {},
   "outputs": [
    {
     "name": "stdout",
     "output_type": "stream",
     "text": [
      "/contrib@contrib-type=author                                     # False\n",
      "/contrib@contrib-type=author/name/surname#text                   # True\n",
      "/contrib@contrib-type=author/name/given-names#text               # True\n",
      "/contrib@contrib-type=author/xref@ref-type=aff@rid=aff1          # False\n",
      "/contrib@contrib-type=author/xref@ref-type=aff@rid=aff1#text     # True\n",
      "/contrib@contrib-type=author/xref@ref-type=corresp@rid=cor1      # False\n",
      "/contrib@contrib-type=author/xref@ref-type=corresp@rid=cor1#text # True\n"
     ]
    }
   ],
   "source": [
    "first_contrib = branches[\"contrib\"][0]\n",
    "for path, node in etree_line_gen(first_contrib):\n",
    "    print(f\"{path:64} # {isinstance(node, str)}\")"
   ]
  },
  {
   "cell_type": "code",
   "execution_count": 13,
   "metadata": {},
   "outputs": [],
   "source": [
    "xref_aff_regex = regex.compile(r\"(?b)/(?:xref){e<=1}[^/]*@(?:ref-type){e<=2}=(?:aff){e<=1}(?:$|@)\")"
   ]
  },
  {
   "cell_type": "code",
   "execution_count": 14,
   "metadata": {},
   "outputs": [],
   "source": [
    "first_contrib_pnpairs = list(etree_line_gen(first_contrib))\n",
    "first_contrib_lines, first_contrib_nodes = zip(*first_contrib_pnpairs)\n",
    "first_contrib_lines_str = \"\\n\".join(first_contrib_lines)"
   ]
  },
  {
   "cell_type": "code",
   "execution_count": 15,
   "metadata": {},
   "outputs": [
    {
     "data": {
      "text/plain": [
       "array([ 29,  76, 127, 183, 244, 304, 369])"
      ]
     },
     "execution_count": 15,
     "metadata": {},
     "output_type": "execute_result"
    }
   ],
   "source": [
    "first_contrib_lines_ends = np.cumsum([len(p) + 1 for p in first_contrib_lines])\n",
    "first_contrib_lines_ends"
   ]
  },
  {
   "cell_type": "code",
   "execution_count": 16,
   "metadata": {},
   "outputs": [
    {
     "data": {
      "text/plain": [
       "'aff1'"
      ]
     },
     "execution_count": 16,
     "metadata": {},
     "output_type": "execute_result"
    }
   ],
   "source": [
    "fcls_match = xref_aff_regex.search(first_contrib_lines_str)\n",
    "fcls_line_idx = np.where(first_contrib_lines_ends > fcls_match.start())[0][0]\n",
    "get_lev(first_contrib_nodes[fcls_line_idx].attrib, \"rid\")"
   ]
  },
  {
   "cell_type": "markdown",
   "metadata": {},
   "source": [
    "### Split the node generator for text and attribute lookup"
   ]
  },
  {
   "cell_type": "code",
   "execution_count": 17,
   "metadata": {},
   "outputs": [],
   "source": [
    "def etree_line_text_node_gen(branch, path=\"\"):\n",
    "    path += \"/\" + branch.tag\n",
    "    for k, v in sorted(branch.items()):\n",
    "        path += f\"@{k}={xml_attr_cleanup(v)}\"\n",
    "    for node in branch.xpath(\"node()\"):\n",
    "        if not isinstance(node, str):\n",
    "            yield from etree_line_text_node_gen(node, path)\n",
    "        elif node.strip():\n",
    "            yield path, node"
   ]
  },
  {
   "cell_type": "code",
   "execution_count": 18,
   "metadata": {},
   "outputs": [
    {
     "name": "stdout",
     "output_type": "stream",
     "text": [
      "/contrib@contrib-type=author/name/surname                    # True\n",
      "/contrib@contrib-type=author/name/given-names                # True\n",
      "/contrib@contrib-type=author/xref@ref-type=aff@rid=aff1      # True\n",
      "/contrib@contrib-type=author/xref@ref-type=corresp@rid=cor1  # True\n"
     ]
    }
   ],
   "source": [
    "for path, node in etree_line_text_node_gen(first_contrib):\n",
    "    print(f\"{path:60} # {isinstance(node, str)}\")"
   ]
  },
  {
   "cell_type": "code",
   "execution_count": 19,
   "metadata": {},
   "outputs": [],
   "source": [
    "def etree_line_attr_node_gen(branch, path=\"\"):\n",
    "    path += \"/\" + branch.tag\n",
    "    for k, v in sorted(branch.items()):\n",
    "        path += f\"@{k}={xml_attr_cleanup(v)}\"\n",
    "    if branch.attrib: # We don't need an empty node entry\n",
    "        yield path, branch\n",
    "    for node in branch:\n",
    "        if not isinstance(node, str):\n",
    "            yield from etree_line_attr_node_gen(node, path)"
   ]
  },
  {
   "cell_type": "code",
   "execution_count": 20,
   "metadata": {},
   "outputs": [
    {
     "name": "stdout",
     "output_type": "stream",
     "text": [
      "/contrib@contrib-type=author                                 # False\n",
      "/contrib@contrib-type=author/xref@ref-type=aff@rid=aff1      # False\n",
      "/contrib@contrib-type=author/xref@ref-type=corresp@rid=cor1  # False\n"
     ]
    }
   ],
   "source": [
    "for path, node in etree_line_attr_node_gen(first_contrib):\n",
    "    print(f\"{path:60} # {isinstance(node, str)}\")"
   ]
  },
  {
   "cell_type": "markdown",
   "metadata": {},
   "source": [
    "### Identify all `<aff>` and `<contrib>` elements"
   ]
  },
  {
   "cell_type": "code",
   "execution_count": 21,
   "metadata": {},
   "outputs": [],
   "source": [
    "def xref_aff_gen(contrib):\n",
    "    for path, node in etree_line_attr_node_gen(contrib):\n",
    "        if xref_aff_regex.search(path):\n",
    "            yield node"
   ]
  },
  {
   "cell_type": "code",
   "execution_count": 22,
   "metadata": {},
   "outputs": [
    {
     "data": {
      "text/plain": [
       "{<Element contrib at 0x7fd35738c608>: ['aff1']}"
      ]
     },
     "execution_count": 22,
     "metadata": {},
     "output_type": "execute_result"
    }
   ],
   "source": [
    "{contrib: [get_lev(xref_aff, \"rid\") for xref_aff in xref_aff_gen(contrib)]\n",
    " for contrib in branches[\"contrib\"]}"
   ]
  },
  {
   "cell_type": "code",
   "execution_count": 23,
   "metadata": {},
   "outputs": [
    {
     "data": {
      "text/plain": [
       "{<Element aff at 0x7fd35738c5c8>: 'aff1'}"
      ]
     },
     "execution_count": 23,
     "metadata": {},
     "output_type": "execute_result"
    }
   ],
   "source": [
    "{aff: get_lev(aff, \"id\") for aff in branches[\"aff\"]}"
   ]
  },
  {
   "cell_type": "markdown",
   "metadata": {},
   "source": [
    "### Extracting `<article-id>` data"
   ]
  },
  {
   "cell_type": "markdown",
   "metadata": {},
   "source": [
    "Suppose our extractors are defined by a string table like:\n",
    "\n",
    "```python\n",
    "#    result key,   XML element attribute,          line matching regex\n",
    "[\n",
    "    (\"key_name_1\", \"first-attr-in-my-xml-element\", \"/(?:some)?regex\"),\n",
    "    (\"key_name_2\", \"second-attr-in-that-element\",  \"/another.regex\"),\n",
    "    (\"key_name_3\", \"another-attr-in-the-element\",  \"/(?:approx){e<=1}regex\"),\n",
    "    (\"key_name_4\", \"\",                             \"/some@node\"), # Matches text\n",
    "]\n",
    "```\n",
    "\n",
    "Where the attribute name is an empty string when the regex should match a text node. The extractor input is a single XML element."
   ]
  },
  {
   "cell_type": "markdown",
   "metadata": {},
   "source": [
    "The first (yet incomplete) approach was a  text-only extractor (i.e., one that ignores the attribute column and gets the text node) would be:\n",
    "\n",
    "```python\n",
    "def etree_texts_extract(regexes_table, element)\n",
    "    paths, nodes = zip(*etree_line_text_node_gen(element))\n",
    "    paths_str = \"\\n\".join(paths)\n",
    "    ends = np.cumsum([len(p) + 1 for p in paths]) # Add \\n\n",
    "    keys, attrs, regexes = zip(*regexes_table) # Ignore attrs\n",
    "    matches_gen = (r.search(paths_str) for r in regexes)\n",
    "    nodes_gen = (match and nodes[np.where(ends > match.start())[0][0]]\n",
    "                 for match in matches_gen)\n",
    "    return {key: node for key, node in zip(keys, nodes_gen) if node}\n",
    "```"
   ]
  },
  {
   "cell_type": "markdown",
   "metadata": {},
   "source": [
    "The same, somewhat complicated, but for both text and attribute nodes:\n",
    "\n",
    "```python\n",
    "def etree_extract(regexes_table, element):\n",
    "    text_paths, text_nodes = zip(*etree_line_text_node_gen(element))\n",
    "    text_paths_str = unidecode(\"\\n\".join(text_paths)).lower()\n",
    "    text_ends = np.cumsum([len(p) + 1 for p in text_paths]) # Add \\n\n",
    "\n",
    "    attr_paths, attr_nodes = zip(*etree_line_attr_node_gen(element))\n",
    "    attr_paths_str = unidecode(\"\\n\".join(attr_paths)).lower()\n",
    "    attr_ends = np.cumsum([len(p) + 1 for p in attr_paths])\n",
    "\n",
    "    keys, attrs, regexes = zip(*regexes_table)\n",
    "    at_paths, at_nodes, at_paths_str, at_ends = zip(*[\n",
    "        (attr_paths, attr_nodes, attr_paths_str, attr_ends)\n",
    "        if attr else\n",
    "        (text_paths, text_nodes, text_paths_str, text_ends)\n",
    "        for attr in attrs\n",
    "    ])\n",
    "\n",
    "    matches_gen = (r.search(p) for r, p in zip(regexes, at_paths_str))\n",
    "    nodes_gen = (match and nodes[np.where(ends > match.start())[0][0]]\n",
    "                 for match, nodes, ends in zip(matches_gen, at_nodes, at_ends))\n",
    "    return {key: (get_lev(node, attr) if attr else node.strip())\n",
    "                                      if node is not None else \"\"\n",
    "            for key, attr, node in zip(keys, attrs, nodes_gen)}\n",
    "```"
   ]
  },
  {
   "cell_type": "markdown",
   "metadata": {},
   "source": [
    "The general (and simpler) approach found was to only walk through element nodes, not text nodes:"
   ]
  },
  {
   "cell_type": "code",
   "execution_count": 24,
   "metadata": {},
   "outputs": [],
   "source": [
    "def etree_path_gen(branch, path=\"\"):\n",
    "    path += \"/\" + branch.tag\n",
    "    for k, v in sorted(branch.items()):\n",
    "        path += f\"@{xml_attr_cleanup(k)}={xml_attr_cleanup(v)}\"\n",
    "    yield path, branch\n",
    "    for node in branch:\n",
    "        if not isinstance(node, str):\n",
    "            yield from etree_path_gen(node, path)"
   ]
  },
  {
   "cell_type": "code",
   "execution_count": 25,
   "metadata": {},
   "outputs": [],
   "source": [
    "def node_getattr(node, attr):\n",
    "    if node is None:\n",
    "        return \"\"\n",
    "    if attr:\n",
    "        return get_lev(node, attr)\n",
    "    full_text = etree.tounicode(node, method=\"text\", with_tail=False)\n",
    "    return regex.sub(\"\\s+\", \" \", full_text).strip()"
   ]
  },
  {
   "cell_type": "code",
   "execution_count": 26,
   "metadata": {},
   "outputs": [],
   "source": [
    "def etree_extract(regexes_table, element):\n",
    "    paths, nodes = zip(*etree_path_gen(element))\n",
    "    paths_str = \"\\n\".join(paths)\n",
    "    ends = np.cumsum([len(p) + 1 for p in paths]) # Add \\n\n",
    "    keys, attrs, regexes = zip(*regexes_table)\n",
    "    matches_gen = (r.search(paths_str) for r in regexes)\n",
    "    nodes_gen = (match and nodes[np.where(ends > match.start())[0][0]]\n",
    "                 for match in matches_gen)\n",
    "    return {key: node_getattr(node, attr)\n",
    "            for key, attr, node in zip(keys, attrs, nodes_gen)}"
   ]
  },
  {
   "cell_type": "code",
   "execution_count": 27,
   "metadata": {},
   "outputs": [],
   "source": [
    "aids_regs = \\\n",
    "    [(key, attr, regex.compile(r, regex.B | regex.M)) for key, attr, r in [\n",
    "        (\"article_publisher_id\", \"\", r\"/(?:article-id){e<=2}[^/]*\"\n",
    "                                     r\"@(?:pub-id-type){e<=4}\"\n",
    "                                     r\"=(?:publisher-id){e<=4}(?:$|@)\"),\n",
    "        (\"article_doi\", \"\", r\"/(?:article-id){e<=2}[^/]*\"\n",
    "                            r\"@(?:pub-id-type){e<=4}\"\n",
    "                            r\"=(?:doi){e<=1}(?:$|@)\"),\n",
    "    ]]\n",
    "aids_extract = partial(etree_extract, aids_regs)"
   ]
  },
  {
   "cell_type": "code",
   "execution_count": 28,
   "metadata": {},
   "outputs": [],
   "source": [
    "aids = etree.Element(\"aids\")\n",
    "aids.extend(branches[\"article-id\"])"
   ]
  },
  {
   "cell_type": "code",
   "execution_count": 29,
   "metadata": {},
   "outputs": [
    {
     "name": "stdout",
     "output_type": "stream",
     "text": [
      "<aids><article-id pub-id-type=\"publisher-id\">S0102-36162013000100008</article-id>\n",
      "\t\t\t<article-id pub-id-type=\"doi\">10.1016/j.rboe.2011.12.001</article-id>\n",
      "\t\t\t</aids>\n"
     ]
    },
    {
     "data": {
      "text/plain": [
       "{'article_publisher_id': 'S0102-36162013000100008',\n",
       " 'article_doi': '10.1016/j.rboe.2011.12.001'}"
      ]
     },
     "execution_count": 29,
     "metadata": {},
     "output_type": "execute_result"
    }
   ],
   "source": [
    "print(etree.tounicode(aids))\n",
    "aids_extract(aids)"
   ]
  },
  {
   "cell_type": "markdown",
   "metadata": {},
   "source": [
    "With some invalid `<article-id>` tags:"
   ]
  },
  {
   "cell_type": "code",
   "execution_count": 30,
   "metadata": {},
   "outputs": [
    {
     "data": {
      "text/plain": [
       "{'article_publisher_id': 'S000... PID',\n",
       " 'article_doi': '10.xxxx/y.zzzz.2000.10.002'}"
      ]
     },
     "execution_count": 30,
     "metadata": {},
     "output_type": "execute_result"
    }
   ],
   "source": [
    "aids_extract(etree.XML(\"\"\"<aids>\n",
    "<articcle-id pub-id-dtype=\"puisherdi\">S000... PID\n",
    "</articcle-id>\n",
    "<raticle-id pub-id-te=\"do\">10.xxxx/y.zzzz.2000.10.002</raticle-id>\n",
    "</aids>\"\"\"))"
   ]
  },
  {
   "cell_type": "markdown",
   "metadata": {},
   "source": [
    "### Extracting `<contrib>` data"
   ]
  },
  {
   "cell_type": "code",
   "execution_count": 31,
   "metadata": {},
   "outputs": [],
   "source": [
    "contrib_regs = \\\n",
    "    [(key, attr, regex.compile(r, regex.B | regex.M)) for key, attr, r in [\n",
    "        (\"contrib_type\", \"contrib-type\", r\"/[^/]*$\"),\n",
    "        (\"contrib_surname\", \"\", r\"/(?:surname){e<=2}$\"),\n",
    "        (\"contrib_given_names\", \"\", r\"/(?:given-names){e<=3}$\"),\n",
    "        (\"contrib_prefix\", \"\", r\"/(?:prefix){e<=2}$\"),\n",
    "        (\"contrib_suffix\", \"\", r\"/(?:suffix){e<=2}$\"),\n",
    "        (\"xref_corresp\", \"rid\", r\"/(?:xref){e<=1}[^/]*\"\n",
    "                                r\"@(?:ref-type){e<=2}\"\n",
    "                                r\"=(?:corresp){e<=2}(?:$|@)\"),\n",
    "        (\"xref_corresp_text\", \"\", r\"/(?:xref){e<=1}[^/]*\"\n",
    "                                  r\"@(?:ref-type){e<=2}\"\n",
    "                                  r\"=(?:corresp){e<=2}(?:$|@)\"),\n",
    "        (\"xref_aff\", \"\", r\"/(?:xref){e<=1}[^/]*\"\n",
    "                         r\"@(?:ref-type){e<=2}\"\n",
    "                         r\"=(?:aff){e<=1}(?:$|@)\"),\n",
    "        (\"xref_aff_text\", \"\", r\"/(?:xref){e<=1}[^/]*\"\n",
    "                              r\"@(?:ref-type){e<=2}\"\n",
    "                              r\"=(?:aff){e<=1}(?:$|@)\"),\n",
    "    ]]\n",
    "contrib_extract = partial(etree_extract, contrib_regs)"
   ]
  },
  {
   "cell_type": "code",
   "execution_count": 32,
   "metadata": {},
   "outputs": [
    {
     "name": "stdout",
     "output_type": "stream",
     "text": [
      "<contrib xmlns:xlink=\"http://www.w3.org/1999/xlink\" xmlns:mml=\"http://www.w3.org/1998/Math/MathML\" contrib-type=\"author\">\n",
      "\t\t\t\t\t<name>\n",
      "\t\t\t\t\t\t<surname>Carvalho</surname>\n",
      "\t\t\t\t\t\t<given-names>Daniel Augusto de</given-names>\n",
      "\t\t\t\t\t</name>\n",
      "\t\t\t\t\t<xref ref-type=\"aff\" rid=\"aff1\">1</xref>\n",
      "\t\t\t\t\t<xref ref-type=\"corresp\" rid=\"cor1\">*</xref>\n",
      "\t\t\t\t</contrib>\n",
      "\t\t\t\t\n"
     ]
    },
    {
     "data": {
      "text/plain": [
       "{'contrib_type': 'author',\n",
       " 'contrib_surname': 'Carvalho',\n",
       " 'contrib_given_names': 'Daniel Augusto de',\n",
       " 'contrib_prefix': '',\n",
       " 'contrib_suffix': '',\n",
       " 'xref_corresp': 'cor1',\n",
       " 'xref_corresp_text': '*',\n",
       " 'xref_aff': '1',\n",
       " 'xref_aff_text': '1'}"
      ]
     },
     "execution_count": 32,
     "metadata": {},
     "output_type": "execute_result"
    }
   ],
   "source": [
    "print(etree.tounicode(first_contrib))\n",
    "contrib_extract(first_contrib)"
   ]
  },
  {
   "cell_type": "code",
   "execution_count": 33,
   "metadata": {},
   "outputs": [
    {
     "data": {
      "text/plain": [
       "{'contrib_type': 'author',\n",
       " 'contrib_surname': 'Sobrenome ref. 2',\n",
       " 'contrib_given_names': 'Namae!',\n",
       " 'contrib_prefix': '',\n",
       " 'contrib_suffix': '',\n",
       " 'xref_corresp': 'aff2',\n",
       " 'xref_corresp_text': 'ref. 2',\n",
       " 'xref_aff': 'ref. 1',\n",
       " 'xref_aff_text': 'ref. 1'}"
      ]
     },
     "execution_count": 33,
     "metadata": {},
     "output_type": "execute_result"
    }
   ],
   "source": [
    "contrib_extract(etree.XML(\"\"\"<contrib contriytpe=\"author\">\n",
    "<unname><suRrnamy>Sobrenome</suRrnamy>\n",
    "<xrref reftÿpé=\"rresp\" ri=\"aff2\">ref. 2</xrref>\n",
    "</unname>\n",
    "<name><xrref reftype=\"afff\" id=\"aff1\">ref. 1</xrref></name>\n",
    "<givename>Namae!</givename>\n",
    "</contrib>\"\"\"))"
   ]
  },
  {
   "cell_type": "markdown",
   "metadata": {},
   "source": [
    "### Extracting `<aff>` data"
   ]
  },
  {
   "cell_type": "code",
   "execution_count": 34,
   "metadata": {},
   "outputs": [],
   "source": [
    "aff_regs = \\\n",
    "    [(key, attr, regex.compile(r, regex.B | regex.M)) for key, attr, r in [\n",
    "        (\"addr_country\", \"\", r\"/(?:country){e<=2}(?:$|@)\"),\n",
    "        (\"addr_country_code\", \"country\", r\"/(?:country){e<=2}[^/]*@(?:country){e<=2}\"),\n",
    "        (\"aff_id\", \"id\", r\"/[^/]*$\"),\n",
    "        (\"aff_text\", \"\", r\"/[^/]*$\"),\n",
    "        (\"email\", \"\", r\"/(?:email){e<=1}$\"),\n",
    "        (\"institution_original\", \"\", r\"/(?:institution){e<=2}[^/]*\"\n",
    "                                     r\"@(?:content-type){e<=4}\"\n",
    "                                     r\"=(?:original){e<=2}(?:$|@)\"),\n",
    "        (\"institution_orgdiv1\", \"\", r\"/(?:institution){e<=2}[^/]*\"\n",
    "                                    r\"@(?:content-type){e<=4}\"\n",
    "                                    r\"=(?:orgdiv){e<=2}1(?:$|@)\"),\n",
    "        (\"institution_orgdiv2\", \"\", r\"/(?:institution){e<=2}[^/]*\"\n",
    "                                    r\"@(?:content-type){e<=4}\"\n",
    "                                    r\"=(?:orgdiv){e<=2}2(?:$|@)\"),\n",
    "        (\"institution_orgname\", \"\", r\"/(?:institution){e<=2}[^/]*\"\n",
    "                                    r\"@(?:content-type){e<=4}\"\n",
    "                                    r\"=(?:orgname){e<=2}(?:$|@)\"),\n",
    "        (\"institution_orgname_rewritten\", \"\", r\"/(?:institution){e<=2}[^/]*\"\n",
    "                                              r\"@(?:content-type){e<=4}\"\n",
    "                                              r\"=(?:normalized){e<=4}(?:$|@)\"),\n",
    "        (\"label\", \"\", r\"/(?:label){e<=1}$\"),\n",
    "    ]]\n",
    "aff_extract = partial(etree_extract, aff_regs)"
   ]
  },
  {
   "cell_type": "code",
   "execution_count": 35,
   "metadata": {},
   "outputs": [
    {
     "name": "stdout",
     "output_type": "stream",
     "text": [
      "<aff xmlns:xlink=\"http://www.w3.org/1999/xlink\" xmlns:mml=\"http://www.w3.org/1998/Math/MathML\" id=\"aff1\">\n",
      "\t\t\t\t\t<label>1</label>\n",
      "\t\t\t\tOrthopedist and Traumatologist at the\n",
      "\t\t\t\t\t<institution content-type=\"orgname\">Paraná Club</institution>, \n",
      "\t\t\t\t\t<institution content-type=\"orgdiv1\">Ninho da Gralha Player Training Center</institution>, <addr-line>\n",
      "\t\t\t\t\t\t<named-content content-type=\"city\">Quatro Barras</named-content>, <named-content content-type=\"state\">Paraná</named-content>, </addr-line>\n",
      "\t\t\t\t\t<country>Brazil</country>\n",
      "\t\t\t\t</aff>\n",
      "\t\t\t\n"
     ]
    },
    {
     "data": {
      "text/plain": [
       "{'addr_country': 'Brazil',\n",
       " 'addr_country_code': '',\n",
       " 'aff_id': 'aff1',\n",
       " 'aff_text': '1 Orthopedist and Traumatologist at the Paraná Club, Ninho da Gralha Player Training Center, Quatro Barras, Paraná, Brazil',\n",
       " 'email': '',\n",
       " 'institution_original': '',\n",
       " 'institution_orgdiv1': 'Ninho da Gralha Player Training Center',\n",
       " 'institution_orgdiv2': '',\n",
       " 'institution_orgname': 'Paraná Club',\n",
       " 'institution_orgname_rewritten': '',\n",
       " 'label': '1'}"
      ]
     },
     "execution_count": 35,
     "metadata": {},
     "output_type": "execute_result"
    }
   ],
   "source": [
    "print(etree.tounicode(first_aff))\n",
    "aff_extract(first_aff)"
   ]
  },
  {
   "cell_type": "code",
   "execution_count": 36,
   "metadata": {},
   "outputs": [
    {
     "name": "stdout",
     "output_type": "stream",
     "text": [
      "<aff xmlns:mml=\"http://www.w3.org/1998/Math/MathML\" xmlns:xlink=\"http://www.w3.org/1999/xlink\" id=\"aff1\">\n",
      "\t\t\t\t\t<institution content-type=\"orgname\">University of Chemical Technology and Metallurgy</institution>\n",
      "\t\t\t\t\t<addr-line>\n",
      "\t\t\t\t\t\t<named-content content-type=\"city\">Sofia</named-content>\n",
      "\t\t\t\t\t</addr-line>\n",
      "\t\t\t\t\t<country country=\"BG\">Bulgaria</country>\n",
      "\t\t\t\t\t<email>rteodosieva@abv.bg</email>\n",
      "\t\t\t\t\t<institution content-type=\"original\">University of Chemical Technology and Metallurgy, 8 Kliment Ohridski Blvd. 1756, Sofia, Bulgaria. Phone: + 359 28163247. E-mail: rteodosieva@abv.bg</institution>\n",
      "\t\t\t\t</aff>\n",
      "\t\t\t\n"
     ]
    },
    {
     "data": {
      "text/plain": [
       "{'addr_country': 'Bulgaria',\n",
       " 'addr_country_code': 'BG',\n",
       " 'aff_id': 'aff1',\n",
       " 'aff_text': 'University of Chemical Technology and Metallurgy Sofia Bulgaria rteodosieva@abv.bg University of Chemical Technology and Metallurgy, 8 Kliment Ohridski Blvd. 1756, Sofia, Bulgaria. Phone: + 359 28163247. E-mail: rteodosieva@abv.bg',\n",
       " 'email': 'rteodosieva@abv.bg',\n",
       " 'institution_original': 'University of Chemical Technology and Metallurgy, 8 Kliment Ohridski Blvd. 1756, Sofia, Bulgaria. Phone: + 359 28163247. E-mail: rteodosieva@abv.bg',\n",
       " 'institution_orgdiv1': '',\n",
       " 'institution_orgdiv2': '',\n",
       " 'institution_orgname': 'University of Chemical Technology and Metallurgy',\n",
       " 'institution_orgname_rewritten': '',\n",
       " 'label': ''}"
      ]
     },
     "execution_count": 36,
     "metadata": {},
     "output_type": "execute_result"
    }
   ],
   "source": [
    "fname = \"0104-6632-bjce-33-01-0001.xml\"\n",
    "with open(fname) as f:\n",
    "    d = etree.parse(f)\n",
    "print(etree.tounicode(d.xpath(\"//aff\")[0]))\n",
    "aff_extract(d.xpath(\"//aff\")[0])"
   ]
  },
  {
   "cell_type": "markdown",
   "metadata": {},
   "source": [
    "To be continued..."
   ]
  }
 ],
 "metadata": {
  "kernelspec": {
   "display_name": "Python 3",
   "language": "python",
   "name": "python3"
  },
  "language_info": {
   "codemirror_mode": {
    "name": "ipython",
    "version": 3
   },
   "file_extension": ".py",
   "mimetype": "text/x-python",
   "name": "python",
   "nbconvert_exporter": "python",
   "pygments_lexer": "ipython3",
   "version": "3.6.5"
  }
 },
 "nbformat": 4,
 "nbformat_minor": 2
}
