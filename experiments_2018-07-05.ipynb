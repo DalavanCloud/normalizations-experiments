{
 "cells": [
  {
   "cell_type": "markdown",
   "metadata": {},
   "source": [
    "# Analysis of the country in the manual normalization CSV data"
   ]
  },
  {
   "cell_type": "code",
   "execution_count": 1,
   "metadata": {},
   "outputs": [],
   "source": [
    "import pandas as pd\n",
    "import networkx as nx\n",
    "import matplotlib.pyplot as plt"
   ]
  },
  {
   "cell_type": "code",
   "execution_count": 2,
   "metadata": {},
   "outputs": [],
   "source": [
    "pd.options.display.max_colwidth = 100 # Avoid \"...\" in large strings"
   ]
  },
  {
   "cell_type": "markdown",
   "metadata": {},
   "source": [
    "There are at least two sources of data we can use to analyze the country information:\n",
    "a CSV with some \\[unfinished] manually normalized information,\n",
    "and the Clea CSV output dataset.\n",
    "The latter was already analyzed in the\n",
    "[2018-06 country experiments](experiments_2018-06_country.ipynb),\n",
    "this time we'll try to perform a similar graph analysis\n",
    "on the former CSV."
   ]
  },
  {
   "cell_type": "markdown",
   "metadata": {},
   "source": [
    "## Loading the manual normalization CSV data"
   ]
  },
  {
   "cell_type": "markdown",
   "metadata": {},
   "source": [
    "This data have the fields names written in Portuguese, and the *ISO-3166* name is misspelled in the country column name (*ISO-3661* regards to *end-suction centrifugal pumps*, which has nothing to do with countries):"
   ]
  },
  {
   "cell_type": "code",
   "execution_count": 3,
   "metadata": {},
   "outputs": [
    {
     "name": "stdout",
     "output_type": "stream",
     "text": [
      "<class 'pandas.core.frame.DataFrame'>\n",
      "Int64Index: 506786 entries, 0 to 506785\n",
      "Data columns (total 15 columns):\n",
      "coleção                                  506786 non-null object\n",
      "PID                                      506786 non-null object\n",
      "ano de publicação                        506786 non-null object\n",
      "tipo de documento                        506786 non-null object\n",
      "título                                   506786 non-null object\n",
      "número                                   506786 non-null object\n",
      "normalizado                              506786 non-null object\n",
      "id de afiliação                          506786 non-null object\n",
      "instituição original                     506786 non-null object\n",
      "paises original                          506786 non-null object\n",
      "instituição normalizada                  506786 non-null object\n",
      "país normalizado ISO-3661                506786 non-null object\n",
      "código de país normalizado ISO-3166      506786 non-null object\n",
      "estado normalizado ISO-3166              506786 non-null object\n",
      "código de estado normalizado ISO-3166    506786 non-null object\n",
      "dtypes: object(15)\n",
      "memory usage: 61.9+ MB\n"
     ]
    }
   ],
   "source": [
    "ndata = pd.read_csv(\"aff_n15.csv\",\n",
    "                    sep=\"|\",\n",
    "                    dtype=str,\n",
    "                    keep_default_na=False) \\\n",
    "          .drop_duplicates()\n",
    "ndata.info()"
   ]
  },
  {
   "cell_type": "markdown",
   "metadata": {},
   "source": [
    "$98.27\\%$ of the entries regards to Brazil, and there are just a few country names:"
   ]
  },
  {
   "cell_type": "code",
   "execution_count": 4,
   "metadata": {},
   "outputs": [
    {
     "data": {
      "text/plain": [
       "0.9827343296776154"
      ]
     },
     "execution_count": 4,
     "metadata": {},
     "output_type": "execute_result"
    }
   ],
   "source": [
    "ndata_name_count = ndata[\"país normalizado ISO-3661\"].value_counts()\n",
    "ndata_name_count[\"Brazil\"] / ndata_name_count.sum()"
   ]
  },
  {
   "cell_type": "code",
   "execution_count": 5,
   "metadata": {},
   "outputs": [
    {
     "data": {
      "text/plain": [
       "Brazil                                                        498036\n",
       "Portugal                                                        2733\n",
       "Argentina                                                       1779\n",
       "Iran                                                            1329\n",
       "Colombia                                                         951\n",
       "United States                                                    769\n",
       "México                                                           405\n",
       "Canada                                                           386\n",
       "Uruguay                                                          375\n",
       "Universidade de São Paulo                                          4\n",
       "Universidade Federal do Rio Grande do Sul                          2\n",
       "Universidade Tuiuti do Paraná                                      1\n",
       "Empresa Brasileira de Pesquisa Agropecuária - Agrobiologia         1\n",
       "Universidade Federal de Minas Gerais                               1\n",
       "Universidade Federal de Santa Maria                                1\n",
       "Universidade Federal de São Paulo                                  1\n",
       "Universidade Positivo                                              1\n",
       "Fundação Getúlio Vargas                                            1\n",
       "Universidad de la República                                        1\n",
       "Universidade Estadual de Maringá                                   1\n",
       "Universidade Federal de Santa Catarina                             1\n",
       "Universidade Federal da Grande Dourados                            1\n",
       "Instituto Federal Goiano                                           1\n",
       "Universidade Federal de Alfenas                                    1\n",
       "Universidade Federal do Paraná                                     1\n",
       "Universidade do Estado do Rio de Janeiro                           1\n",
       "Universidade Estadual do Centro-Oeste                              1\n",
       "Netherlands                                                        1\n",
       "Name: país normalizado ISO-3661, dtype: int64"
      ]
     },
     "execution_count": 5,
     "metadata": {},
     "output_type": "execute_result"
    }
   ],
   "source": [
    "ndata_name_count"
   ]
  },
  {
   "cell_type": "markdown",
   "metadata": {},
   "source": [
    "*Netherlands* is the only country with less than a hundred entries, these other names are mostly university names, not country names. Therefore, we have just $10$ distinct countries, and clearly this dataset doesn't have everything sanitized."
   ]
  },
  {
   "cell_type": "code",
   "execution_count": 6,
   "metadata": {},
   "outputs": [],
   "source": [
    "ndata_has_country = ndata[ndata[\"país normalizado ISO-3661\"].str.len() <= 13]"
   ]
  },
  {
   "cell_type": "markdown",
   "metadata": {},
   "source": [
    "On the other hand, we've got $11$ distinct country codes, $98.17\\%$ of them being **BR**: "
   ]
  },
  {
   "cell_type": "code",
   "execution_count": 7,
   "metadata": {},
   "outputs": [
    {
     "data": {
      "text/plain": [
       "0.9816687911662911"
      ]
     },
     "execution_count": 7,
     "metadata": {},
     "output_type": "execute_result"
    }
   ],
   "source": [
    "ndata_code_count = ndata[\"código de país normalizado ISO-3166\"].value_counts()\n",
    "ndata_code_count[\"BR\"] / ndata_code_count.sum()"
   ]
  },
  {
   "cell_type": "code",
   "execution_count": 8,
   "metadata": {},
   "outputs": [
    {
     "data": {
      "text/plain": [
       "BR         497496\n",
       "PT           2733\n",
       "AR           1779\n",
       "IR           1329\n",
       "CO            951\n",
       "US            769\n",
       "RB            540\n",
       "MX            405\n",
       "CA            386\n",
       "UY            375\n",
       "Brazil         21\n",
       "NL              1\n",
       "Uruguay         1\n",
       "Name: código de país normalizado ISO-3166, dtype: int64"
      ]
     },
     "execution_count": 8,
     "metadata": {},
     "output_type": "execute_result"
    }
   ],
   "source": [
    "ndata_code_count"
   ]
  },
  {
   "cell_type": "markdown",
   "metadata": {},
   "source": [
    "*Brazil* should have been **BR** and *Uruguay* should have been **UY**.\n",
    "The adjacency pairs list has few entries:"
   ]
  },
  {
   "cell_type": "code",
   "execution_count": 9,
   "metadata": {},
   "outputs": [
    {
     "data": {
      "text/html": [
       "<div>\n",
       "<style scoped>\n",
       "    .dataframe tbody tr th:only-of-type {\n",
       "        vertical-align: middle;\n",
       "    }\n",
       "\n",
       "    .dataframe tbody tr th {\n",
       "        vertical-align: top;\n",
       "    }\n",
       "\n",
       "    .dataframe thead th {\n",
       "        text-align: right;\n",
       "    }\n",
       "</style>\n",
       "<table border=\"1\" class=\"dataframe\">\n",
       "  <thead>\n",
       "    <tr style=\"text-align: right;\">\n",
       "      <th></th>\n",
       "      <th>name</th>\n",
       "      <th>code</th>\n",
       "      <th>count</th>\n",
       "    </tr>\n",
       "  </thead>\n",
       "  <tbody>\n",
       "    <tr>\n",
       "      <th>0</th>\n",
       "      <td>Argentina</td>\n",
       "      <td>AR</td>\n",
       "      <td>1779</td>\n",
       "    </tr>\n",
       "    <tr>\n",
       "      <th>1</th>\n",
       "      <td>Brazil</td>\n",
       "      <td>BR</td>\n",
       "      <td>497496</td>\n",
       "    </tr>\n",
       "    <tr>\n",
       "      <th>5</th>\n",
       "      <td>Empresa Brasileira de Pesquisa Agropecuária - Agrobiologia</td>\n",
       "      <td>Brazil</td>\n",
       "      <td>1</td>\n",
       "    </tr>\n",
       "    <tr>\n",
       "      <th>6</th>\n",
       "      <td>Fundação Getúlio Vargas</td>\n",
       "      <td>Brazil</td>\n",
       "      <td>1</td>\n",
       "    </tr>\n",
       "    <tr>\n",
       "      <th>7</th>\n",
       "      <td>Instituto Federal Goiano</td>\n",
       "      <td>Brazil</td>\n",
       "      <td>1</td>\n",
       "    </tr>\n",
       "    <tr>\n",
       "      <th>14</th>\n",
       "      <td>Universidade Estadual de Maringá</td>\n",
       "      <td>Brazil</td>\n",
       "      <td>1</td>\n",
       "    </tr>\n",
       "    <tr>\n",
       "      <th>15</th>\n",
       "      <td>Universidade Estadual do Centro-Oeste</td>\n",
       "      <td>Brazil</td>\n",
       "      <td>1</td>\n",
       "    </tr>\n",
       "    <tr>\n",
       "      <th>16</th>\n",
       "      <td>Universidade Federal da Grande Dourados</td>\n",
       "      <td>Brazil</td>\n",
       "      <td>1</td>\n",
       "    </tr>\n",
       "    <tr>\n",
       "      <th>17</th>\n",
       "      <td>Universidade Federal de Alfenas</td>\n",
       "      <td>Brazil</td>\n",
       "      <td>1</td>\n",
       "    </tr>\n",
       "    <tr>\n",
       "      <th>18</th>\n",
       "      <td>Universidade Federal de Minas Gerais</td>\n",
       "      <td>Brazil</td>\n",
       "      <td>1</td>\n",
       "    </tr>\n",
       "    <tr>\n",
       "      <th>19</th>\n",
       "      <td>Universidade Federal de Santa Catarina</td>\n",
       "      <td>Brazil</td>\n",
       "      <td>1</td>\n",
       "    </tr>\n",
       "    <tr>\n",
       "      <th>20</th>\n",
       "      <td>Universidade Federal de Santa Maria</td>\n",
       "      <td>Brazil</td>\n",
       "      <td>1</td>\n",
       "    </tr>\n",
       "    <tr>\n",
       "      <th>21</th>\n",
       "      <td>Universidade Federal de São Paulo</td>\n",
       "      <td>Brazil</td>\n",
       "      <td>1</td>\n",
       "    </tr>\n",
       "    <tr>\n",
       "      <th>22</th>\n",
       "      <td>Universidade Federal do Paraná</td>\n",
       "      <td>Brazil</td>\n",
       "      <td>1</td>\n",
       "    </tr>\n",
       "    <tr>\n",
       "      <th>23</th>\n",
       "      <td>Universidade Federal do Rio Grande do Sul</td>\n",
       "      <td>Brazil</td>\n",
       "      <td>2</td>\n",
       "    </tr>\n",
       "    <tr>\n",
       "      <th>24</th>\n",
       "      <td>Universidade Positivo</td>\n",
       "      <td>Brazil</td>\n",
       "      <td>1</td>\n",
       "    </tr>\n",
       "    <tr>\n",
       "      <th>25</th>\n",
       "      <td>Universidade Tuiuti do Paraná</td>\n",
       "      <td>Brazil</td>\n",
       "      <td>1</td>\n",
       "    </tr>\n",
       "    <tr>\n",
       "      <th>26</th>\n",
       "      <td>Universidade de São Paulo</td>\n",
       "      <td>Brazil</td>\n",
       "      <td>4</td>\n",
       "    </tr>\n",
       "    <tr>\n",
       "      <th>27</th>\n",
       "      <td>Universidade do Estado do Rio de Janeiro</td>\n",
       "      <td>Brazil</td>\n",
       "      <td>1</td>\n",
       "    </tr>\n",
       "    <tr>\n",
       "      <th>3</th>\n",
       "      <td>Canada</td>\n",
       "      <td>CA</td>\n",
       "      <td>386</td>\n",
       "    </tr>\n",
       "    <tr>\n",
       "      <th>4</th>\n",
       "      <td>Colombia</td>\n",
       "      <td>CO</td>\n",
       "      <td>951</td>\n",
       "    </tr>\n",
       "    <tr>\n",
       "      <th>8</th>\n",
       "      <td>Iran</td>\n",
       "      <td>IR</td>\n",
       "      <td>1329</td>\n",
       "    </tr>\n",
       "    <tr>\n",
       "      <th>9</th>\n",
       "      <td>México</td>\n",
       "      <td>MX</td>\n",
       "      <td>405</td>\n",
       "    </tr>\n",
       "    <tr>\n",
       "      <th>10</th>\n",
       "      <td>Netherlands</td>\n",
       "      <td>NL</td>\n",
       "      <td>1</td>\n",
       "    </tr>\n",
       "    <tr>\n",
       "      <th>11</th>\n",
       "      <td>Portugal</td>\n",
       "      <td>PT</td>\n",
       "      <td>2733</td>\n",
       "    </tr>\n",
       "    <tr>\n",
       "      <th>2</th>\n",
       "      <td>Brazil</td>\n",
       "      <td>RB</td>\n",
       "      <td>540</td>\n",
       "    </tr>\n",
       "    <tr>\n",
       "      <th>12</th>\n",
       "      <td>United States</td>\n",
       "      <td>US</td>\n",
       "      <td>769</td>\n",
       "    </tr>\n",
       "    <tr>\n",
       "      <th>28</th>\n",
       "      <td>Uruguay</td>\n",
       "      <td>UY</td>\n",
       "      <td>375</td>\n",
       "    </tr>\n",
       "    <tr>\n",
       "      <th>13</th>\n",
       "      <td>Universidad de la República</td>\n",
       "      <td>Uruguay</td>\n",
       "      <td>1</td>\n",
       "    </tr>\n",
       "  </tbody>\n",
       "</table>\n",
       "</div>"
      ],
      "text/plain": [
       "                                                          name     code  \\\n",
       "0                                                    Argentina       AR   \n",
       "1                                                       Brazil       BR   \n",
       "5   Empresa Brasileira de Pesquisa Agropecuária - Agrobiologia   Brazil   \n",
       "6                                      Fundação Getúlio Vargas   Brazil   \n",
       "7                                     Instituto Federal Goiano   Brazil   \n",
       "14                            Universidade Estadual de Maringá   Brazil   \n",
       "15                       Universidade Estadual do Centro-Oeste   Brazil   \n",
       "16                     Universidade Federal da Grande Dourados   Brazil   \n",
       "17                             Universidade Federal de Alfenas   Brazil   \n",
       "18                        Universidade Federal de Minas Gerais   Brazil   \n",
       "19                      Universidade Federal de Santa Catarina   Brazil   \n",
       "20                        Universidade Federal de Santa Maria    Brazil   \n",
       "21                           Universidade Federal de São Paulo   Brazil   \n",
       "22                              Universidade Federal do Paraná   Brazil   \n",
       "23                   Universidade Federal do Rio Grande do Sul   Brazil   \n",
       "24                                       Universidade Positivo   Brazil   \n",
       "25                               Universidade Tuiuti do Paraná   Brazil   \n",
       "26                                   Universidade de São Paulo   Brazil   \n",
       "27                    Universidade do Estado do Rio de Janeiro   Brazil   \n",
       "3                                                       Canada       CA   \n",
       "4                                                     Colombia       CO   \n",
       "8                                                         Iran       IR   \n",
       "9                                                       México       MX   \n",
       "10                                                 Netherlands       NL   \n",
       "11                                                    Portugal       PT   \n",
       "2                                                       Brazil       RB   \n",
       "12                                               United States       US   \n",
       "28                                                     Uruguay       UY   \n",
       "13                                 Universidad de la República  Uruguay   \n",
       "\n",
       "     count  \n",
       "0     1779  \n",
       "1   497496  \n",
       "5        1  \n",
       "6        1  \n",
       "7        1  \n",
       "14       1  \n",
       "15       1  \n",
       "16       1  \n",
       "17       1  \n",
       "18       1  \n",
       "19       1  \n",
       "20       1  \n",
       "21       1  \n",
       "22       1  \n",
       "23       2  \n",
       "24       1  \n",
       "25       1  \n",
       "26       4  \n",
       "27       1  \n",
       "3      386  \n",
       "4      951  \n",
       "8     1329  \n",
       "9      405  \n",
       "10       1  \n",
       "11    2733  \n",
       "2      540  \n",
       "12     769  \n",
       "28     375  \n",
       "13       1  "
      ]
     },
     "execution_count": 9,
     "metadata": {},
     "output_type": "execute_result"
    }
   ],
   "source": [
    "df_ndata = pd.DataFrame(\n",
    "    ndata.groupby([\"país normalizado ISO-3661\",\n",
    "                   \"código de país normalizado ISO-3166\"])\n",
    "         .size(),\n",
    "    columns=[\"count\"]\n",
    ").reset_index().rename(columns={\n",
    "    \"país normalizado ISO-3661\": \"name\",\n",
    "    \"código de país normalizado ISO-3166\": \"code\",\n",
    "}).sort_values([\"code\", \"name\", \"count\"])\n",
    "df_ndata"
   ]
  },
  {
   "cell_type": "markdown",
   "metadata": {},
   "source": [
    "Let's see the graph of these."
   ]
  },
  {
   "cell_type": "code",
   "execution_count": 10,
   "metadata": {},
   "outputs": [],
   "source": [
    "df_edges_list = df_ndata.assign(\n",
    "    name=df_ndata[\"name\"].apply(lambda x: f\"name={x}\"),\n",
    "    code=df_ndata[\"code\"].apply(lambda x: f\"code={x}\"),\n",
    ")\n",
    "names = df_edges_list[\"name\"].unique()\n",
    "codes = df_edges_list[\"code\"].unique()"
   ]
  },
  {
   "cell_type": "code",
   "execution_count": 11,
   "metadata": {},
   "outputs": [
    {
     "data": {
      "text/plain": [
       "True"
      ]
     },
     "execution_count": 11,
     "metadata": {},
     "output_type": "execute_result"
    }
   ],
   "source": [
    "graph = nx.Graph()\n",
    "graph.add_nodes_from(names, bipartite=0)\n",
    "graph.add_nodes_from(codes, bipartite=1)\n",
    "graph.add_weighted_edges_from(df_edges_list.values)\n",
    "nx.is_bipartite(graph)"
   ]
  },
  {
   "cell_type": "code",
   "execution_count": 12,
   "metadata": {},
   "outputs": [
    {
     "data": {
      "image/png": "[encoded data removed]",
      "text/plain": [
       "<Figure size 1152x864 with 1 Axes>"
      ]
     },
     "metadata": {},
     "output_type": "display_data"
    }
   ],
   "source": [
    "fig, ax = plt.subplots(figsize=(16, 12))\n",
    "ax.set_axis_off()\n",
    "\n",
    "pos = nx.spring_layout(graph, k=.2, weight=None, random_state=11)\n",
    "\n",
    "edges_small, edges_big = [], []\n",
    "for edge, weight in nx.get_edge_attributes(graph, \"weight\").items():\n",
    "    [edges_small, edges_big][weight > 10].append(edge)\n",
    "\n",
    "nx.draw_networkx_edges(graph, pos, ax=ax, edgelist=edges_big,\n",
    "                       width=5, edge_color=\"#555555\")\n",
    "nx.draw_networkx_edges(graph, pos, ax=ax, edgelist=edges_small,\n",
    "                       width=1, edge_color=\"#aaaaaa\")\n",
    "nx.draw_networkx_nodes(graph, pos, ax=ax, nodelist=names.tolist(),\n",
    "                       node_color=\"red\", node_size=200)\n",
    "nx.draw_networkx_nodes(graph, pos, ax=ax, nodelist=codes.tolist(),\n",
    "                       node_color=\"#ccccff\", node_size=400)\n",
    "nx.draw_networkx_labels(graph, pos, ax=ax,\n",
    "                        font_size=12, font_color=\"#277f00\", font_weight=\"bold\",\n",
    "                        labels={code: code[5:] for code in codes})\n",
    "\n",
    "plt.show()"
   ]
  },
  {
   "cell_type": "markdown",
   "metadata": {},
   "source": [
    "The red nodes are country names,\n",
    "whereas the labeled nodes are country codes.\n",
    "Given that image, the only graph inconsistency we can find\n",
    "(i.e., the only subgraph with at least two code nodes)\n",
    "is the one where the **BR** and **RB** codes connect to *Brazil*.\n",
    "As **RB** isn't a ISO-3166-2 alpha-2 code, it's clearly just a typoed **BR**.\n",
    "There's no graph inconsistency in this data, nor empty values,\n",
    "so we can simply join the entries with **BR**, **RB** and **Brazil** codes,\n",
    "as well as join the **UY** and **Uruguay** codes.\n",
    "That's enough to finish the normalization of this partially normalized CSV."
   ]
  }
 ],
 "metadata": {
  "kernelspec": {
   "display_name": "Python 3",
   "language": "python",
   "name": "python3"
  },
  "language_info": {
   "codemirror_mode": {
    "name": "ipython",
    "version": 3
   },
   "file_extension": ".py",
   "mimetype": "text/x-python",
   "name": "python",
   "nbconvert_exporter": "python",
   "pygments_lexer": "ipython3",
   "version": "3.6.5"
  }
 },
 "nbformat": 4,
 "nbformat_minor": 2
}
