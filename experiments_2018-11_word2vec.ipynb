{
 "cells": [
  {
   "cell_type": "markdown",
   "metadata": {},
   "source": [
    "# A word2vec approach with `gensim`"
   ]
  },
  {
   "cell_type": "markdown",
   "metadata": {},
   "source": [
    "*(To run this notebook in a deterministic way,\n",
    "  enforce this environment variable: `PYTHONHASHSEED=12`)*"
   ]
  },
  {
   "cell_type": "markdown",
   "metadata": {},
   "source": [
    "What's `word2vec`?\n",
    "Roughly speaking, it's a shallow neural network model\n",
    "that can be trained to create a word embedding for NLP.\n",
    "There are two architectures:\n",
    "\n",
    "* Continuous BoW (Bag of Words),\n",
    "  this one tries to predict a word given the context;\n",
    "* Continuous skip-gram,\n",
    "  this one tries to predict the context from a given word."
   ]
  },
  {
   "cell_type": "markdown",
   "metadata": {},
   "source": [
    "Here we'll use `gensim` again, it's an open source library\n",
    "that was created as part of the\n",
    "[Radim Řehůřek's Ph.D. Thesis](\n",
    "  https://radimrehurek.com/phd_rehurek.pdf\n",
    "), *Scalability of semantic analysis\n",
    "    in natural language processing*, 2011.\n",
    "His thesis is mainly towards LSA (Latent Semantic Analysis),\n",
    "and LDA (Latent Dirichlet Allocation).\n",
    "However, `word2vec` was published after that,\n",
    "by Tomas Mikolov, Kai Chen, Greg Corrado and Jeffrey Dean\n",
    "(a team of Google researchers),\n",
    "in the *Efficient Estimation of\n",
    "        Word Representations in Vector Space*, 2013\n",
    "\\[[PDF](https://arxiv.org/pdf/1301.3781.pdf),\n",
    "  [C++ code](https://code.google.com/archive/p/word2vec/)\\].\n",
    "Radim Řehůřek himself added `word2vec` to his `gensim` library,\n",
    "and published a [short tutorial for it](\n",
    "  https://rare-technologies.com/word2vec-tutorial/\n",
    ")."
   ]
  },
  {
   "cell_type": "markdown",
   "metadata": {},
   "source": [
    "## Wikipedia trigram model"
   ]
  },
  {
   "cell_type": "markdown",
   "metadata": {},
   "source": [
    "For a first try of `word2vec` in \\[Brazilian\\] Portuguese,\n",
    "one can see the Felipe Parpinelli's\n",
    "[word2vec-pt-br](https://github.com/felipeparpinelli/)\n",
    "repository (unfortunately, only available for Python 2).\n",
    "However, [he trained a trigram vector model and published it](\n",
    "  https://drive.google.com/file/d/0B_eXEo_eUPCDWnJ0YWtUdW1kVFk/view\n",
    "),\n",
    "so we can directly use here in Python 3.7 with `gensim`.\n",
    "The model is a 2GB file whose SHA256 is\n",
    "`5421465d49a5f709f81cec3607c64b1e6a0724fdce94f9d507a48fe07f95d098`."
   ]
  },
  {
   "cell_type": "code",
   "execution_count": 1,
   "metadata": {},
   "outputs": [],
   "source": [
    "from gensim.models import KeyedVectors\n",
    "import numpy as np\n",
    "import pandas as pd"
   ]
  },
  {
   "cell_type": "code",
   "execution_count": 2,
   "metadata": {},
   "outputs": [],
   "source": [
    "wiki_model = KeyedVectors.load_word2vec_format(\"wiki.pt.trigram.vector\", binary=True)"
   ]
  },
  {
   "cell_type": "markdown",
   "metadata": {},
   "source": [
    "It has a vocabulary of more than one million words and expressions,\n",
    "all in lower case, with underscores as separators:"
   ]
  },
  {
   "cell_type": "code",
   "execution_count": 3,
   "metadata": {},
   "outputs": [
    {
     "data": {
      "text/plain": [
       "1264918"
      ]
     },
     "execution_count": 3,
     "metadata": {},
     "output_type": "execute_result"
    }
   ],
   "source": [
    "len(wiki_model.vocab)"
   ]
  },
  {
   "cell_type": "markdown",
   "metadata": {},
   "source": [
    "### Word similarity and \"maths with words\""
   ]
  },
  {
   "cell_type": "markdown",
   "metadata": {},
   "source": [
    "As of today, in the cited repository,\n",
    "Parpinelli is only using two model methods:\n",
    "`most_similar` and `doesnt_match`.\n",
    "The first one can be used to find similar words,\n",
    "with a similarity measurement\n",
    "ranging from $0$ to $1$.\n",
    "This example shows the name of cities\n",
    "in the São Paulo state, Brazil,\n",
    "given the name of one city:"
   ]
  },
  {
   "cell_type": "code",
   "execution_count": 4,
   "metadata": {},
   "outputs": [
    {
     "name": "stderr",
     "output_type": "stream",
     "text": [
      "/usr/lib/python3.7/site-packages/gensim/matutils.py:737: FutureWarning: Conversion of the second argument of issubdtype from `int` to `np.signedinteger` is deprecated. In future, it will be treated as `np.int64 == np.dtype(int).type`.\n",
      "  if np.issubdtype(vec.dtype, np.int):\n"
     ]
    },
    {
     "data": {
      "text/plain": [
       "[('ribeirão_preto', 0.7867798805236816),\n",
       " ('sorocaba', 0.7684873342514038),\n",
       " ('jundiaí', 0.7378007173538208),\n",
       " ('araraquara', 0.7296241521835327),\n",
       " ('são_paulo', 0.7239118814468384),\n",
       " ('guarulhos', 0.7190227508544922),\n",
       " ('bauru', 0.708629310131073),\n",
       " ('botucatu', 0.6960499882698059),\n",
       " ('taubaté', 0.6935198307037354),\n",
       " ('mogi_das_cruzes', 0.6845329403877258)]"
      ]
     },
     "execution_count": 4,
     "metadata": {},
     "output_type": "execute_result"
    }
   ],
   "source": [
    "wiki_model.most_similar(\"campinas\")"
   ]
  },
  {
   "cell_type": "markdown",
   "metadata": {},
   "source": [
    "These are the words\n",
    "that have the highest similarity with `campinas`.\n",
    "Such list of tuples can be easily converted\n",
    "to a Pandas dataframe:"
   ]
  },
  {
   "cell_type": "code",
   "execution_count": 5,
   "metadata": {},
   "outputs": [
    {
     "data": {
      "text/html": [
       "<div>\n",
       "<style scoped>\n",
       "    .dataframe tbody tr th:only-of-type {\n",
       "        vertical-align: middle;\n",
       "    }\n",
       "\n",
       "    .dataframe tbody tr th {\n",
       "        vertical-align: top;\n",
       "    }\n",
       "\n",
       "    .dataframe thead th {\n",
       "        text-align: right;\n",
       "    }\n",
       "</style>\n",
       "<table border=\"1\" class=\"dataframe\">\n",
       "  <thead>\n",
       "    <tr style=\"text-align: right;\">\n",
       "      <th></th>\n",
       "      <th>similarity</th>\n",
       "    </tr>\n",
       "    <tr>\n",
       "      <th>token</th>\n",
       "      <th></th>\n",
       "    </tr>\n",
       "  </thead>\n",
       "  <tbody>\n",
       "    <tr>\n",
       "      <th>ribeirão_preto</th>\n",
       "      <td>0.786780</td>\n",
       "    </tr>\n",
       "    <tr>\n",
       "      <th>sorocaba</th>\n",
       "      <td>0.768487</td>\n",
       "    </tr>\n",
       "    <tr>\n",
       "      <th>jundiaí</th>\n",
       "      <td>0.737801</td>\n",
       "    </tr>\n",
       "    <tr>\n",
       "      <th>araraquara</th>\n",
       "      <td>0.729624</td>\n",
       "    </tr>\n",
       "    <tr>\n",
       "      <th>são_paulo</th>\n",
       "      <td>0.723912</td>\n",
       "    </tr>\n",
       "    <tr>\n",
       "      <th>guarulhos</th>\n",
       "      <td>0.719023</td>\n",
       "    </tr>\n",
       "    <tr>\n",
       "      <th>bauru</th>\n",
       "      <td>0.708629</td>\n",
       "    </tr>\n",
       "    <tr>\n",
       "      <th>botucatu</th>\n",
       "      <td>0.696050</td>\n",
       "    </tr>\n",
       "    <tr>\n",
       "      <th>taubaté</th>\n",
       "      <td>0.693520</td>\n",
       "    </tr>\n",
       "    <tr>\n",
       "      <th>mogi_das_cruzes</th>\n",
       "      <td>0.684533</td>\n",
       "    </tr>\n",
       "  </tbody>\n",
       "</table>\n",
       "</div>"
      ],
      "text/plain": [
       "                 similarity\n",
       "token                      \n",
       "ribeirão_preto     0.786780\n",
       "sorocaba           0.768487\n",
       "jundiaí            0.737801\n",
       "araraquara         0.729624\n",
       "são_paulo          0.723912\n",
       "guarulhos          0.719023\n",
       "bauru              0.708629\n",
       "botucatu           0.696050\n",
       "taubaté            0.693520\n",
       "mogi_das_cruzes    0.684533"
      ]
     },
     "execution_count": 5,
     "metadata": {},
     "output_type": "execute_result"
    }
   ],
   "source": [
    "pd.DataFrame(\n",
    "    wiki_model.most_similar(\"campinas\"),\n",
    "    columns=[\"token\", \"similarity\"],\n",
    ").set_index(\"token\")"
   ]
  },
  {
   "cell_type": "markdown",
   "metadata": {},
   "source": [
    "As we're trying to predict the context vector from a word,\n",
    "what this gives is that\n",
    "all these words can easily appear in the same contexts.\n",
    "Though the training process of `word2vec` is unsupervised\n",
    "(it's a dimensionality reduction algorithm)\n"
   ]
  },
  {
   "cell_type": "markdown",
   "metadata": {},
   "source": [
    "Instead of a single word,\n",
    "we can also give a list of *positive* and *negative* words,\n",
    "performing something akin to this math:\n",
    "\n",
    "$$\n",
    "\\begin{array}{cll}\n",
    "{}   & Brasília & \\text{# federal capital of Brazil} \\\\\n",
    "{} - & Brasil   & \\text{# Brazil, in Brazilian Portuguese} \\\\\n",
    "{} + & Alemanha & \\text{# Germany, in Brazilian Portuguese} \\\\ \\hline\n",
    "{}   & ???\n",
    "\\end{array}\n",
    "$$"
   ]
  },
  {
   "cell_type": "code",
   "execution_count": 6,
   "metadata": {},
   "outputs": [
    {
     "data": {
      "text/plain": [
       "[('berlin', 0.5845881104469299)]"
      ]
     },
     "execution_count": 6,
     "metadata": {},
     "output_type": "execute_result"
    }
   ],
   "source": [
    "wiki_model.most_similar(\n",
    "    positive=[\"brasilia\", \"alemanha\"],\n",
    "    negative=[\"brasil\"],\n",
    "    topn=1,\n",
    ")"
   ]
  },
  {
   "cell_type": "markdown",
   "metadata": {},
   "source": [
    "The typical \"equation\" is $king - man + woman$,\n",
    "the first example in the 2013 paper,\n",
    "which here also yields $queen$\n",
    "(but with all the words in Brazilian Portuguese):"
   ]
  },
  {
   "cell_type": "code",
   "execution_count": 7,
   "metadata": {},
   "outputs": [
    {
     "data": {
      "text/plain": [
       "[('rainha', 0.6084680557250977)]"
      ]
     },
     "execution_count": 7,
     "metadata": {},
     "output_type": "execute_result"
    }
   ],
   "source": [
    "wiki_model.most_similar(\n",
    "    positive=[\"rei\", \"mulher\"], # [\"king\", \"woman\"]\n",
    "    negative=[\"homem\"],         # [\"man\"]\n",
    "    topn=1,\n",
    ")"
   ]
  },
  {
   "cell_type": "markdown",
   "metadata": {},
   "source": [
    "### Word vector normalization"
   ]
  },
  {
   "cell_type": "markdown",
   "metadata": {},
   "source": [
    "We can also get the vector regarding a word to make some actual maths with it:"
   ]
  },
  {
   "cell_type": "code",
   "execution_count": 8,
   "metadata": {},
   "outputs": [
    {
     "data": {
      "text/plain": [
       "numpy.ndarray"
      ]
     },
     "execution_count": 8,
     "metadata": {},
     "output_type": "execute_result"
    }
   ],
   "source": [
    "type(wiki_model[\"brasilia\"])"
   ]
  },
  {
   "cell_type": "code",
   "execution_count": 9,
   "metadata": {},
   "outputs": [
    {
     "data": {
      "text/plain": [
       "(400,)"
      ]
     },
     "execution_count": 9,
     "metadata": {},
     "output_type": "execute_result"
    }
   ],
   "source": [
    "wiki_model[\"brasilia\"].shape"
   ]
  },
  {
   "cell_type": "markdown",
   "metadata": {},
   "source": [
    "But in this case, using the `similar_by_vector` method,\n",
    "we need to manually remove the similarity with itself:"
   ]
  },
  {
   "cell_type": "code",
   "execution_count": 10,
   "metadata": {},
   "outputs": [
    {
     "data": {
      "text/plain": [
       "[('campinas', 1.0),\n",
       " ('ribeirão_preto', 0.7867798805236816),\n",
       " ('sorocaba', 0.7684873342514038),\n",
       " ('jundiaí', 0.7378007769584656),\n",
       " ('araraquara', 0.7296241521835327)]"
      ]
     },
     "execution_count": 10,
     "metadata": {},
     "output_type": "execute_result"
    }
   ],
   "source": [
    "wiki_model.similar_by_vector(wiki_model[\"campinas\"], topn=5)"
   ]
  },
  {
   "cell_type": "markdown",
   "metadata": {},
   "source": [
    "And performing the maths doesn't result in the same vectors,\n",
    "as not all vectors will have the same weight:"
   ]
  },
  {
   "cell_type": "code",
   "execution_count": 11,
   "metadata": {},
   "outputs": [
    {
     "data": {
      "text/html": [
       "<div>\n",
       "<style scoped>\n",
       "    .dataframe tbody tr th:only-of-type {\n",
       "        vertical-align: middle;\n",
       "    }\n",
       "\n",
       "    .dataframe tbody tr th {\n",
       "        vertical-align: top;\n",
       "    }\n",
       "\n",
       "    .dataframe thead th {\n",
       "        text-align: right;\n",
       "    }\n",
       "</style>\n",
       "<table border=\"1\" class=\"dataframe\">\n",
       "  <thead>\n",
       "    <tr style=\"text-align: right;\">\n",
       "      <th></th>\n",
       "      <th>similarity</th>\n",
       "    </tr>\n",
       "    <tr>\n",
       "      <th>token</th>\n",
       "      <th></th>\n",
       "    </tr>\n",
       "  </thead>\n",
       "  <tbody>\n",
       "    <tr>\n",
       "      <th>magdeburg</th>\n",
       "      <td>0.542283</td>\n",
       "    </tr>\n",
       "    <tr>\n",
       "      <th>erfurt</th>\n",
       "      <td>0.525711</td>\n",
       "    </tr>\n",
       "    <tr>\n",
       "      <th>krefeld</th>\n",
       "      <td>0.520014</td>\n",
       "    </tr>\n",
       "    <tr>\n",
       "      <th>alta_baviera</th>\n",
       "      <td>0.517179</td>\n",
       "    </tr>\n",
       "    <tr>\n",
       "      <th>aachen</th>\n",
       "      <td>0.516245</td>\n",
       "    </tr>\n",
       "    <tr>\n",
       "      <th>freiburg</th>\n",
       "      <td>0.516041</td>\n",
       "    </tr>\n",
       "    <tr>\n",
       "      <th>baixa_saxónia</th>\n",
       "      <td>0.508358</td>\n",
       "    </tr>\n",
       "    <tr>\n",
       "      <th>salzburg</th>\n",
       "      <td>0.506056</td>\n",
       "    </tr>\n",
       "    <tr>\n",
       "      <th>ulm</th>\n",
       "      <td>0.505461</td>\n",
       "    </tr>\n",
       "    <tr>\n",
       "      <th>koblenz</th>\n",
       "      <td>0.505086</td>\n",
       "    </tr>\n",
       "  </tbody>\n",
       "</table>\n",
       "</div>"
      ],
      "text/plain": [
       "               similarity\n",
       "token                    \n",
       "magdeburg        0.542283\n",
       "erfurt           0.525711\n",
       "krefeld          0.520014\n",
       "alta_baviera     0.517179\n",
       "aachen           0.516245\n",
       "freiburg         0.516041\n",
       "baixa_saxónia    0.508358\n",
       "salzburg         0.506056\n",
       "ulm              0.505461\n",
       "koblenz          0.505086"
      ]
     },
     "execution_count": 11,
     "metadata": {},
     "output_type": "execute_result"
    }
   ],
   "source": [
    "pd.DataFrame(\n",
    "    wiki_model.similar_by_vector(\n",
    "        wiki_model[\"brasilia\"] - wiki_model[\"brasil\"] + wiki_model[\"alemanha\"],\n",
    "        topn=10,\n",
    "    ),\n",
    "    columns=[\"token\", \"similarity\"],\n",
    ").set_index(\"token\")"
   ]
  },
  {
   "cell_type": "code",
   "execution_count": 12,
   "metadata": {},
   "outputs": [
    {
     "data": {
      "text/html": [
       "<div>\n",
       "<style scoped>\n",
       "    .dataframe tbody tr th:only-of-type {\n",
       "        vertical-align: middle;\n",
       "    }\n",
       "\n",
       "    .dataframe tbody tr th {\n",
       "        vertical-align: top;\n",
       "    }\n",
       "\n",
       "    .dataframe thead th {\n",
       "        text-align: right;\n",
       "    }\n",
       "</style>\n",
       "<table border=\"1\" class=\"dataframe\">\n",
       "  <thead>\n",
       "    <tr style=\"text-align: right;\">\n",
       "      <th></th>\n",
       "      <th>similarity</th>\n",
       "    </tr>\n",
       "    <tr>\n",
       "      <th>token</th>\n",
       "      <th></th>\n",
       "    </tr>\n",
       "  </thead>\n",
       "  <tbody>\n",
       "    <tr>\n",
       "      <th>rei</th>\n",
       "      <td>0.713224</td>\n",
       "    </tr>\n",
       "    <tr>\n",
       "      <th>rainha</th>\n",
       "      <td>0.626994</td>\n",
       "    </tr>\n",
       "    <tr>\n",
       "      <th>consorte</th>\n",
       "      <td>0.553226</td>\n",
       "    </tr>\n",
       "    <tr>\n",
       "      <th>rainha_viúva</th>\n",
       "      <td>0.531954</td>\n",
       "    </tr>\n",
       "    <tr>\n",
       "      <th>mulher</th>\n",
       "      <td>0.513182</td>\n",
       "    </tr>\n",
       "    <tr>\n",
       "      <th>rainha_consorte</th>\n",
       "      <td>0.508050</td>\n",
       "    </tr>\n",
       "    <tr>\n",
       "      <th>rainha_isabel</th>\n",
       "      <td>0.507507</td>\n",
       "    </tr>\n",
       "    <tr>\n",
       "      <th>monarca</th>\n",
       "      <td>0.502872</td>\n",
       "    </tr>\n",
       "    <tr>\n",
       "      <th>princesa</th>\n",
       "      <td>0.501628</td>\n",
       "    </tr>\n",
       "    <tr>\n",
       "      <th>rainha_regente</th>\n",
       "      <td>0.498720</td>\n",
       "    </tr>\n",
       "  </tbody>\n",
       "</table>\n",
       "</div>"
      ],
      "text/plain": [
       "                 similarity\n",
       "token                      \n",
       "rei                0.713224\n",
       "rainha             0.626994\n",
       "consorte           0.553226\n",
       "rainha_viúva       0.531954\n",
       "mulher             0.513182\n",
       "rainha_consorte    0.508050\n",
       "rainha_isabel      0.507507\n",
       "monarca            0.502872\n",
       "princesa           0.501628\n",
       "rainha_regente     0.498720"
      ]
     },
     "execution_count": 12,
     "metadata": {},
     "output_type": "execute_result"
    }
   ],
   "source": [
    "pd.DataFrame(\n",
    "    wiki_model.similar_by_vector(\n",
    "        wiki_model[\"rei\"] - wiki_model[\"homem\"] + wiki_model[\"mulher\"],\n",
    "        topn=10,\n",
    "    ),\n",
    "    columns=[\"token\", \"similarity\"],\n",
    ").set_index(\"token\")"
   ]
  },
  {
   "cell_type": "markdown",
   "metadata": {},
   "source": [
    "That's because the vector magnitude is way too different,\n",
    "and we care mostly about the vector direction,\n",
    "not the vector magnitude.\n",
    "Let's calculate the vector magnitude/norm\n",
    "for each of these words:"
   ]
  },
  {
   "cell_type": "code",
   "execution_count": 13,
   "metadata": {},
   "outputs": [
    {
     "data": {
      "text/plain": [
       "{'brasilia': 9.4632, 'brasil': 28.960426, 'alemanha': 24.099485}"
      ]
     },
     "execution_count": 13,
     "metadata": {},
     "output_type": "execute_result"
    }
   ],
   "source": [
    "{k: np.sqrt((wiki_model[k] ** 2).sum())\n",
    " for k in [\"brasilia\", \"brasil\", \"alemanha\"]}"
   ]
  },
  {
   "cell_type": "code",
   "execution_count": 14,
   "metadata": {},
   "outputs": [
    {
     "data": {
      "text/plain": [
       "{'rei': 2.9873471, 'homem': 2.229483, 'mulher': 2.2330337}"
      ]
     },
     "execution_count": 14,
     "metadata": {},
     "output_type": "execute_result"
    }
   ],
   "source": [
    "{k: np.sqrt((wiki_model[k] ** 2).var())\n",
    " for k in [\"rei\", \"homem\", \"mulher\"]}"
   ]
  },
  {
   "cell_type": "markdown",
   "metadata": {},
   "source": [
    "To give the same weight to these vectors,\n",
    "we need to normalize them before doing that sum/subtraction math.\n",
    "We can simply divide the vectors by the numbers above (their norm),\n",
    "but that's already done by the `word_vec` method\n",
    "when `use_norm=True`:"
   ]
  },
  {
   "cell_type": "code",
   "execution_count": 15,
   "metadata": {},
   "outputs": [
    {
     "data": {
      "text/plain": [
       "1.0"
      ]
     },
     "execution_count": 15,
     "metadata": {},
     "output_type": "execute_result"
    }
   ],
   "source": [
    "(wiki_model.word_vec(\"rei\", use_norm=True) ** 2).sum()"
   ]
  },
  {
   "cell_type": "markdown",
   "metadata": {},
   "source": [
    "Calculating the most similar vectors again\n",
    "(using the direction, not the magnitude):"
   ]
  },
  {
   "cell_type": "code",
   "execution_count": 16,
   "metadata": {},
   "outputs": [
    {
     "data": {
      "text/html": [
       "<div>\n",
       "<style scoped>\n",
       "    .dataframe tbody tr th:only-of-type {\n",
       "        vertical-align: middle;\n",
       "    }\n",
       "\n",
       "    .dataframe tbody tr th {\n",
       "        vertical-align: top;\n",
       "    }\n",
       "\n",
       "    .dataframe thead th {\n",
       "        text-align: right;\n",
       "    }\n",
       "</style>\n",
       "<table border=\"1\" class=\"dataframe\">\n",
       "  <thead>\n",
       "    <tr style=\"text-align: right;\">\n",
       "      <th></th>\n",
       "      <th>similarity</th>\n",
       "    </tr>\n",
       "    <tr>\n",
       "      <th>token</th>\n",
       "      <th></th>\n",
       "    </tr>\n",
       "  </thead>\n",
       "  <tbody>\n",
       "    <tr>\n",
       "      <th>berlin</th>\n",
       "      <td>0.584588</td>\n",
       "    </tr>\n",
       "    <tr>\n",
       "      <th>hamburg</th>\n",
       "      <td>0.580028</td>\n",
       "    </tr>\n",
       "    <tr>\n",
       "      <th>salzburg</th>\n",
       "      <td>0.579465</td>\n",
       "    </tr>\n",
       "    <tr>\n",
       "      <th>münchen</th>\n",
       "      <td>0.572176</td>\n",
       "    </tr>\n",
       "    <tr>\n",
       "      <th>freiburg</th>\n",
       "      <td>0.571325</td>\n",
       "    </tr>\n",
       "    <tr>\n",
       "      <th>sinsheim</th>\n",
       "      <td>0.562500</td>\n",
       "    </tr>\n",
       "    <tr>\n",
       "      <th>köln</th>\n",
       "      <td>0.561137</td>\n",
       "    </tr>\n",
       "    <tr>\n",
       "      <th>nürnberg</th>\n",
       "      <td>0.560043</td>\n",
       "    </tr>\n",
       "    <tr>\n",
       "      <th>krefeld</th>\n",
       "      <td>0.559181</td>\n",
       "    </tr>\n",
       "    <tr>\n",
       "      <th>frankfurt_oder</th>\n",
       "      <td>0.558645</td>\n",
       "    </tr>\n",
       "  </tbody>\n",
       "</table>\n",
       "</div>"
      ],
      "text/plain": [
       "                similarity\n",
       "token                     \n",
       "berlin            0.584588\n",
       "hamburg           0.580028\n",
       "salzburg          0.579465\n",
       "münchen           0.572176\n",
       "freiburg          0.571325\n",
       "sinsheim          0.562500\n",
       "köln              0.561137\n",
       "nürnberg          0.560043\n",
       "krefeld           0.559181\n",
       "frankfurt_oder    0.558645"
      ]
     },
     "execution_count": 16,
     "metadata": {},
     "output_type": "execute_result"
    }
   ],
   "source": [
    "pd.DataFrame(\n",
    "    wiki_model.similar_by_vector(\n",
    "          wiki_model.word_vec(\"brasilia\", True)\n",
    "        - wiki_model.word_vec(\"brasil\", True)\n",
    "        + wiki_model.word_vec(\"alemanha\", True),\n",
    "        topn=10,\n",
    "    ),\n",
    "    columns=[\"token\", \"similarity\"],\n",
    ").set_index(\"token\")"
   ]
  },
  {
   "cell_type": "code",
   "execution_count": 17,
   "metadata": {},
   "outputs": [
    {
     "data": {
      "text/html": [
       "<div>\n",
       "<style scoped>\n",
       "    .dataframe tbody tr th:only-of-type {\n",
       "        vertical-align: middle;\n",
       "    }\n",
       "\n",
       "    .dataframe tbody tr th {\n",
       "        vertical-align: top;\n",
       "    }\n",
       "\n",
       "    .dataframe thead th {\n",
       "        text-align: right;\n",
       "    }\n",
       "</style>\n",
       "<table border=\"1\" class=\"dataframe\">\n",
       "  <thead>\n",
       "    <tr style=\"text-align: right;\">\n",
       "      <th></th>\n",
       "      <th>similarity</th>\n",
       "    </tr>\n",
       "    <tr>\n",
       "      <th>token</th>\n",
       "      <th></th>\n",
       "    </tr>\n",
       "  </thead>\n",
       "  <tbody>\n",
       "    <tr>\n",
       "      <th>rei</th>\n",
       "      <td>0.656337</td>\n",
       "    </tr>\n",
       "    <tr>\n",
       "      <th>rainha</th>\n",
       "      <td>0.608468</td>\n",
       "    </tr>\n",
       "    <tr>\n",
       "      <th>consorte</th>\n",
       "      <td>0.547408</td>\n",
       "    </tr>\n",
       "    <tr>\n",
       "      <th>mulher</th>\n",
       "      <td>0.534614</td>\n",
       "    </tr>\n",
       "    <tr>\n",
       "      <th>rainha_viúva</th>\n",
       "      <td>0.525085</td>\n",
       "    </tr>\n",
       "    <tr>\n",
       "      <th>esposa</th>\n",
       "      <td>0.499288</td>\n",
       "    </tr>\n",
       "    <tr>\n",
       "      <th>rainha_consorte</th>\n",
       "      <td>0.498275</td>\n",
       "    </tr>\n",
       "    <tr>\n",
       "      <th>princesa</th>\n",
       "      <td>0.494415</td>\n",
       "    </tr>\n",
       "    <tr>\n",
       "      <th>rainha_isabel</th>\n",
       "      <td>0.493366</td>\n",
       "    </tr>\n",
       "    <tr>\n",
       "      <th>rainha_regente</th>\n",
       "      <td>0.490066</td>\n",
       "    </tr>\n",
       "  </tbody>\n",
       "</table>\n",
       "</div>"
      ],
      "text/plain": [
       "                 similarity\n",
       "token                      \n",
       "rei                0.656337\n",
       "rainha             0.608468\n",
       "consorte           0.547408\n",
       "mulher             0.534614\n",
       "rainha_viúva       0.525085\n",
       "esposa             0.499288\n",
       "rainha_consorte    0.498275\n",
       "princesa           0.494415\n",
       "rainha_isabel      0.493366\n",
       "rainha_regente     0.490066"
      ]
     },
     "execution_count": 17,
     "metadata": {},
     "output_type": "execute_result"
    }
   ],
   "source": [
    "pd.DataFrame(\n",
    "    wiki_model.similar_by_vector(\n",
    "          wiki_model.word_vec(\"rei\", True)\n",
    "        - wiki_model.word_vec(\"homem\", True)\n",
    "        + wiki_model.word_vec(\"mulher\", True),\n",
    "        topn=10,\n",
    "    ),\n",
    "    columns=[\"token\", \"similarity\"],\n",
    ").set_index(\"token\")"
   ]
  },
  {
   "cell_type": "markdown",
   "metadata": {},
   "source": [
    "That's what the `most_similar` method does,\n",
    "and it's also what the original *word2vec* implementation does,\n",
    "as the method documentation states:\n",
    "\n",
    "> The method corresponds to the `word-analogy` and `distance` scripts\n",
    "> in the original word2vec implementation."
   ]
  },
  {
   "cell_type": "markdown",
   "metadata": {},
   "source": [
    "As an explanation of the maths,\n",
    "we're looking for a vector $b^*$ that maximizes $b^* \\cdot (b - a + a^*)$,\n",
    "working with unit-length vectors $b$, $a$ and $a^*$\n",
    "that corresponds to the input words.\n",
    "That can also be written as a maximization of\n",
    "$b^* \\cdot b - b^* \\cdot a + b^* \\cdot a^*$,\n",
    "or, defining a binary operator $\\cos$ as the cosine similarity\n",
    "(dot product divided by the norms of each vector), we can write it as:\n",
    "\n",
    "$$\\arg \\max_{b^*} \\cos(b^*, b) - \\cos(b^*, a) + \\cos(b^*, a^*)$$"
   ]
  },
  {
   "cell_type": "markdown",
   "metadata": {},
   "source": [
    "### Alternative similarity formula"
   ]
  },
  {
   "cell_type": "markdown",
   "metadata": {},
   "source": [
    "Omer Levy and Yoav Goldberg, in\n",
    "*Linguistic Regularities in Sparse and Explicit Word Representations*, 2014\n",
    "\\[[PDF](http://www.aclweb.org/anthology/W14-1618)\\],\n",
    "named as *3CosAdd* the similarity algorithm we've just seen,\n",
    "and they proposed an alternative \"multiplicative\" algorithm called *3CosMul*,\n",
    "that reminds us of applying the c of each addend/subtrahend\n",
    "in the \"sum/subtraction of cosine similarities\" function we were maximizing.\n",
    "This new equation can also be seen as something like\n",
    "taking a geometric mean of the terms, instead of a simple average.\n",
    "\n",
    "$$\n",
    "\\arg \\max_{b^*} \\dfrac{\\cos(b^*, b) \\cos(b^*, a^*)}\n",
    "                      {\\cos(b^*, a) + \\varepsilon}\n",
    "$$\n",
    "\n",
    "That's exactly what the `most_similar_cosmul` method does!"
   ]
  },
  {
   "cell_type": "code",
   "execution_count": 18,
   "metadata": {},
   "outputs": [
    {
     "data": {
      "text/plain": [
       "[('frankfurt_oder', 0.9992457628250122),\n",
       " ('hamburg', 0.9958572387695312),\n",
       " ('salzburg', 0.993118941783905),\n",
       " ('magdeburg', 0.979534387588501),\n",
       " ('krefeld', 0.9781520962715149),\n",
       " ('oberhausen', 0.9737989902496338),\n",
       " ('zürich', 0.9721503853797913),\n",
       " ('budapest', 0.9673693776130676),\n",
       " ('berlin', 0.9658992290496826),\n",
       " ('vienna', 0.9648484587669373)]"
      ]
     },
     "execution_count": 18,
     "metadata": {},
     "output_type": "execute_result"
    }
   ],
   "source": [
    "wiki_model.most_similar_cosmul(\n",
    "    positive=[\"brasilia\", \"alemanha\"],\n",
    "    negative=[\"brasil\"],\n",
    "    topn=10,\n",
    ")"
   ]
  },
  {
   "cell_type": "code",
   "execution_count": 19,
   "metadata": {},
   "outputs": [
    {
     "data": {
      "text/plain": [
       "[('rainha', 0.9783447980880737),\n",
       " ('consorte', 0.9311118721961975),\n",
       " ('rainha_viúva', 0.9254377484321594),\n",
       " ('rainha_consorte', 0.9043235778808594),\n",
       " ('rainha_isabel', 0.8911893963813782),\n",
       " ('rainha_regente', 0.8879780173301697),\n",
       " ('infanta', 0.8857831358909607),\n",
       " ('princesa', 0.8801829814910889),\n",
       " ('rainha_reinante', 0.8782250881195068),\n",
       " ('concubina', 0.8746837377548218)]"
      ]
     },
     "execution_count": 19,
     "metadata": {},
     "output_type": "execute_result"
    }
   ],
   "source": [
    "wiki_model.most_similar_cosmul(\n",
    "    positive=[\"rei\", \"mulher\"],\n",
    "    negative=[\"homem\"],\n",
    "    topn=10,\n",
    ")"
   ]
  },
  {
   "cell_type": "markdown",
   "metadata": {},
   "source": [
    "It kept *rainha* (queen) as the most similar word\n",
    "in the $king - man + woman$ equation,\n",
    "but *berlin* (Berlin) is no longer the most similar word\n",
    "in the $Brasília - Brazil + Germany$ equation.\n",
    "The similarity values are way higher,\n",
    "but Vienna is the federal capital of Austria,\n",
    "it's no longer a city in Germany.\n",
    "In some sense, these $2$ cherry-picked examples\n",
    "aren't better in *3CosMul* than in *3CosAdd*,\n",
    "that suffices for us to avoid dropping any of these."
   ]
  },
  {
   "cell_type": "markdown",
   "metadata": {},
   "source": [
    "### Lack of data cleaning"
   ]
  },
  {
   "cell_type": "markdown",
   "metadata": {},
   "source": [
    "We've found that some words aren't properly cleaned in the input,\n",
    "and that might rule out what we would expect\n",
    "with \"words maths\" like the ones previously performed here.\n",
    "An example is the word *frequency*,\n",
    "which in portuguese is *frequência*,\n",
    "yet it appear in the dataset with some different writings:"
   ]
  },
  {
   "cell_type": "code",
   "execution_count": 20,
   "metadata": {},
   "outputs": [
    {
     "data": {
      "text/plain": [
       "[('frequência', 1.0),\n",
       " ('freqüência', 0.8619202971458435),\n",
       " ('frequencia', 0.6580279469490051),\n",
       " ('amplitude', 0.6013369560241699),\n",
       " ('frequências', 0.6001715660095215)]"
      ]
     },
     "execution_count": 20,
     "metadata": {},
     "output_type": "execute_result"
    }
   ],
   "source": [
    "wiki_model.similar_by_vector(wiki_model[\"frequência\"], topn=5)"
   ]
  },
  {
   "cell_type": "markdown",
   "metadata": {},
   "source": [
    "The $frequency - hertz + seconds$ equation\n",
    "is expected to return something like *period*, *duration* or *time*,\n",
    "but none of these appears as the $5$ most similar words/expressions:"
   ]
  },
  {
   "cell_type": "code",
   "execution_count": 21,
   "metadata": {},
   "outputs": [
    {
     "data": {
      "text/plain": [
       "[('cinco_minutos', 0.5157788991928101),\n",
       " ('minutos', 0.5141439437866211),\n",
       " ('freqüência', 0.506064772605896),\n",
       " ('dez_minutos', 0.47891607880592346),\n",
       " ('cada_vez', 0.47068893909454346)]"
      ]
     },
     "execution_count": 21,
     "metadata": {},
     "output_type": "execute_result"
    }
   ],
   "source": [
    "wiki_model.most_similar(\n",
    "    positive=[\"frequência\", \"segundos\"],\n",
    "    negative=[\"hertz\"],\n",
    "    topn=5,\n",
    ")"
   ]
  },
  {
   "cell_type": "markdown",
   "metadata": {},
   "source": [
    "Translation of each result, in order:\n",
    "\n",
    "- Five minutes\n",
    "- Minutes\n",
    "- Frequency (another writing of the same word)\n",
    "- Ten minutes\n",
    "- Each time/turn/cycle\n",
    "  (*vez* have nothing to do with the physical meaning of *time*)\n",
    "\n",
    "The fifth entry have something to do with the idea of a cycle,\n",
    "but the word *frequency* appeared again,\n",
    "and it's strange to see these time durations in minutes\n",
    "as distinct tokens.\n",
    "Using *3CosMul* doesn't help that much,\n",
    "its new entries are *do* (of) and *já* (already / right now):"
   ]
  },
  {
   "cell_type": "code",
   "execution_count": 22,
   "metadata": {},
   "outputs": [
    {
     "data": {
      "text/plain": [
       "[('do', 0.9138926267623901),\n",
       " ('já', 0.9123607873916626),\n",
       " ('cinco_minutos', 0.9002106785774231),\n",
       " ('cada_vez', 0.890281081199646),\n",
       " ('minutos', 0.8871634006500244)]"
      ]
     },
     "execution_count": 22,
     "metadata": {},
     "output_type": "execute_result"
    }
   ],
   "source": [
    "wiki_model.most_similar_cosmul(\n",
    "    positive=[\"frequência\", \"segundos\"],\n",
    "    negative=[\"hertz\"],\n",
    "    topn=5,\n",
    ")"
   ]
  },
  {
   "cell_type": "markdown",
   "metadata": {},
   "source": [
    "An expected result was *período*,\n",
    "but there are entries with:\n",
    "\n",
    "- A missed acute accent\n",
    "- A typo (perído)"
   ]
  },
  {
   "cell_type": "code",
   "execution_count": 23,
   "metadata": {},
   "outputs": [
    {
     "data": {
      "text/plain": [
       "[('período', 1.0),\n",
       " ('periodo', 0.7241699695587158),\n",
       " ('perído', 0.6035453081130981),\n",
       " ('longo_período', 0.5876239538192749),\n",
       " ('períodos', 0.5766887068748474)]"
      ]
     },
     "execution_count": 23,
     "metadata": {},
     "output_type": "execute_result"
    }
   ],
   "source": [
    "wiki_model.similar_by_vector(wiki_model[\"período\"], topn=5)"
   ]
  },
  {
   "cell_type": "markdown",
   "metadata": {},
   "source": [
    "And these are obviously not the only words\n",
    "that hadn't been properly cleaned.\n",
    "Perhaps the result wasn't as expected\n",
    "in the last \"word math\" calculation\n",
    "because of this \"word splitting\",\n",
    "though there's no reason to believe\n",
    "that these alternative writings have some systematic bias."
   ]
  },
  {
   "cell_type": "code",
   "execution_count": 24,
   "metadata": {},
   "outputs": [
    {
     "data": {
      "text/plain": [
       "[('periodo', 1.0000001192092896),\n",
       " ('período', 0.7241699695587158),\n",
       " ('perído', 0.7190518379211426),\n",
       " ('conturbado_período', 0.6516879200935364),\n",
       " ('interregno', 0.6100722551345825)]"
      ]
     },
     "execution_count": 24,
     "metadata": {},
     "output_type": "execute_result"
    }
   ],
   "source": [
    "wiki_model.similar_by_vector(wiki_model[\"periodo\"], topn=5)"
   ]
  },
  {
   "cell_type": "markdown",
   "metadata": {},
   "source": [
    "(Floats are evil:\n",
    " the sums going on behind the scenes\n",
    " aren't free from rounding issues,\n",
    " that's why the similarity of a word with itself\n",
    " was given as greater than one)."
   ]
  },
  {
   "cell_type": "markdown",
   "metadata": {},
   "source": [
    "## Training a `word2vec` model"
   ]
  },
  {
   "cell_type": "markdown",
   "metadata": {},
   "source": [
    "How could a `word2vec` model replace an LSI model\n",
    "to create a word embedding\n",
    "that would be helpful on\n",
    "either finding invalid/inconsistent entries\n",
    "or filling missing values\n",
    "on a dataset of document affiliations?\n",
    "\n",
    "Let's perform the same procedure applied on LSI in the previous experiment,\n",
    "but, this time, let's use it to train a word2vec model.\n",
    "\n",
    "The goal is to:\n",
    "\n",
    "- Fit a `word2vec` model with the CSV created on 2018-06-04,\n",
    "  ignoring the country fields;\n",
    "- Fit a random forest model to detect the country from the `word2vec` vectors."
   ]
  },
  {
   "cell_type": "markdown",
   "metadata": {},
   "source": [
    "### Simple/small example data"
   ]
  },
  {
   "cell_type": "markdown",
   "metadata": {},
   "source": [
    "Let's use the `gensim` word list example:"
   ]
  },
  {
   "cell_type": "code",
   "execution_count": 25,
   "metadata": {},
   "outputs": [
    {
     "data": {
      "text/plain": [
       "[['human', 'interface', 'computer'],\n",
       " ['survey', 'user', 'computer', 'system', 'response', 'time'],\n",
       " ['eps', 'user', 'interface', 'system'],\n",
       " ['system', 'human', 'system', 'eps'],\n",
       " ['user', 'response', 'time'],\n",
       " ['trees'],\n",
       " ['graph', 'trees'],\n",
       " ['graph', 'minors', 'trees'],\n",
       " ['graph', 'minors', 'survey']]"
      ]
     },
     "execution_count": 25,
     "metadata": {},
     "output_type": "execute_result"
    }
   ],
   "source": [
    "from gensim.test.utils import common_texts\n",
    "common_texts"
   ]
  },
  {
   "cell_type": "markdown",
   "metadata": {},
   "source": [
    "Training the model is quite straightforward.\n",
    "In order to have a deterministic result,\n",
    "the fixed random state seed didn't suffice,\n",
    "so this notebook was loaded in an environment\n",
    "with the variable `PYTHONHASHSEED` set to $12$,\n",
    "and the number of workers below must be $1$."
   ]
  },
  {
   "cell_type": "code",
   "execution_count": 26,
   "metadata": {},
   "outputs": [],
   "source": [
    "from gensim.models import Word2Vec\n",
    "simple_model = Word2Vec(common_texts,\n",
    "        # Model parameters\n",
    "    size=100,\n",
    "    window=5,\n",
    "    min_count=1, # Don't ignore rare words\n",
    "    sg=1, # Skip-gram architecture\n",
    "        # Training parameters\n",
    "    seed=15, # Random state\n",
    "    workers=1, # Required to be deterministic\n",
    ")"
   ]
  },
  {
   "cell_type": "markdown",
   "metadata": {},
   "source": [
    "The embedded vectors are stored as a numpy array:"
   ]
  },
  {
   "cell_type": "code",
   "execution_count": 27,
   "metadata": {},
   "outputs": [
    {
     "name": "stdout",
     "output_type": "stream",
     "text": [
      "(12, 100)\n"
     ]
    },
    {
     "data": {
      "text/plain": [
       "array([[-0.00428557,  0.00216113,  0.00402854, ...,  0.00140277,\n",
       "        -0.00334452, -0.0032006 ],\n",
       "       [ 0.00060753,  0.00063772, -0.00476925, ..., -0.00487864,\n",
       "         0.00183349, -0.00452836],\n",
       "       [ 0.00369058, -0.00262321,  0.00200117, ...,  0.00498826,\n",
       "        -0.00470721, -0.00199498],\n",
       "       ...,\n",
       "       [-0.00433799, -0.0018811 , -0.0010456 , ..., -0.00308982,\n",
       "        -0.00239783, -0.00022038],\n",
       "       [-0.00088028, -0.00305871, -0.00320308, ..., -0.00349069,\n",
       "         0.00279495, -0.00116475],\n",
       "       [ 0.0047669 , -0.00347038,  0.00227696, ...,  0.0008532 ,\n",
       "         0.0040411 , -0.00405969]], dtype=float32)"
      ]
     },
     "execution_count": 27,
     "metadata": {},
     "output_type": "execute_result"
    }
   ],
   "source": [
    "print(simple_model.wv.vectors.shape)\n",
    "simple_model.wv.vectors"
   ]
  },
  {
   "cell_type": "markdown",
   "metadata": {},
   "source": [
    "The words to which the each row belongs are stored in the `index2word` list:"
   ]
  },
  {
   "cell_type": "code",
   "execution_count": 28,
   "metadata": {},
   "outputs": [
    {
     "data": {
      "text/plain": [
       "['system',\n",
       " 'user',\n",
       " 'trees',\n",
       " 'graph',\n",
       " 'human',\n",
       " 'interface',\n",
       " 'computer',\n",
       " 'survey',\n",
       " 'response',\n",
       " 'time',\n",
       " 'eps',\n",
       " 'minors']"
      ]
     },
     "execution_count": 28,
     "metadata": {},
     "output_type": "execute_result"
    }
   ],
   "source": [
    "simple_model.wv.index2word"
   ]
  },
  {
   "cell_type": "markdown",
   "metadata": {},
   "source": [
    "Checking the order:"
   ]
  },
  {
   "cell_type": "code",
   "execution_count": 29,
   "metadata": {},
   "outputs": [
    {
     "data": {
      "text/plain": [
       "True"
      ]
     },
     "execution_count": 29,
     "metadata": {},
     "output_type": "execute_result"
    }
   ],
   "source": [
    "np.all(simple_model.wv.vectors ==\n",
    "       np.array([simple_model.wv[word]\n",
    "                 for idx, word in enumerate(simple_model.wv.index2word)])\n",
    "      )"
   ]
  },
  {
   "cell_type": "markdown",
   "metadata": {},
   "source": [
    "That information should be enough\n",
    "for us to create a model with the actual data."
   ]
  },
  {
   "cell_type": "markdown",
   "metadata": {},
   "source": [
    "### Getting the word lists and training `word2vec` w/ non-country text fields from Clea's CSV"
   ]
  },
  {
   "cell_type": "markdown",
   "metadata": {},
   "source": [
    "We'll work with the same dataset\n",
    "(coming from Clea's output, created on 2018-06-04)\n",
    "as the previous regarding LSI/LSA (it started on 2018-08-23):"
   ]
  },
  {
   "cell_type": "code",
   "execution_count": 30,
   "metadata": {},
   "outputs": [],
   "source": [
    "dataset = pd.read_csv(\"inner_join_2018-06-04.csv\",\n",
    "                      dtype=str,\n",
    "                      keep_default_na=False) \\\n",
    "            .drop_duplicates()"
   ]
  },
  {
   "cell_type": "markdown",
   "metadata": {},
   "source": [
    "The first cleaning step is the same one from that experiment,\n",
    "which removes accents (keeping the letters), lowercases everything\n",
    "and removes any other character."
   ]
  },
  {
   "cell_type": "code",
   "execution_count": 31,
   "metadata": {},
   "outputs": [],
   "source": [
    "import re\n",
    "from unidecode import unidecode\n",
    "\n",
    "TEXT_ONLY_REGEX = re.compile(\"[^a-zA-Z ]\")\n",
    "\n",
    "def pre_normalize(name):\n",
    "    return TEXT_ONLY_REGEX.sub(\"\", unidecode(name).lower())"
   ]
  },
  {
   "cell_type": "markdown",
   "metadata": {},
   "source": [
    "Using the same stopwords as before, we can create a function\n",
    "that gets a dataset and casts it as a word list.\n",
    "Here we don't need to worry about uncommon (single occurrence) words,\n",
    "that's a `word2vec` parameter."
   ]
  },
  {
   "cell_type": "code",
   "execution_count": 32,
   "metadata": {},
   "outputs": [],
   "source": [
    "stop_words = [\"da\", \"de\", \"desta\", \"do\", \"em\", \"ii\", \"iii\", \"in\", \"mesma\", \"no\", \"pela\", \"pelos\"]\n",
    "\n",
    "def df2wlist(dset, stop_words=stop_words):\n",
    "    return dset.T.apply(\n",
    "        lambda row: [\n",
    "            word for word in pre_normalize(\" \".join(row)).split()\n",
    "                 if word not in stop_words\n",
    "                 and len(word) > 1\n",
    "        ]\n",
    "    )"
   ]
  },
  {
   "cell_type": "markdown",
   "metadata": {},
   "source": [
    "The following entries are all the field names from that CSV\n",
    "with some content that might be useful for us\n",
    "from which we want to find the `addr_country_code`.\n",
    "When training with a joined-columns word list,\n",
    "the order of the fields matters!"
   ]
  },
  {
   "cell_type": "code",
   "execution_count": 33,
   "metadata": {},
   "outputs": [],
   "source": [
    "x_fields = [\n",
    "    \"addr_city\",\n",
    "    \"addr_state\",\n",
    "    \"aff_text\",\n",
    "    \"article_title\",\n",
    "    \"contrib_bio\",\n",
    "    \"contrib_prefix\",\n",
    "    \"contrib_name\",\n",
    "    \"contrib_surname\",\n",
    "    \"institution_orgdiv1\",\n",
    "    \"institution_orgdiv2\",\n",
    "    \"institution_orgname\",\n",
    "    \"institution_orgname_rewritten\",\n",
    "    \"institution_original\",\n",
    "    \"institution_orgname_rewritten\",\n",
    "    \"journal_title\",\n",
    "    \"publisher_name\",\n",
    "]"
   ]
  },
  {
   "cell_type": "markdown",
   "metadata": {},
   "source": [
    "From this, we can get the desired wordlist:"
   ]
  },
  {
   "cell_type": "code",
   "execution_count": 34,
   "metadata": {},
   "outputs": [
    {
     "name": "stdout",
     "output_type": "stream",
     "text": [
      "CPU times: user 14.6 s, sys: 105 ms, total: 14.7 s\n",
      "Wall time: 14.8 s\n"
     ]
    }
   ],
   "source": [
    "%%time\n",
    "wlist = df2wlist(dataset[x_fields])"
   ]
  },
  {
   "cell_type": "code",
   "execution_count": 35,
   "metadata": {},
   "outputs": [
    {
     "data": {
      "text/plain": [
       "94655    [universidade, estado, rio, janeiro, instituto...\n",
       "94656    [ciudad, buenos, aires, ciudad, buenos, aires,...\n",
       "94657    [joao, pessoa, pb, universidade, federal, para...\n",
       "94658    [sao, paulo, universidade, sao, paulo, departa...\n",
       "94659    [campinas, sp, universidade, estadual, campina...\n",
       "dtype: object"
      ]
     },
     "execution_count": 35,
     "metadata": {},
     "output_type": "execute_result"
    }
   ],
   "source": [
    "wlist.tail()"
   ]
  },
  {
   "cell_type": "code",
   "execution_count": 36,
   "metadata": {},
   "outputs": [
    {
     "name": "stdout",
     "output_type": "stream",
     "text": [
      "CPU times: user 4min 24s, sys: 306 ms, total: 4min 24s\n",
      "Wall time: 4min 24s\n"
     ]
    }
   ],
   "source": [
    "%%time\n",
    "model = Word2Vec(wlist,\n",
    "        # Model parameters\n",
    "    size=200,\n",
    "    window=7,\n",
    "    min_count=2, # Ignore uncommon words\n",
    "    sg=1, # Skip-gram architecture\n",
    "        # Training parameters\n",
    "    seed=15, # Random state\n",
    "    workers=1, # Required to be deterministic\n",
    ")"
   ]
  },
  {
   "cell_type": "markdown",
   "metadata": {},
   "source": [
    "That was really fast!\n",
    "it would be faster if we used $4$ workers in a quadcore machine,\n",
    "but in order to enforce deterministic results,\n",
    "we're constrained to a single worker.\n",
    "\n",
    "Although the `word2vec` neural network model is shallow,\n",
    "the data we've got here might be too small.\n",
    "Anyway, we know how to compare words,\n",
    "but we still doesn't know how to compare documents."
   ]
  },
  {
   "cell_type": "markdown",
   "metadata": {},
   "source": [
    "## Using the `word2vec` model to calculate the similarity of documents"
   ]
  },
  {
   "cell_type": "markdown",
   "metadata": {},
   "source": [
    "At first, lest's try to compare pairs of documents in the simple model,\n",
    "then we'll try to generalize the similarity equations\n",
    "to train machine learning algorithms\n",
    "using the `word2vec` embedding."
   ]
  },
  {
   "cell_type": "markdown",
   "metadata": {},
   "source": [
    "### Soft cosine similarity in the simple example"
   ]
  },
  {
   "cell_type": "markdown",
   "metadata": {},
   "source": [
    "The word2vec gives us a *word* embedding vector space model,\n",
    "not a *document* embedding one.\n",
    "Let's try one approach to query for similar documents in a corpus\n",
    "using the `word2vec` embeddings together with a bag of words model,\n",
    "based on [this tutorial](\n",
    "  https://github.com/RaRe-Technologies/gensim/blob/develop/docs/notebooks/soft_cosine_tutorial.ipynb\n",
    ")."
   ]
  },
  {
   "cell_type": "code",
   "execution_count": 37,
   "metadata": {},
   "outputs": [],
   "source": [
    "from gensim.corpora import Dictionary\n",
    "from gensim.matutils import softcossim, corpus2dense\n",
    "import matplotlib.pyplot as plt\n",
    "import seaborn as sns\n",
    "%matplotlib inline"
   ]
  },
  {
   "cell_type": "markdown",
   "metadata": {},
   "source": [
    "We build a similarity matrix for the words.\n",
    "It can be seen as a matrix to transform a bag of words vector\n",
    "into a linear space where the axis for similar words\n",
    "have stronger projections."
   ]
  },
  {
   "cell_type": "code",
   "execution_count": 38,
   "metadata": {},
   "outputs": [
    {
     "name": "stderr",
     "output_type": "stream",
     "text": [
      "/usr/lib/python3.7/site-packages/gensim/matutils.py:737: FutureWarning: Conversion of the second argument of issubdtype from `int` to `np.signedinteger` is deprecated. In future, it will be treated as `np.int64 == np.dtype(int).type`.\n",
      "  if np.issubdtype(vec.dtype, np.int):\n"
     ]
    },
    {
     "data": {
      "text/plain": [
       "<12x12 sparse matrix of type '<class 'numpy.float32'>'\n",
       "\twith 92 stored elements in Compressed Sparse Column format>"
      ]
     },
     "execution_count": 38,
     "metadata": {},
     "output_type": "execute_result"
    },
    {
     "data": {
      "image/png": "[encoded data removed]",
      "text/plain": [
       "<Figure size 1008x432 with 2 Axes>"
      ]
     },
     "metadata": {
      "needs_background": "light"
     },
     "output_type": "display_data"
    }
   ],
   "source": [
    "simple_dictionary = Dictionary(common_texts)\n",
    "simple_similarity_matrix = simple_model.wv.similarity_matrix(simple_dictionary)\n",
    "sns.heatmap(\n",
    "    simple_similarity_matrix.todense(),\n",
    "    annot=True,\n",
    "    ax=plt.subplots(figsize=(14, 6))[1],\n",
    "    xticklabels=simple_dictionary.values(),\n",
    "    yticklabels=simple_dictionary.values(),\n",
    ").set(title=\"Similarity matrix for the dictionary of words from the $common\\_text$ corpus\")\n",
    "simple_similarity_matrix"
   ]
  },
  {
   "cell_type": "code",
   "execution_count": 39,
   "metadata": {},
   "outputs": [
    {
     "data": {
      "image/png": "[encoded data removed]",
      "text/plain": [
       "<Figure size 1008x432 with 2 Axes>"
      ]
     },
     "metadata": {
      "needs_background": "light"
     },
     "output_type": "display_data"
    }
   ],
   "source": [
    "sns.heatmap(\n",
    "    simple_similarity_matrix.todense() - np.eye(12),\n",
    "    mask=np.eye(12),\n",
    "    annot=True,\n",
    "    ax=plt.subplots(figsize=(14, 6))[1],\n",
    "    xticklabels=simple_dictionary.values(),\n",
    "    yticklabels=simple_dictionary.values(),\n",
    ").set(title=\"Similarity matrix for the dictionary of words from the $common\\_text$ corpus, \"\n",
    "            \"but the self-identity cells\");"
   ]
  },
  {
   "cell_type": "markdown",
   "metadata": {},
   "source": [
    "It's always a symmetric matrix,\n",
    "since the similarity of words $a$ and $b$\n",
    "and the similarity of words $b$ and $a$\n",
    "are just the same."
   ]
  },
  {
   "cell_type": "code",
   "execution_count": 40,
   "metadata": {},
   "outputs": [
    {
     "data": {
      "text/plain": [
       "<12x12 sparse matrix of type '<class 'numpy.bool_'>'\n",
       "\twith 0 stored elements in Compressed Sparse Row format>"
      ]
     },
     "execution_count": 40,
     "metadata": {},
     "output_type": "execute_result"
    }
   ],
   "source": [
    "simple_similarity_matrix.T != simple_similarity_matrix"
   ]
  },
  {
   "cell_type": "markdown",
   "metadata": {},
   "source": [
    "With that matrix,\n",
    "we can compute the similarity between any pair of documents,\n",
    "based on the bag of words (BoW) vector of both documents."
   ]
  },
  {
   "cell_type": "code",
   "execution_count": 41,
   "metadata": {},
   "outputs": [
    {
     "data": {
      "text/plain": [
       "0.007636782798778332"
      ]
     },
     "execution_count": 41,
     "metadata": {},
     "output_type": "execute_result"
    }
   ],
   "source": [
    "sysattack_msg = \"the computer system is under attack\"\n",
    "sysattack_bow = simple_dictionary.doc2bow(sysattack_msg.split())\n",
    "softcossim(sysattack_bow,\n",
    "           simple_dictionary.doc2bow(\"this survey interface have some minors\".split()),\n",
    "           simple_similarity_matrix)"
   ]
  },
  {
   "cell_type": "code",
   "execution_count": 42,
   "metadata": {},
   "outputs": [
    {
     "data": {
      "text/plain": [
       "0.5058680176734923"
      ]
     },
     "execution_count": 42,
     "metadata": {},
     "output_type": "execute_result"
    }
   ],
   "source": [
    "softcossim(sysattack_bow,\n",
    "           simple_dictionary.doc2bow(\"our trees aren't in the system\".split()),\n",
    "           simple_similarity_matrix)"
   ]
  },
  {
   "cell_type": "code",
   "execution_count": 43,
   "metadata": {},
   "outputs": [
    {
     "data": {
      "text/plain": [
       "0.5750714192519532"
      ]
     },
     "execution_count": 43,
     "metadata": {},
     "output_type": "execute_result"
    }
   ],
   "source": [
    "# This one is compared with a corpus entry\n",
    "softcossim(sysattack_bow,\n",
    "           simple_dictionary.doc2bow(\"survey user computer system response time\".split()),\n",
    "           simple_similarity_matrix)"
   ]
  },
  {
   "cell_type": "markdown",
   "metadata": {},
   "source": [
    "We can compute the similarity of an arbitrary document\n",
    "with all documents in a corpus\n",
    "from the bag of words vectors."
   ]
  },
  {
   "cell_type": "code",
   "execution_count": 44,
   "metadata": {},
   "outputs": [],
   "source": [
    "from gensim.similarities import SoftCosineSimilarity"
   ]
  },
  {
   "cell_type": "code",
   "execution_count": 45,
   "metadata": {},
   "outputs": [],
   "source": [
    "simple_bow_corpus = [simple_dictionary.doc2bow(document) for document in common_texts]\n",
    "simple_bow_dense = corpus2dense(simple_bow_corpus, num_terms=len(simple_dictionary))\n",
    "sysattack_bow_vect = corpus2dense([sysattack_bow], num_terms=len(simple_dictionary))"
   ]
  },
  {
   "cell_type": "code",
   "execution_count": 46,
   "metadata": {},
   "outputs": [
    {
     "data": {
      "text/plain": [
       "(12, 9)"
      ]
     },
     "execution_count": 46,
     "metadata": {},
     "output_type": "execute_result"
    },
    {
     "data": {
      "image/png": "[encoded data removed]",
      "text/plain": [
       "<Figure size 864x288 with 2 Axes>"
      ]
     },
     "metadata": {
      "needs_background": "light"
     },
     "output_type": "display_data"
    }
   ],
   "source": [
    "sns.heatmap(\n",
    "    np.concatenate([simple_bow_dense,\n",
    "                    np.zeros_like(sysattack_bow_vect),\n",
    "                    sysattack_bow_vect],\n",
    "                    axis=1),\n",
    "    mask=np.concatenate([np.zeros_like(simple_bow_dense),\n",
    "                         np.ones_like(sysattack_bow_vect),\n",
    "                         np.zeros_like(sysattack_bow_vect)],\n",
    "                         axis=1),\n",
    "    annot=True,\n",
    "    ax=plt.subplots(figsize=(12, 4))[1],\n",
    "    xticklabels=[\" \".join(wlist) for wlist in common_texts] +\n",
    "                [\"\", sysattack_msg],\n",
    "    yticklabels=[simple_dictionary.id2token[k] for k in range(len(simple_dictionary))],\n",
    ").set(title=\"Bag of words vectors for the $common\\_text$ corpus \"\n",
    "            \" and an external word list\")\n",
    "simple_bow_dense.shape # Each column is a document"
   ]
  },
  {
   "cell_type": "code",
   "execution_count": 47,
   "metadata": {},
   "outputs": [
    {
     "data": {
      "text/plain": [
       "array([0.41339546, 0.57507142, 0.37038886, 0.59098528, 0.00326234,\n",
       "       0.00829864, 0.0215836 , 0.01783829, 0.01417663])"
      ]
     },
     "execution_count": 47,
     "metadata": {},
     "output_type": "execute_result"
    }
   ],
   "source": [
    "simple_scs = SoftCosineSimilarity(simple_bow_corpus, simple_similarity_matrix)\n",
    "sysattack_similarities = simple_scs[sysattack_bow]\n",
    "sysattack_similarities"
   ]
  },
  {
   "cell_type": "code",
   "execution_count": 48,
   "metadata": {},
   "outputs": [
    {
     "data": {
      "image/png": "[encoded data removed]",
      "text/plain": [
       "<Figure size 432x288 with 2 Axes>"
      ]
     },
     "metadata": {
      "needs_background": "light"
     },
     "output_type": "display_data"
    }
   ],
   "source": [
    "sns.heatmap(\n",
    "    pd.DataFrame(\n",
    "        [(common_texts[idx], sysattack_similarities[idx])\n",
    "         for idx in np.argsort(sysattack_similarities)[::-1]],\n",
    "        columns=[\"wordlist\", \"similarity\"]\n",
    "    ).set_index(\"wordlist\"),\n",
    "    annot=True,\n",
    "    fmt=\"f\",\n",
    ").set(title=f'Similarity with \"{sysattack_msg}\"');"
   ]
  },
  {
   "cell_type": "markdown",
   "metadata": {},
   "source": [
    "That's the document similarity based on `word2vec`\n",
    "and the soft cosine formula.\n",
    "For a $k$-NN using $k = 1$,\n",
    "we can get just the most similar document using this approach."
   ]
  },
  {
   "cell_type": "markdown",
   "metadata": {},
   "source": [
    "#### Explanation and new basis for the soft cosine similarity"
   ]
  },
  {
   "cell_type": "markdown",
   "metadata": {},
   "source": [
    "To use another supervised learning algorithm\n",
    "(e.g. random forests)\n",
    "on the documents we have,\n",
    "we need to find a fixed set of features\n",
    "based on the word2vec representation\n",
    "that can be used to represent a document,\n",
    "instead of just comparing each new input\n",
    "with all corpus entries\n",
    "in a brute force approach."
   ]
  },
  {
   "cell_type": "markdown",
   "metadata": {},
   "source": [
    "The question is:\n",
    "*can we find a linear transformation matrix\n",
    "that converts any pair of bag of words vectors\n",
    "so that their dot product normalized by their norm\n",
    "is the soft cosine similarity?*\n",
    "The answer is:\n",
    "usually, not a real-valued one,\n",
    "which won't be of much use anyway,\n",
    "but we can find a linear space\n",
    "if we neglect the (perhaps complex) scaling factors."
   ]
  },
  {
   "cell_type": "markdown",
   "metadata": {},
   "source": [
    "Following the equation $2$ found in\n",
    "*SimBow at SemEval-2017 Task 3: Soft-Cosine Semantic Similarity\n",
    "between Questions for Community Question Answering*\n",
    "by Delphine Charlet and Géraldine Damnati (2017)\n",
    "[\\[PDF\\]](https://aclweb.org/anthology/S/S17/S17-2051.pdf),\n",
    "the soft cosine similarity is calculated as:\n",
    "\n",
    "$$\n",
    "\\cos_M(X, Y) = \\dfrac{X^T M Y}{\\sqrt{X^T M X}\n",
    "                               \\sqrt{Y^T M Y}}\n",
    "$$\n",
    "\n",
    "Where $X$ and $Y$ are the *bag of words* model of the two documents.\n",
    "The similarity matrix we've just found is $M$,\n",
    "as explicit in the\n",
    "[WordEmbeddingsKeyedVectors.similarity_matrix docstring](\n",
    "https://radimrehurek.com/gensim/models/keyedvectors.html#gensim.models.keyedvectors.WordEmbeddingsKeyedVectors.similarity_matrix\n",
    ").\n",
    "Assuming it's symmetric\n",
    "(the similarity between the word whose bag of words is the vector $X$\n",
    " and the word whose bag of words is the vector $Y$\n",
    " is the same when we evaluate it the other way around),\n",
    "we can write $M = U \\Lambda U^T$.\n",
    "We won't use the Cholesky decomposition here\n",
    "since our matrix might be singular and might have negative eigenvalues\n",
    "(it doesn't apply for matrices that aren't positive definite),\n",
    "but we can perform a decomposition to get the eigenvectors."
   ]
  },
  {
   "cell_type": "markdown",
   "metadata": {},
   "source": [
    "Say $v_i$ is the normalized word embedding vector\n",
    "found by the `word2vec` model\n",
    "for the $i^{th}$ word\n",
    "divided by its norm in that word embedding space,\n",
    "then the entries of the similarity matrix are:\n",
    "\n",
    "$$\n",
    "m_{i,j} = \\max (0, v_i \\cdot v_j )^2\n",
    "$$\n",
    "\n",
    "Therefore, $0 \\le m_{i,j} = m_{j,i} \\le 1$\n",
    "and $m_{i,i} = 1$.\n",
    "This diagonal of ones tells us that the mean value of our eigenvalues is $1$.\n",
    "But that's not enough to get just non-negative eigenvalues,\n",
    "since, as an example, an $M$ like:\n",
    "\n",
    "$$\n",
    "\\left[\\begin{array}{ccc}\n",
    "1             & \\dfrac{7}{10} & \\dfrac{4}{5} \\\\\n",
    "\\dfrac{7}{10} & 1             & 0 \\\\\n",
    "\\dfrac{4}{5}  & 0             & 1 \\\\\n",
    "\\end{array}\\right]\n",
    "$$\n",
    "\n",
    "would have a negative eigenvalue,\n",
    "so $\\Lambda^{1/2}$ isn't a real-valued matrix."
   ]
  },
  {
   "cell_type": "code",
   "execution_count": 49,
   "metadata": {},
   "outputs": [
    {
     "data": {
      "text/plain": [
       "array([-0.06301458,  2.06301458,  1.        ])"
      ]
     },
     "execution_count": 49,
     "metadata": {},
     "output_type": "execute_result"
    }
   ],
   "source": [
    "bad_matrix = [[1, .7, .8], [.7, 1, 0], [.8, 0, 1]]\n",
    "np.linalg.eigvals(bad_matrix)"
   ]
  },
  {
   "cell_type": "markdown",
   "metadata": {},
   "source": [
    "For any real-valued matrix $H$,\n",
    "we know the entries in the diagonal of $H \\cdot H^T$\n",
    "are all sums of squares, so they can't be negative.\n",
    "Therefore we can't write $M = H \\cdot H^T$\n",
    "unless $M$ is semi-definite positive\n",
    "or $H$ is complex-valued.\n",
    "\n",
    "Such a negative value would make the $1 - \\cos_M(X, Y)$ \"distance\"\n",
    "violate the triangle inequality,\n",
    "that is, some dimension would have\n",
    "some sort of \"attractive\" behavior\n",
    "(a larger difference in such dimension would give a smaller \"distance\"),\n",
    "and the outcome can be a negative \"distance\"\n",
    "(or a similarity greater than $100\\%$).\n",
    "That's not an actual distance measure / metric."
   ]
  },
  {
   "cell_type": "code",
   "execution_count": 50,
   "metadata": {},
   "outputs": [
    {
     "data": {
      "text/plain": [
       "array([[-0.00134702]])"
      ]
     },
     "execution_count": 50,
     "metadata": {},
     "output_type": "execute_result"
    }
   ],
   "source": [
    "bad_x_raw = np.array([2, 3, 1])[:, None]\n",
    "bad_x = bad_x_raw / np.sqrt(bad_x_raw.T @ bad_matrix @ bad_x_raw)\n",
    "bad_y_raw = np.array([6, 5, 1])[:, None]\n",
    "bad_y = bad_y_raw / np.sqrt(bad_y_raw.T @ bad_matrix @ bad_y_raw)\n",
    "1 - bad_x.T @ bad_matrix @ bad_y"
   ]
  },
  {
   "cell_type": "markdown",
   "metadata": {},
   "source": [
    "We can get rid from the dimensions with negative eigenvalues,\n",
    "clipping the eigenvalues on zero,\n",
    "or we can keep just the few biggest eigenvectors\n",
    "in an approach similar to LSA.\n",
    "That would make the $1 - \\cos_M(X, Y)$ at least non-negative:"
   ]
  },
  {
   "cell_type": "code",
   "execution_count": 51,
   "metadata": {},
   "outputs": [
    {
     "data": {
      "text/plain": [
       "array([[1.03150729, 0.6792523 , 0.77628835],\n",
       "       [0.6792523 , 1.01366245, 0.01561423],\n",
       "       [0.77628835, 0.01561423, 1.01784484]])"
      ]
     },
     "execution_count": 51,
     "metadata": {},
     "output_type": "execute_result"
    }
   ],
   "source": [
    "bad_lambda, bad_u = np.linalg.eigh([[1, .7, .8], [.7, 1, 0], [.8, 0, 1]])\n",
    "bad_resynth = bad_u @ np.diag(np.clip(bad_lambda, 0, None)) @ bad_u.T\n",
    "bad_resynth"
   ]
  },
  {
   "cell_type": "code",
   "execution_count": 52,
   "metadata": {},
   "outputs": [
    {
     "data": {
      "text/plain": [
       "array([[ 0.03150729, -0.0207477 , -0.02371165],\n",
       "       [-0.0207477 ,  0.01366245,  0.01561423],\n",
       "       [-0.02371165,  0.01561423,  0.01784484]])"
      ]
     },
     "execution_count": 52,
     "metadata": {},
     "output_type": "execute_result"
    }
   ],
   "source": [
    "bad_resynth - bad_matrix"
   ]
  },
  {
   "cell_type": "code",
   "execution_count": 53,
   "metadata": {},
   "outputs": [
    {
     "data": {
      "text/plain": [
       "array([[0.00034045]])"
      ]
     },
     "execution_count": 53,
     "metadata": {},
     "output_type": "execute_result"
    }
   ],
   "source": [
    "bad_x_rs = bad_x_raw / np.sqrt(bad_x_raw.T @ bad_resynth @ bad_x_raw)\n",
    "bad_y_rs = bad_y_raw / np.sqrt(bad_y_raw.T @ bad_resynth @ bad_y_raw)\n",
    "1 - bad_x_rs.T @ bad_resynth @ bad_y_rs"
   ]
  },
  {
   "cell_type": "markdown",
   "metadata": {},
   "source": [
    "However, the greatest singular value\n",
    "(square root of the greatest eigenvalue of $M M^T$,\n",
    " which is semi-positive definite)\n",
    "might appear as a negative eigenvalue of $M$.\n",
    "That's because $M$ is symmetric and:\n",
    "\n",
    "$$\n",
    "\\begin{align}\n",
    "M &= U \\Sigma V^T \\\\\n",
    "M^T &= V \\Sigma U^T \\\\\n",
    "M^2 = M M^T &= U \\Sigma^2 U^T \\\\\n",
    "M^2 = M^T M &= V \\Sigma^2 V^T \\\\\n",
    "U \\Sigma^2 U^T &= V \\Sigma^2 V^T\n",
    "\\end{align}\n",
    "$$\n",
    "\n",
    "Then $U$ and $V$ should have *almost* the same eigenvectors:\n",
    "their direction might be opposite.\n",
    "The eigenvectors of $M$ should be $\\lambda_i = \\sigma_i$\n",
    "when the eigenvectors in $U$ and $V$ are the same,\n",
    "and $\\lambda_i = -\\sigma_i$ when they have the opposite direction."
   ]
  },
  {
   "cell_type": "markdown",
   "metadata": {},
   "source": [
    "Our options are:\n",
    "\n",
    "- Use a complex-valued vector after transforming the bag of words vector;\n",
    "- Use a \\[perhaps badly\\] clipped matrix\n",
    "  that doesn't include the contribution of negative eigenvalues;\n",
    "- Ignore the \\[perhaps negative\\] scaling factor\n",
    "  of the soft cosine similarity formula.\n",
    "\n",
    "To apply the data into a random forest model,\n",
    "let's stick with the last one.\n",
    "Also, we should use a low rank matrix\n",
    "in order to reduce the dimensionality of the bag of words model\n",
    "when converting BoW vectors to this new document embedding vector space\n",
    "based on the word2vec word embedding."
   ]
  },
  {
   "cell_type": "markdown",
   "metadata": {},
   "source": [
    "#### Change of basis to calculate similarity on a simple model"
   ]
  },
  {
   "cell_type": "markdown",
   "metadata": {},
   "source": [
    "In the simple model, all eigenvalues are $\\approx 1$\n",
    "(as the similarity matrix is almost $I$):"
   ]
  },
  {
   "cell_type": "code",
   "execution_count": 54,
   "metadata": {},
   "outputs": [
    {
     "data": {
      "text/plain": [
       "array([0.93414533, 0.95981336, 0.9677515 , 0.9689995 , 0.9813136 ,\n",
       "       0.99766135, 1.0004498 , 1.0085737 , 1.0117586 , 1.0288727 ,\n",
       "       1.0396414 , 1.1010193 ], dtype=float32)"
      ]
     },
     "execution_count": 54,
     "metadata": {},
     "output_type": "execute_result"
    }
   ],
   "source": [
    "simple_eigvals, simple_u = np.linalg.eigh(simple_similarity_matrix.todense())\n",
    "simple_eigvals"
   ]
  },
  {
   "cell_type": "markdown",
   "metadata": {},
   "source": [
    "Let's apply this decomposition on each BoW vector $X$,\n",
    "using the found eigenvectors to convert them to $X_U = U^T X$."
   ]
  },
  {
   "cell_type": "code",
   "execution_count": 55,
   "metadata": {},
   "outputs": [
    {
     "name": "stdout",
     "output_type": "stream",
     "text": [
      "(12, 9) (12, 1)\n"
     ]
    }
   ],
   "source": [
    "simple_docv = simple_u.A.T @ simple_bow_dense\n",
    "sysattack_query = simple_u.A.T @ sysattack_bow_vect\n",
    "print(simple_docv.shape, sysattack_query.shape)"
   ]
  },
  {
   "cell_type": "code",
   "execution_count": 56,
   "metadata": {},
   "outputs": [
    {
     "data": {
      "image/png": "[encoded data removed]",
      "text/plain": [
       "<Figure size 864x288 with 2 Axes>"
      ]
     },
     "metadata": {
      "needs_background": "light"
     },
     "output_type": "display_data"
    }
   ],
   "source": [
    "sns.heatmap(\n",
    "    np.concatenate([simple_docv,\n",
    "                    np.zeros_like(sysattack_query),\n",
    "                    sysattack_query],\n",
    "                    axis=1),\n",
    "    mask=np.concatenate([np.zeros_like(simple_docv),\n",
    "                         np.ones_like(sysattack_query),\n",
    "                         np.zeros_like(sysattack_query)],\n",
    "                         axis=1),\n",
    "    annot=True,\n",
    "    ax=plt.subplots(figsize=(12, 4))[1],\n",
    "    xticklabels=[\" \".join(wlist) for wlist in common_texts] +\n",
    "                [\"\", sysattack_msg],\n",
    ").set(title=\"Unscaled vectors for calculating the soft cosine\");"
   ]
  },
  {
   "cell_type": "markdown",
   "metadata": {},
   "source": [
    "We can calculate the soft cosine similarities as before,\n",
    "using the new matrices,\n",
    "\n",
    "$$\n",
    "\\cos_{\\Lambda}(X_U, Y_U) =\n",
    "  \\dfrac{X_U^T \\Lambda Y_U}{\\sqrt{X_U^T \\Lambda X_U}\n",
    "                            \\sqrt{Y_U^T \\Lambda Y_U}}\n",
    "$$\n",
    "\n",
    "The new matrix $\\Lambda$ is diagonal,\n",
    "perhaps with negative entries (not in this example).\n",
    "We'll find the same results,\n",
    "we've just segregated the scaling factor from the rotation/shearing."
   ]
  },
  {
   "cell_type": "code",
   "execution_count": 57,
   "metadata": {},
   "outputs": [
    {
     "data": {
      "text/plain": [
       "array([0.41339546, 0.5750714 , 0.37038887, 0.5909853 , 0.00326233,\n",
       "       0.00829865, 0.02158359, 0.01783828, 0.01417662], dtype=float32)"
      ]
     },
     "execution_count": 57,
     "metadata": {},
     "output_type": "execute_result"
    }
   ],
   "source": [
    "ss_alt = (\n",
    "    sysattack_query.T * simple_eigvals @ simple_docv /\n",
    "    np.sqrt(\n",
    "        np.sum(simple_docv.T ** 2 * simple_eigvals, axis=1) *\n",
    "        np.sum(sysattack_query.ravel() ** 2 * simple_eigvals)\n",
    "    )\n",
    ").ravel()\n",
    "ss_alt"
   ]
  },
  {
   "cell_type": "code",
   "execution_count": 58,
   "metadata": {},
   "outputs": [
    {
     "data": {
      "text/plain": [
       "array([ True,  True,  True,  True,  True,  True,  True,  True,  True])"
      ]
     },
     "execution_count": 58,
     "metadata": {},
     "output_type": "execute_result"
    }
   ],
   "source": [
    "np.isclose(sysattack_similarities, ss_alt)"
   ]
  }
 ],
 "metadata": {
  "kernelspec": {
   "display_name": "Python 3",
   "language": "python",
   "name": "python3"
  },
  "language_info": {
   "codemirror_mode": {
    "name": "ipython",
    "version": 3
   },
   "file_extension": ".py",
   "mimetype": "text/x-python",
   "name": "python",
   "nbconvert_exporter": "python",
   "pygments_lexer": "ipython3",
   "version": "3.7.1"
  }
 },
 "nbformat": 4,
 "nbformat_minor": 2
}
