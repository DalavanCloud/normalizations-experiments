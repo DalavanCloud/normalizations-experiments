{
 "cells": [
  {
   "cell_type": "markdown",
   "metadata": {},
   "source": [
    "# A word2vec approach with `gensim`"
   ]
  },
  {
   "cell_type": "markdown",
   "metadata": {},
   "source": [
    "What's `word2vec`?\n",
    "Roughly speaking, it's a shallow neural network model\n",
    "that can be trained to create a word embedding for NLP.\n",
    "There are two architectures:\n",
    "\n",
    "* Continuous BoW (Bag of Words),\n",
    "  this one tries to predict a word given the context;\n",
    "* Continuous skip-gram,\n",
    "  this one tries to predict the context from a given word."
   ]
  },
  {
   "cell_type": "markdown",
   "metadata": {},
   "source": [
    "Here we'll use `gensim` again, it's an open source library\n",
    "that was created as part of the\n",
    "[Radim Řehůřek's Ph.D. Thesis](\n",
    "  https://radimrehurek.com/phd_rehurek.pdf\n",
    "), *Scalability of semantic analysis\n",
    "    in natural language processing*, 2011.\n",
    "His thesis is mainly towards LSA (Latent Semantic Analysis),\n",
    "and LDA (Latent Dirichlet Allocation).\n",
    "However, `word2vec` was published after that,\n",
    "by Tomas Mikolov, Kai Chen, Greg Corrado and Jeffrey Dean\n",
    "(a team of Google researchers),\n",
    "in the *Efficient Estimation of\n",
    "        Word Representations in Vector Space*, 2013\n",
    "\\[[PDF](https://arxiv.org/pdf/1301.3781.pdf),\n",
    "  [C++ code](https://code.google.com/archive/p/word2vec/)\\].\n",
    "Radim Řehůřek himself added `word2vec` to his `gensim` library,\n",
    "and published a [short tutorial for it](\n",
    "  https://rare-technologies.com/word2vec-tutorial/\n",
    ")."
   ]
  },
  {
   "cell_type": "markdown",
   "metadata": {},
   "source": [
    "## Wikipedia trigram model"
   ]
  },
  {
   "cell_type": "markdown",
   "metadata": {},
   "source": [
    "For a first try of `word2vec` in \\[Brazilian\\] Portuguese,\n",
    "one can see the Felipe Parpinelli's\n",
    "[word2vec-pt-br](https://github.com/felipeparpinelli/)\n",
    "repository (unfortunately, only available for Python 2).\n",
    "However, [he trained a trigram vector model and published it](\n",
    "  https://drive.google.com/file/d/0B_eXEo_eUPCDWnJ0YWtUdW1kVFk/view\n",
    "),\n",
    "so we can directly use here in Python 3.7 with `gensim`.\n",
    "The model is a 2GB file whose SHA256 is\n",
    "`5421465d49a5f709f81cec3607c64b1e6a0724fdce94f9d507a48fe07f95d098`."
   ]
  },
  {
   "cell_type": "code",
   "execution_count": 1,
   "metadata": {},
   "outputs": [],
   "source": [
    "from gensim.models import KeyedVectors\n",
    "import numpy as np\n",
    "import pandas as pd"
   ]
  },
  {
   "cell_type": "code",
   "execution_count": 2,
   "metadata": {},
   "outputs": [],
   "source": [
    "wiki_model = KeyedVectors.load_word2vec_format(\"wiki.pt.trigram.vector\", binary=True)"
   ]
  },
  {
   "cell_type": "markdown",
   "metadata": {},
   "source": [
    "It has a vocabulary of more than one million words and expressions,\n",
    "all in lower case, with underscores as separators:"
   ]
  },
  {
   "cell_type": "code",
   "execution_count": 3,
   "metadata": {},
   "outputs": [
    {
     "data": {
      "text/plain": [
       "1264918"
      ]
     },
     "execution_count": 3,
     "metadata": {},
     "output_type": "execute_result"
    }
   ],
   "source": [
    "len(wiki_model.vocab)"
   ]
  },
  {
   "cell_type": "markdown",
   "metadata": {},
   "source": [
    "As of today, in the cited repository,\n",
    "Parpinelli is only using two model methods:\n",
    "`most_similar` and `doesnt_match`.\n",
    "The first one can be used to find similar words,\n",
    "with a similarity measurement\n",
    "ranging from $0$ to $1$.\n",
    "This example shows the name of cities\n",
    "in the São Paulo state, Brazil,\n",
    "given the name of one city:"
   ]
  },
  {
   "cell_type": "code",
   "execution_count": 4,
   "metadata": {},
   "outputs": [
    {
     "name": "stderr",
     "output_type": "stream",
     "text": [
      "/usr/lib/python3.7/site-packages/gensim/matutils.py:737: FutureWarning: Conversion of the second argument of issubdtype from `int` to `np.signedinteger` is deprecated. In future, it will be treated as `np.int64 == np.dtype(int).type`.\n",
      "  if np.issubdtype(vec.dtype, np.int):\n"
     ]
    },
    {
     "data": {
      "text/plain": [
       "[('ribeirão_preto', 0.7867798805236816),\n",
       " ('sorocaba', 0.7684873342514038),\n",
       " ('jundiaí', 0.7378007173538208),\n",
       " ('araraquara', 0.7296241521835327),\n",
       " ('são_paulo', 0.7239118814468384),\n",
       " ('guarulhos', 0.7190227508544922),\n",
       " ('bauru', 0.708629310131073),\n",
       " ('botucatu', 0.6960499882698059),\n",
       " ('taubaté', 0.6935198307037354),\n",
       " ('mogi_das_cruzes', 0.6845329403877258)]"
      ]
     },
     "execution_count": 4,
     "metadata": {},
     "output_type": "execute_result"
    }
   ],
   "source": [
    "wiki_model.most_similar(\"campinas\")"
   ]
  },
  {
   "cell_type": "markdown",
   "metadata": {},
   "source": [
    "These are the words\n",
    "that have the highest similarity with `campinas`.\n",
    "Such list of tuples can be easily converted\n",
    "to a Pandas dataframe:"
   ]
  },
  {
   "cell_type": "code",
   "execution_count": 5,
   "metadata": {},
   "outputs": [
    {
     "data": {
      "text/html": [
       "<div>\n",
       "<style scoped>\n",
       "    .dataframe tbody tr th:only-of-type {\n",
       "        vertical-align: middle;\n",
       "    }\n",
       "\n",
       "    .dataframe tbody tr th {\n",
       "        vertical-align: top;\n",
       "    }\n",
       "\n",
       "    .dataframe thead th {\n",
       "        text-align: right;\n",
       "    }\n",
       "</style>\n",
       "<table border=\"1\" class=\"dataframe\">\n",
       "  <thead>\n",
       "    <tr style=\"text-align: right;\">\n",
       "      <th></th>\n",
       "      <th>similarity</th>\n",
       "    </tr>\n",
       "    <tr>\n",
       "      <th>token</th>\n",
       "      <th></th>\n",
       "    </tr>\n",
       "  </thead>\n",
       "  <tbody>\n",
       "    <tr>\n",
       "      <th>ribeirão_preto</th>\n",
       "      <td>0.786780</td>\n",
       "    </tr>\n",
       "    <tr>\n",
       "      <th>sorocaba</th>\n",
       "      <td>0.768487</td>\n",
       "    </tr>\n",
       "    <tr>\n",
       "      <th>jundiaí</th>\n",
       "      <td>0.737801</td>\n",
       "    </tr>\n",
       "    <tr>\n",
       "      <th>araraquara</th>\n",
       "      <td>0.729624</td>\n",
       "    </tr>\n",
       "    <tr>\n",
       "      <th>são_paulo</th>\n",
       "      <td>0.723912</td>\n",
       "    </tr>\n",
       "    <tr>\n",
       "      <th>guarulhos</th>\n",
       "      <td>0.719023</td>\n",
       "    </tr>\n",
       "    <tr>\n",
       "      <th>bauru</th>\n",
       "      <td>0.708629</td>\n",
       "    </tr>\n",
       "    <tr>\n",
       "      <th>botucatu</th>\n",
       "      <td>0.696050</td>\n",
       "    </tr>\n",
       "    <tr>\n",
       "      <th>taubaté</th>\n",
       "      <td>0.693520</td>\n",
       "    </tr>\n",
       "    <tr>\n",
       "      <th>mogi_das_cruzes</th>\n",
       "      <td>0.684533</td>\n",
       "    </tr>\n",
       "  </tbody>\n",
       "</table>\n",
       "</div>"
      ],
      "text/plain": [
       "                 similarity\n",
       "token                      \n",
       "ribeirão_preto     0.786780\n",
       "sorocaba           0.768487\n",
       "jundiaí            0.737801\n",
       "araraquara         0.729624\n",
       "são_paulo          0.723912\n",
       "guarulhos          0.719023\n",
       "bauru              0.708629\n",
       "botucatu           0.696050\n",
       "taubaté            0.693520\n",
       "mogi_das_cruzes    0.684533"
      ]
     },
     "execution_count": 5,
     "metadata": {},
     "output_type": "execute_result"
    }
   ],
   "source": [
    "pd.DataFrame(\n",
    "    wiki_model.most_similar(\"campinas\"),\n",
    "    columns=[\"token\", \"similarity\"],\n",
    ").set_index(\"token\")"
   ]
  },
  {
   "cell_type": "markdown",
   "metadata": {},
   "source": [
    "As we're trying to predict the context vector from a word,\n",
    "what this gives is that\n",
    "all these words can easily appear in the same contexts.\n",
    "Though the training process of `word2vec` is unsupervised\n",
    "(it's a dimensionality reduction algorithm)\n"
   ]
  },
  {
   "cell_type": "markdown",
   "metadata": {},
   "source": [
    "Instead of a single word,\n",
    "we can also give a list of *positive* and *negative* words,\n",
    "performing something akin to this math:\n",
    "\n",
    "$$\n",
    "\\begin{array}{cll}\n",
    "{}   & Brasília & \\text{# federal capital of Brazil} \\\\\n",
    "{} - & Brasil   & \\text{# Brazil, in Brazilian Portuguese} \\\\\n",
    "{} + & Alemanha & \\text{# Germany, in Brazilian Portuguese} \\\\ \\hline\n",
    "{}   & ???\n",
    "\\end{array}\n",
    "$$"
   ]
  },
  {
   "cell_type": "code",
   "execution_count": 6,
   "metadata": {},
   "outputs": [
    {
     "data": {
      "text/plain": [
       "[('berlin', 0.5845881104469299)]"
      ]
     },
     "execution_count": 6,
     "metadata": {},
     "output_type": "execute_result"
    }
   ],
   "source": [
    "wiki_model.most_similar(\n",
    "    positive=[\"brasilia\", \"alemanha\"],\n",
    "    negative=[\"brasil\"],\n",
    "    topn=1,\n",
    ")"
   ]
  },
  {
   "cell_type": "markdown",
   "metadata": {},
   "source": [
    "The typical \"equation\" is $king - man + woman$,\n",
    "the first example in the 2013 paper,\n",
    "which here also yields $queen$\n",
    "(but with all the words in Brazilian Portuguese):"
   ]
  },
  {
   "cell_type": "code",
   "execution_count": 7,
   "metadata": {},
   "outputs": [
    {
     "data": {
      "text/plain": [
       "[('rainha', 0.6084680557250977)]"
      ]
     },
     "execution_count": 7,
     "metadata": {},
     "output_type": "execute_result"
    }
   ],
   "source": [
    "wiki_model.most_similar(\n",
    "    positive=[\"rei\", \"mulher\"], # [\"king\", \"woman\"]\n",
    "    negative=[\"homem\"],         # [\"man\"]\n",
    "    topn=1,\n",
    ")"
   ]
  },
  {
   "cell_type": "markdown",
   "metadata": {},
   "source": [
    "We can also get the vector regarding a word to make some actual maths with it:"
   ]
  },
  {
   "cell_type": "code",
   "execution_count": 8,
   "metadata": {},
   "outputs": [
    {
     "data": {
      "text/plain": [
       "numpy.ndarray"
      ]
     },
     "execution_count": 8,
     "metadata": {},
     "output_type": "execute_result"
    }
   ],
   "source": [
    "type(wiki_model[\"brasilia\"])"
   ]
  },
  {
   "cell_type": "code",
   "execution_count": 9,
   "metadata": {},
   "outputs": [
    {
     "data": {
      "text/plain": [
       "(400,)"
      ]
     },
     "execution_count": 9,
     "metadata": {},
     "output_type": "execute_result"
    }
   ],
   "source": [
    "wiki_model[\"brasilia\"].shape"
   ]
  },
  {
   "cell_type": "markdown",
   "metadata": {},
   "source": [
    "But in this case, using the `similar_by_vector` method,\n",
    "we need to manually remove the similarity with itself:"
   ]
  },
  {
   "cell_type": "code",
   "execution_count": 10,
   "metadata": {},
   "outputs": [
    {
     "data": {
      "text/plain": [
       "[('campinas', 1.0),\n",
       " ('ribeirão_preto', 0.7867798805236816),\n",
       " ('sorocaba', 0.7684873342514038),\n",
       " ('jundiaí', 0.7378007769584656),\n",
       " ('araraquara', 0.7296241521835327)]"
      ]
     },
     "execution_count": 10,
     "metadata": {},
     "output_type": "execute_result"
    }
   ],
   "source": [
    "wiki_model.similar_by_vector(wiki_model[\"campinas\"], topn=5)"
   ]
  },
  {
   "cell_type": "markdown",
   "metadata": {},
   "source": [
    "And performing the maths doesn't result in the same vectors,\n",
    "as not all vectors will have the same weight:"
   ]
  },
  {
   "cell_type": "code",
   "execution_count": 11,
   "metadata": {},
   "outputs": [
    {
     "data": {
      "text/html": [
       "<div>\n",
       "<style scoped>\n",
       "    .dataframe tbody tr th:only-of-type {\n",
       "        vertical-align: middle;\n",
       "    }\n",
       "\n",
       "    .dataframe tbody tr th {\n",
       "        vertical-align: top;\n",
       "    }\n",
       "\n",
       "    .dataframe thead th {\n",
       "        text-align: right;\n",
       "    }\n",
       "</style>\n",
       "<table border=\"1\" class=\"dataframe\">\n",
       "  <thead>\n",
       "    <tr style=\"text-align: right;\">\n",
       "      <th></th>\n",
       "      <th>similarity</th>\n",
       "    </tr>\n",
       "    <tr>\n",
       "      <th>token</th>\n",
       "      <th></th>\n",
       "    </tr>\n",
       "  </thead>\n",
       "  <tbody>\n",
       "    <tr>\n",
       "      <th>magdeburg</th>\n",
       "      <td>0.542283</td>\n",
       "    </tr>\n",
       "    <tr>\n",
       "      <th>erfurt</th>\n",
       "      <td>0.525711</td>\n",
       "    </tr>\n",
       "    <tr>\n",
       "      <th>krefeld</th>\n",
       "      <td>0.520014</td>\n",
       "    </tr>\n",
       "    <tr>\n",
       "      <th>alta_baviera</th>\n",
       "      <td>0.517179</td>\n",
       "    </tr>\n",
       "    <tr>\n",
       "      <th>aachen</th>\n",
       "      <td>0.516245</td>\n",
       "    </tr>\n",
       "    <tr>\n",
       "      <th>freiburg</th>\n",
       "      <td>0.516041</td>\n",
       "    </tr>\n",
       "    <tr>\n",
       "      <th>baixa_saxónia</th>\n",
       "      <td>0.508358</td>\n",
       "    </tr>\n",
       "    <tr>\n",
       "      <th>salzburg</th>\n",
       "      <td>0.506056</td>\n",
       "    </tr>\n",
       "    <tr>\n",
       "      <th>ulm</th>\n",
       "      <td>0.505461</td>\n",
       "    </tr>\n",
       "    <tr>\n",
       "      <th>koblenz</th>\n",
       "      <td>0.505086</td>\n",
       "    </tr>\n",
       "  </tbody>\n",
       "</table>\n",
       "</div>"
      ],
      "text/plain": [
       "               similarity\n",
       "token                    \n",
       "magdeburg        0.542283\n",
       "erfurt           0.525711\n",
       "krefeld          0.520014\n",
       "alta_baviera     0.517179\n",
       "aachen           0.516245\n",
       "freiburg         0.516041\n",
       "baixa_saxónia    0.508358\n",
       "salzburg         0.506056\n",
       "ulm              0.505461\n",
       "koblenz          0.505086"
      ]
     },
     "execution_count": 11,
     "metadata": {},
     "output_type": "execute_result"
    }
   ],
   "source": [
    "pd.DataFrame(\n",
    "    wiki_model.similar_by_vector(\n",
    "        wiki_model[\"brasilia\"] - wiki_model[\"brasil\"] + wiki_model[\"alemanha\"],\n",
    "        topn=10,\n",
    "    ),\n",
    "    columns=[\"token\", \"similarity\"],\n",
    ").set_index(\"token\")"
   ]
  },
  {
   "cell_type": "code",
   "execution_count": 12,
   "metadata": {},
   "outputs": [
    {
     "data": {
      "text/html": [
       "<div>\n",
       "<style scoped>\n",
       "    .dataframe tbody tr th:only-of-type {\n",
       "        vertical-align: middle;\n",
       "    }\n",
       "\n",
       "    .dataframe tbody tr th {\n",
       "        vertical-align: top;\n",
       "    }\n",
       "\n",
       "    .dataframe thead th {\n",
       "        text-align: right;\n",
       "    }\n",
       "</style>\n",
       "<table border=\"1\" class=\"dataframe\">\n",
       "  <thead>\n",
       "    <tr style=\"text-align: right;\">\n",
       "      <th></th>\n",
       "      <th>similarity</th>\n",
       "    </tr>\n",
       "    <tr>\n",
       "      <th>token</th>\n",
       "      <th></th>\n",
       "    </tr>\n",
       "  </thead>\n",
       "  <tbody>\n",
       "    <tr>\n",
       "      <th>rei</th>\n",
       "      <td>0.713224</td>\n",
       "    </tr>\n",
       "    <tr>\n",
       "      <th>rainha</th>\n",
       "      <td>0.626994</td>\n",
       "    </tr>\n",
       "    <tr>\n",
       "      <th>consorte</th>\n",
       "      <td>0.553226</td>\n",
       "    </tr>\n",
       "    <tr>\n",
       "      <th>rainha_viúva</th>\n",
       "      <td>0.531954</td>\n",
       "    </tr>\n",
       "    <tr>\n",
       "      <th>mulher</th>\n",
       "      <td>0.513182</td>\n",
       "    </tr>\n",
       "    <tr>\n",
       "      <th>rainha_consorte</th>\n",
       "      <td>0.508050</td>\n",
       "    </tr>\n",
       "    <tr>\n",
       "      <th>rainha_isabel</th>\n",
       "      <td>0.507507</td>\n",
       "    </tr>\n",
       "    <tr>\n",
       "      <th>monarca</th>\n",
       "      <td>0.502872</td>\n",
       "    </tr>\n",
       "    <tr>\n",
       "      <th>princesa</th>\n",
       "      <td>0.501628</td>\n",
       "    </tr>\n",
       "    <tr>\n",
       "      <th>rainha_regente</th>\n",
       "      <td>0.498720</td>\n",
       "    </tr>\n",
       "  </tbody>\n",
       "</table>\n",
       "</div>"
      ],
      "text/plain": [
       "                 similarity\n",
       "token                      \n",
       "rei                0.713224\n",
       "rainha             0.626994\n",
       "consorte           0.553226\n",
       "rainha_viúva       0.531954\n",
       "mulher             0.513182\n",
       "rainha_consorte    0.508050\n",
       "rainha_isabel      0.507507\n",
       "monarca            0.502872\n",
       "princesa           0.501628\n",
       "rainha_regente     0.498720"
      ]
     },
     "execution_count": 12,
     "metadata": {},
     "output_type": "execute_result"
    }
   ],
   "source": [
    "pd.DataFrame(\n",
    "    wiki_model.similar_by_vector(\n",
    "        wiki_model[\"rei\"] - wiki_model[\"homem\"] + wiki_model[\"mulher\"],\n",
    "        topn=10,\n",
    "    ),\n",
    "    columns=[\"token\", \"similarity\"],\n",
    ").set_index(\"token\")"
   ]
  },
  {
   "cell_type": "markdown",
   "metadata": {},
   "source": [
    "That's because the vector magnitude is way too different,\n",
    "and we care mostly about the vector direction,\n",
    "not the vector magnitude.\n",
    "Let's calculate the vector magnitude/norm\n",
    "for each of these words:"
   ]
  },
  {
   "cell_type": "code",
   "execution_count": 13,
   "metadata": {},
   "outputs": [
    {
     "data": {
      "text/plain": [
       "{'brasilia': 9.4632, 'brasil': 28.960426, 'alemanha': 24.099485}"
      ]
     },
     "execution_count": 13,
     "metadata": {},
     "output_type": "execute_result"
    }
   ],
   "source": [
    "{k: np.sqrt((wiki_model[k] ** 2).sum())\n",
    " for k in [\"brasilia\", \"brasil\", \"alemanha\"]}"
   ]
  },
  {
   "cell_type": "code",
   "execution_count": 14,
   "metadata": {},
   "outputs": [
    {
     "data": {
      "text/plain": [
       "{'rei': 2.9873471, 'homem': 2.229483, 'mulher': 2.2330337}"
      ]
     },
     "execution_count": 14,
     "metadata": {},
     "output_type": "execute_result"
    }
   ],
   "source": [
    "{k: np.sqrt((wiki_model[k] ** 2).var())\n",
    " for k in [\"rei\", \"homem\", \"mulher\"]}"
   ]
  },
  {
   "cell_type": "markdown",
   "metadata": {},
   "source": [
    "To give the same weight to these vectors,\n",
    "we need to normalize them before doing that sum/subtraction math.\n",
    "We can simply divide the vectors by the numbers above (their norm),\n",
    "but that's already done by the `word_vec` method\n",
    "when `use_norm=True`:"
   ]
  },
  {
   "cell_type": "code",
   "execution_count": 15,
   "metadata": {},
   "outputs": [
    {
     "data": {
      "text/plain": [
       "1.0"
      ]
     },
     "execution_count": 15,
     "metadata": {},
     "output_type": "execute_result"
    }
   ],
   "source": [
    "(wiki_model.word_vec(\"rei\", use_norm=True) ** 2).sum()"
   ]
  },
  {
   "cell_type": "markdown",
   "metadata": {},
   "source": [
    "Calculating the most similar vectors again\n",
    "(using the direction, not the magnitude):"
   ]
  },
  {
   "cell_type": "code",
   "execution_count": 16,
   "metadata": {},
   "outputs": [
    {
     "data": {
      "text/html": [
       "<div>\n",
       "<style scoped>\n",
       "    .dataframe tbody tr th:only-of-type {\n",
       "        vertical-align: middle;\n",
       "    }\n",
       "\n",
       "    .dataframe tbody tr th {\n",
       "        vertical-align: top;\n",
       "    }\n",
       "\n",
       "    .dataframe thead th {\n",
       "        text-align: right;\n",
       "    }\n",
       "</style>\n",
       "<table border=\"1\" class=\"dataframe\">\n",
       "  <thead>\n",
       "    <tr style=\"text-align: right;\">\n",
       "      <th></th>\n",
       "      <th>similarity</th>\n",
       "    </tr>\n",
       "    <tr>\n",
       "      <th>token</th>\n",
       "      <th></th>\n",
       "    </tr>\n",
       "  </thead>\n",
       "  <tbody>\n",
       "    <tr>\n",
       "      <th>berlin</th>\n",
       "      <td>0.584588</td>\n",
       "    </tr>\n",
       "    <tr>\n",
       "      <th>hamburg</th>\n",
       "      <td>0.580028</td>\n",
       "    </tr>\n",
       "    <tr>\n",
       "      <th>salzburg</th>\n",
       "      <td>0.579465</td>\n",
       "    </tr>\n",
       "    <tr>\n",
       "      <th>münchen</th>\n",
       "      <td>0.572176</td>\n",
       "    </tr>\n",
       "    <tr>\n",
       "      <th>freiburg</th>\n",
       "      <td>0.571325</td>\n",
       "    </tr>\n",
       "    <tr>\n",
       "      <th>sinsheim</th>\n",
       "      <td>0.562500</td>\n",
       "    </tr>\n",
       "    <tr>\n",
       "      <th>köln</th>\n",
       "      <td>0.561137</td>\n",
       "    </tr>\n",
       "    <tr>\n",
       "      <th>nürnberg</th>\n",
       "      <td>0.560043</td>\n",
       "    </tr>\n",
       "    <tr>\n",
       "      <th>krefeld</th>\n",
       "      <td>0.559181</td>\n",
       "    </tr>\n",
       "    <tr>\n",
       "      <th>frankfurt_oder</th>\n",
       "      <td>0.558645</td>\n",
       "    </tr>\n",
       "  </tbody>\n",
       "</table>\n",
       "</div>"
      ],
      "text/plain": [
       "                similarity\n",
       "token                     \n",
       "berlin            0.584588\n",
       "hamburg           0.580028\n",
       "salzburg          0.579465\n",
       "münchen           0.572176\n",
       "freiburg          0.571325\n",
       "sinsheim          0.562500\n",
       "köln              0.561137\n",
       "nürnberg          0.560043\n",
       "krefeld           0.559181\n",
       "frankfurt_oder    0.558645"
      ]
     },
     "execution_count": 16,
     "metadata": {},
     "output_type": "execute_result"
    }
   ],
   "source": [
    "pd.DataFrame(\n",
    "    wiki_model.similar_by_vector(\n",
    "          wiki_model.word_vec(\"brasilia\", True)\n",
    "        - wiki_model.word_vec(\"brasil\", True)\n",
    "        + wiki_model.word_vec(\"alemanha\", True),\n",
    "        topn=10,\n",
    "    ),\n",
    "    columns=[\"token\", \"similarity\"],\n",
    ").set_index(\"token\")"
   ]
  },
  {
   "cell_type": "code",
   "execution_count": 17,
   "metadata": {},
   "outputs": [
    {
     "data": {
      "text/html": [
       "<div>\n",
       "<style scoped>\n",
       "    .dataframe tbody tr th:only-of-type {\n",
       "        vertical-align: middle;\n",
       "    }\n",
       "\n",
       "    .dataframe tbody tr th {\n",
       "        vertical-align: top;\n",
       "    }\n",
       "\n",
       "    .dataframe thead th {\n",
       "        text-align: right;\n",
       "    }\n",
       "</style>\n",
       "<table border=\"1\" class=\"dataframe\">\n",
       "  <thead>\n",
       "    <tr style=\"text-align: right;\">\n",
       "      <th></th>\n",
       "      <th>similarity</th>\n",
       "    </tr>\n",
       "    <tr>\n",
       "      <th>token</th>\n",
       "      <th></th>\n",
       "    </tr>\n",
       "  </thead>\n",
       "  <tbody>\n",
       "    <tr>\n",
       "      <th>rei</th>\n",
       "      <td>0.656337</td>\n",
       "    </tr>\n",
       "    <tr>\n",
       "      <th>rainha</th>\n",
       "      <td>0.608468</td>\n",
       "    </tr>\n",
       "    <tr>\n",
       "      <th>consorte</th>\n",
       "      <td>0.547408</td>\n",
       "    </tr>\n",
       "    <tr>\n",
       "      <th>mulher</th>\n",
       "      <td>0.534614</td>\n",
       "    </tr>\n",
       "    <tr>\n",
       "      <th>rainha_viúva</th>\n",
       "      <td>0.525085</td>\n",
       "    </tr>\n",
       "    <tr>\n",
       "      <th>esposa</th>\n",
       "      <td>0.499288</td>\n",
       "    </tr>\n",
       "    <tr>\n",
       "      <th>rainha_consorte</th>\n",
       "      <td>0.498275</td>\n",
       "    </tr>\n",
       "    <tr>\n",
       "      <th>princesa</th>\n",
       "      <td>0.494415</td>\n",
       "    </tr>\n",
       "    <tr>\n",
       "      <th>rainha_isabel</th>\n",
       "      <td>0.493366</td>\n",
       "    </tr>\n",
       "    <tr>\n",
       "      <th>rainha_regente</th>\n",
       "      <td>0.490066</td>\n",
       "    </tr>\n",
       "  </tbody>\n",
       "</table>\n",
       "</div>"
      ],
      "text/plain": [
       "                 similarity\n",
       "token                      \n",
       "rei                0.656337\n",
       "rainha             0.608468\n",
       "consorte           0.547408\n",
       "mulher             0.534614\n",
       "rainha_viúva       0.525085\n",
       "esposa             0.499288\n",
       "rainha_consorte    0.498275\n",
       "princesa           0.494415\n",
       "rainha_isabel      0.493366\n",
       "rainha_regente     0.490066"
      ]
     },
     "execution_count": 17,
     "metadata": {},
     "output_type": "execute_result"
    }
   ],
   "source": [
    "pd.DataFrame(\n",
    "    wiki_model.similar_by_vector(\n",
    "          wiki_model.word_vec(\"rei\", True)\n",
    "        - wiki_model.word_vec(\"homem\", True)\n",
    "        + wiki_model.word_vec(\"mulher\", True),\n",
    "        topn=10,\n",
    "    ),\n",
    "    columns=[\"token\", \"similarity\"],\n",
    ").set_index(\"token\")"
   ]
  }
 ],
 "metadata": {
  "kernelspec": {
   "display_name": "Python 3",
   "language": "python",
   "name": "python3"
  },
  "language_info": {
   "codemirror_mode": {
    "name": "ipython",
    "version": 3
   },
   "file_extension": ".py",
   "mimetype": "text/x-python",
   "name": "python",
   "nbconvert_exporter": "python",
   "pygments_lexer": "ipython3",
   "version": "3.7.1"
  }
 },
 "nbformat": 4,
 "nbformat_minor": 2
}
