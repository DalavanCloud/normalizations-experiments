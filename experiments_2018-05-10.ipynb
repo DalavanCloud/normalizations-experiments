{
 "cells": [
  {
   "cell_type": "markdown",
   "metadata": {},
   "source": [
    "## Using xmltodict"
   ]
  },
  {
   "cell_type": "markdown",
   "metadata": {},
   "source": [
    "https://pypi.org/project/xmltodict/"
   ]
  },
  {
   "cell_type": "code",
   "execution_count": 1,
   "metadata": {},
   "outputs": [],
   "source": [
    "import xmltodict"
   ]
  },
  {
   "cell_type": "code",
   "execution_count": 2,
   "metadata": {},
   "outputs": [],
   "source": [
    "with open(\"selecao_xml_br/rbepid/v20n1/1980-5497-rbepid-20-01-00115.xml\") as f:\n",
    "    xml_document_dict = xmltodict.parse(f.read())"
   ]
  },
  {
   "cell_type": "code",
   "execution_count": 3,
   "metadata": {},
   "outputs": [
    {
     "data": {
      "text/plain": [
       "OrderedDict([('article-id',\n",
       "              OrderedDict([('@pub-id-type', 'doi'),\n",
       "                           ('#text', '10.1590/1980-5497201700010010')])),\n",
       "             ('article-categories',\n",
       "              OrderedDict([('subj-group',\n",
       "                            OrderedDict([('@subj-group-type', 'heading'),\n",
       "                                         ('subject',\n",
       "                                          'ARTIGOS ORIGINAIS')]))])),\n",
       "             ('title-group',\n",
       "              OrderedDict([('article-title',\n",
       "                            'Ingestão de energia e nutrientes segundo consumo de alimentos fora do lar na Região Nordeste: uma análise do Inquérito Nacional de Alimentação 2008-2009')])),\n",
       "             ('contrib-group',\n",
       "              OrderedDict([('contrib',\n",
       "                            [OrderedDict([('@contrib-type', 'author'),\n",
       "                                          ('name',\n",
       "                                           OrderedDict([('surname',\n",
       "                                                         'Cavalcante'),\n",
       "                                                        ('given-names',\n",
       "                                                         'Jessica Brito')])),\n",
       "                                          ('xref',\n",
       "                                           OrderedDict([('@ref-type', 'aff'),\n",
       "                                                        ('@rid', 'aff1'),\n",
       "                                                        ('sup', 'I')]))]),\n",
       "                             OrderedDict([('@contrib-type', 'author'),\n",
       "                                          ('name',\n",
       "                                           OrderedDict([('surname', 'Moreira'),\n",
       "                                                        ('given-names',\n",
       "                                                         'Tyciane Maria Vieira')])),\n",
       "                                          ('xref',\n",
       "                                           OrderedDict([('@ref-type', 'aff'),\n",
       "                                                        ('@rid', 'aff1'),\n",
       "                                                        ('sup', 'I')]))]),\n",
       "                             OrderedDict([('@contrib-type', 'author'),\n",
       "                                          ('name',\n",
       "                                           OrderedDict([('surname', 'Mota'),\n",
       "                                                        ('given-names',\n",
       "                                                         'Caroline da Costa')])),\n",
       "                                          ('xref',\n",
       "                                           OrderedDict([('@ref-type', 'aff'),\n",
       "                                                        ('@rid', 'aff1'),\n",
       "                                                        ('sup', 'I')]))]),\n",
       "                             OrderedDict([('@contrib-type', 'author'),\n",
       "                                          ('name',\n",
       "                                           OrderedDict([('surname', 'Pontes'),\n",
       "                                                        ('given-names',\n",
       "                                                         'Carolinne Reinaldo')])),\n",
       "                                          ('xref',\n",
       "                                           OrderedDict([('@ref-type', 'aff'),\n",
       "                                                        ('@rid', 'aff1'),\n",
       "                                                        ('sup', 'I')]))]),\n",
       "                             OrderedDict([('@contrib-type', 'author'),\n",
       "                                          ('name',\n",
       "                                           OrderedDict([('surname', 'Bezerra'),\n",
       "                                                        ('given-names',\n",
       "                                                         'Ilana Nogueira')])),\n",
       "                                          ('xref',\n",
       "                                           OrderedDict([('@ref-type', 'aff'),\n",
       "                                                        ('@rid', 'aff2'),\n",
       "                                                        ('sup',\n",
       "                                                         'II')]))])])])),\n",
       "             ('aff',\n",
       "              [OrderedDict([('@id', 'aff1'),\n",
       "                            ('label', 'I'),\n",
       "                            ('institution',\n",
       "                             [OrderedDict([('@content-type', 'original'),\n",
       "                                           ('#text',\n",
       "                                            'Universidade de Fortaleza - Fortaleza (CE), Brasil.')]),\n",
       "                              OrderedDict([('@content-type', 'normalized'),\n",
       "                                           ('#text',\n",
       "                                            'Universidade de Fortaleza')]),\n",
       "                              OrderedDict([('@content-type', 'orgname'),\n",
       "                                           ('#text',\n",
       "                                            'Universidade de Fortaleza')])]),\n",
       "                            ('addr-line',\n",
       "                             OrderedDict([('named-content',\n",
       "                                           [OrderedDict([('@content-type',\n",
       "                                                          'city'),\n",
       "                                                         ('#text',\n",
       "                                                          'Fortaleza')]),\n",
       "                                            OrderedDict([('@content-type',\n",
       "                                                          'state'),\n",
       "                                                         ('#text',\n",
       "                                                          'CE')])])])),\n",
       "                            ('country',\n",
       "                             OrderedDict([('@country', 'BR'),\n",
       "                                          ('#text', 'Brazil')]))]),\n",
       "               OrderedDict([('@id', 'aff2'),\n",
       "                            ('label', 'II'),\n",
       "                            ('institution',\n",
       "                             [OrderedDict([('@content-type', 'original'),\n",
       "                                           ('#text',\n",
       "                                            'Curso de Mestrado Acadêmico em Nutrição e Saúde (CMANS) da Universidade Estadual do Ceará - Fortaleza (CE), Brasil.')]),\n",
       "                              OrderedDict([('@content-type', 'normalized'),\n",
       "                                           ('#text',\n",
       "                                            'Universidade Estadual do Ceará')]),\n",
       "                              OrderedDict([('@content-type', 'orgname'),\n",
       "                                           ('#text',\n",
       "                                            'Universidade Estadual do Ceará')])]),\n",
       "                            ('addr-line',\n",
       "                             OrderedDict([('named-content',\n",
       "                                           [OrderedDict([('@content-type',\n",
       "                                                          'city'),\n",
       "                                                         ('#text',\n",
       "                                                          'Fortaleza')]),\n",
       "                                            OrderedDict([('@content-type',\n",
       "                                                          'state'),\n",
       "                                                         ('#text',\n",
       "                                                          'CE')])])])),\n",
       "                            ('country',\n",
       "                             OrderedDict([('@country', 'BR'),\n",
       "                                          ('#text', 'Brazil')]))])]),\n",
       "             ('author-notes',\n",
       "              OrderedDict([('corresp',\n",
       "                            OrderedDict([('@id', 'c1'),\n",
       "                                         ('email',\n",
       "                                          'ilana.bezerra@yahoo.com.br'),\n",
       "                                         ('#text',\n",
       "                                          'Autor correspondente: Ilana Nogueira Bezerra. Curso de Mestrado Acadêmico em Nutrição e Saúde (CMANS). Av. Dr. Silas Munguba 1700, Coordenação de Nutrição, Itaperi, CEP: 60.714-903, Fortaleza, Ceará, Brasil. E-mail:')])),\n",
       "                           ('fn',\n",
       "                            OrderedDict([('@fn-type', 'conflict'),\n",
       "                                         ('@id', 'fn1'),\n",
       "                                         ('p',\n",
       "                                          'Conflito de interesses: nada a declarar')]))])),\n",
       "             ('pub-date',\n",
       "              OrderedDict([('@pub-type', 'epub-ppub'),\n",
       "                           ('season', 'Jan-Mar'),\n",
       "                           ('year', '2017')])),\n",
       "             ('volume', '20'),\n",
       "             ('issue', '01'),\n",
       "             ('fpage', '115'),\n",
       "             ('lpage', '123'),\n",
       "             ('history',\n",
       "              OrderedDict([('date',\n",
       "                            [OrderedDict([('@date-type', 'received'),\n",
       "                                          ('day', '22'),\n",
       "                                          ('month', '10'),\n",
       "                                          ('year', '2015')]),\n",
       "                             OrderedDict([('@date-type', 'accepted'),\n",
       "                                          ('day', '01'),\n",
       "                                          ('month', '09'),\n",
       "                                          ('year', '2016')])])])),\n",
       "             ('permissions',\n",
       "              OrderedDict([('license',\n",
       "                            OrderedDict([('@license-type', 'open-access'),\n",
       "                                         ('@xlink:href',\n",
       "                                          'http://creativecommons.org/licenses/by/4.0/'),\n",
       "                                         ('@xml:lang', 'pt'),\n",
       "                                         ('license-p',\n",
       "                                          'Este é um artigo publicado em acesso aberto sob uma licença Creative Commons')]))])),\n",
       "             ('abstract',\n",
       "              OrderedDict([('title', 'RESUMO:'),\n",
       "                           ('sec',\n",
       "                            [OrderedDict([('title', 'Introdução:'),\n",
       "                                          ('p',\n",
       "                                           'O consumo de alimentos fora do lar vem crescendo no Brasil, sendo associado a escolhas alimentares menos nutritivas.')]),\n",
       "                             OrderedDict([('title', 'Objetivo:'),\n",
       "                                          ('p',\n",
       "                                           'Descrever a ingestão de energia e nutrientes específicos entre consumidores e não consumidores de alimentos fora do lar, na Região Nordeste.')]),\n",
       "                             OrderedDict([('title', 'Métodos:'),\n",
       "                                          ('p',\n",
       "                                           'Foram analisados dados do Inquérito Nacional de Alimentação (INA), provenientes da Pesquisa de Orçamentos Familiares (POF) 2008-2009, em uma amostra de 11.674 indivíduos residentes na Região Nordeste, que forneceram dois registros alimentares em dias não consecutivos, com informação sobre o local de consumo dos alimentos (dentro ou fora do lar). Alimentação fora do lar foi definida como todo alimento adquirido e consumido fora de casa. Modelos de regressão linear foram desenvolvidos para avaliar a relação entre o consumo alimentar fora do lar em um dos dois dias de registro e a ingestão de energia e nutrientes, ajustados por idade, sexo e renda per capita.')]),\n",
       "                             OrderedDict([('title', 'Resultados:'),\n",
       "                                          ('p',\n",
       "                                           'O consumo de alimentos fora do lar, em pelo menos um dos dois dias de registro alimentar, foi reportado por 42% dos indivíduos. Os indivíduos que consomem alimentos fora do lar apresentaram pior ingestão de nutrientes em comparação com os que não consomem alimentos fora do lar, com maior consumo de energia, açúcar livre, gordura saturada, gordura trans e menor ingestão de proteína, ferro e fibra alimentar, independente da idade, sexo e renda (p < 0,05).')]),\n",
       "                             OrderedDict([('title', 'Conclusão:'),\n",
       "                                          ('p',\n",
       "                                           'A alimentação fora do lar no Nordeste contribuiu para uma maior ingestão de energia e uma pior ingestão de nutrientes. Assim, faz-se necessária a elaboração de políticas públicas e estratégias que favoreçam a escolha de alimentos mais saudáveis quando os indivíduos optam por se alimentar fora do lar.')])])])),\n",
       "             ('kwd-group',\n",
       "              OrderedDict([('@xml:lang', 'pt'),\n",
       "                           ('title', 'Palavras-chave:'),\n",
       "                           ('kwd',\n",
       "                            ['Hábitos alimentares',\n",
       "                             'Nutrientes',\n",
       "                             'Consumo de energia',\n",
       "                             'Inquéritos sobre dieta',\n",
       "                             'Ingestão de alimentos',\n",
       "                             'Comportamento alimentar'])])),\n",
       "             ('counts',\n",
       "              OrderedDict([('fig-count', OrderedDict([('@count', '0')])),\n",
       "                           ('table-count', OrderedDict([('@count', '6')])),\n",
       "                           ('equation-count', OrderedDict([('@count', '0')])),\n",
       "                           ('ref-count', OrderedDict([('@count', '29')])),\n",
       "                           ('page-count', OrderedDict([('@count', '09')]))]))])"
      ]
     },
     "execution_count": 3,
     "metadata": {},
     "output_type": "execute_result"
    }
   ],
   "source": [
    "xml_document_dict[\"article\"][\"front\"][\"article-meta\"]"
   ]
  },
  {
   "cell_type": "markdown",
   "metadata": {},
   "source": [
    "Sometimes a list, sometimes a raw value, tricky to walk. Maybe it's easier directly from the ElementTree. "
   ]
  },
  {
   "cell_type": "markdown",
   "metadata": {},
   "source": [
    "## ElementTree to lines"
   ]
  },
  {
   "cell_type": "markdown",
   "metadata": {},
   "source": [
    "The goal here is to \"serialize\" a XML into a single text line for each element in a document tree."
   ]
  },
  {
   "cell_type": "code",
   "execution_count": 4,
   "metadata": {},
   "outputs": [],
   "source": [
    "from operator import concat\n",
    "from functools import reduce\n",
    "from lxml import etree"
   ]
  },
  {
   "cell_type": "code",
   "execution_count": 5,
   "metadata": {},
   "outputs": [],
   "source": [
    "with open(\"selecao_xml_br/rbepid/v20n1/1980-5497-rbepid-20-01-00115.xml\") as f:\n",
    "    doctree = etree.parse(f)"
   ]
  },
  {
   "cell_type": "code",
   "execution_count": 6,
   "metadata": {},
   "outputs": [],
   "source": [
    "def etree_to_lines(root):\n",
    "    result = []\n",
    "    def step(branch, path):\n",
    "        path += \"/\" + branch.tag\n",
    "        for k, v in sorted(branch.items()):\n",
    "            path += f\"@{k}={v!r}\"\n",
    "        for node in branch.xpath(\"node()\"):\n",
    "            if not isinstance(node, str):\n",
    "                step(node, path)\n",
    "            else:\n",
    "                node_strip = node.strip()\n",
    "                if node_strip:\n",
    "                    result.append(f\"{path}#text={node_strip!r}\")\n",
    "    step(root, \"\")\n",
    "    return result"
   ]
  },
  {
   "cell_type": "code",
   "execution_count": 7,
   "metadata": {},
   "outputs": [
    {
     "data": {
      "text/plain": [
       "[\"/aff@id='aff1'/label#text='I'\",\n",
       " \"/aff@id='aff1'/institution@content-type='original'#text='Universidade de Fortaleza - Fortaleza (CE), Brasil.'\",\n",
       " \"/aff@id='aff1'/institution@content-type='normalized'#text='Universidade de Fortaleza'\",\n",
       " \"/aff@id='aff1'/institution@content-type='orgname'#text='Universidade de Fortaleza'\",\n",
       " \"/aff@id='aff1'/addr-line/named-content@content-type='city'#text='Fortaleza'\",\n",
       " \"/aff@id='aff1'/addr-line/named-content@content-type='state'#text='CE'\",\n",
       " \"/aff@id='aff1'/country@country='BR'#text='Brazil'\"]"
      ]
     },
     "execution_count": 7,
     "metadata": {},
     "output_type": "execute_result"
    }
   ],
   "source": [
    "list(etree_to_lines(doctree.xpath(\"//aff\")[0]))"
   ]
  },
  {
   "cell_type": "code",
   "execution_count": 8,
   "metadata": {},
   "outputs": [
    {
     "data": {
      "text/plain": [
       "[\"/aff@id='aff1'/label#text='I'\",\n",
       " \"/aff@id='aff1'/institution@content-type='original'#text='Universidade de Fortaleza - Fortaleza (CE), Brasil.'\",\n",
       " \"/aff@id='aff1'/institution@content-type='normalized'#text='Universidade de Fortaleza'\",\n",
       " \"/aff@id='aff1'/institution@content-type='orgname'#text='Universidade de Fortaleza'\",\n",
       " \"/aff@id='aff1'/addr-line/named-content@content-type='city'#text='Fortaleza'\",\n",
       " \"/aff@id='aff1'/addr-line/named-content@content-type='state'#text='CE'\",\n",
       " \"/aff@id='aff1'/country@country='BR'#text='Brazil'\",\n",
       " \"/aff@id='aff2'/label#text='II'\",\n",
       " \"/aff@id='aff2'/institution@content-type='original'#text='Curso de Mestrado Acadêmico em Nutrição e Saúde (CMANS) da Universidade Estadual do Ceará - Fortaleza (CE), Brasil.'\",\n",
       " \"/aff@id='aff2'/institution@content-type='normalized'#text='Universidade Estadual do Ceará'\",\n",
       " \"/aff@id='aff2'/institution@content-type='orgname'#text='Universidade Estadual do Ceará'\",\n",
       " \"/aff@id='aff2'/addr-line/named-content@content-type='city'#text='Fortaleza'\",\n",
       " \"/aff@id='aff2'/addr-line/named-content@content-type='state'#text='CE'\",\n",
       " \"/aff@id='aff2'/country@country='BR'#text='Brazil'\",\n",
       " \"/aff@id='aff3'/label#text='I'\",\n",
       " \"/aff@id='aff3'/institution@content-type='original'#text='Universidade de Fortaleza - Fortaleza (CE), Brazil.'\",\n",
       " \"/aff@id='aff4'/label#text='II'\",\n",
       " \"/aff@id='aff4'/institution@content-type='original'#text='Master’s Degree Program in Nutrition and Health from the Universidade Estadual do Ceará - Fortaleza (CE), Brazil.'\"]"
      ]
     },
     "execution_count": 8,
     "metadata": {},
     "output_type": "execute_result"
    }
   ],
   "source": [
    "reduce(concat, map(etree_to_lines, doctree.iter(\"aff\")))"
   ]
  },
  {
   "cell_type": "code",
   "execution_count": 9,
   "metadata": {},
   "outputs": [
    {
     "data": {
      "text/plain": [
       "[\"/contrib@contrib-type='author'/name/surname#text='Cavalcante'\",\n",
       " \"/contrib@contrib-type='author'/name/given-names#text='Jessica Brito'\",\n",
       " \"/contrib@contrib-type='author'/xref@ref-type='aff'@rid='aff1'/sup#text='I'\",\n",
       " \"/contrib@contrib-type='author'/name/surname#text='Moreira'\",\n",
       " \"/contrib@contrib-type='author'/name/given-names#text='Tyciane Maria Vieira'\",\n",
       " \"/contrib@contrib-type='author'/xref@ref-type='aff'@rid='aff1'/sup#text='I'\",\n",
       " \"/contrib@contrib-type='author'/name/surname#text='Mota'\",\n",
       " \"/contrib@contrib-type='author'/name/given-names#text='Caroline da Costa'\",\n",
       " \"/contrib@contrib-type='author'/xref@ref-type='aff'@rid='aff1'/sup#text='I'\",\n",
       " \"/contrib@contrib-type='author'/name/surname#text='Pontes'\",\n",
       " \"/contrib@contrib-type='author'/name/given-names#text='Carolinne Reinaldo'\",\n",
       " \"/contrib@contrib-type='author'/xref@ref-type='aff'@rid='aff1'/sup#text='I'\",\n",
       " \"/contrib@contrib-type='author'/name/surname#text='Bezerra'\",\n",
       " \"/contrib@contrib-type='author'/name/given-names#text='Ilana Nogueira'\",\n",
       " \"/contrib@contrib-type='author'/xref@ref-type='aff'@rid='aff2'/sup#text='II'\",\n",
       " \"/aff@id='aff1'/label#text='I'\",\n",
       " \"/aff@id='aff1'/institution@content-type='original'#text='Universidade de Fortaleza - Fortaleza (CE), Brasil.'\",\n",
       " \"/aff@id='aff1'/institution@content-type='normalized'#text='Universidade de Fortaleza'\",\n",
       " \"/aff@id='aff1'/institution@content-type='orgname'#text='Universidade de Fortaleza'\",\n",
       " \"/aff@id='aff1'/addr-line/named-content@content-type='city'#text='Fortaleza'\",\n",
       " \"/aff@id='aff1'/addr-line/named-content@content-type='state'#text='CE'\",\n",
       " \"/aff@id='aff1'/country@country='BR'#text='Brazil'\",\n",
       " \"/aff@id='aff2'/label#text='II'\",\n",
       " \"/aff@id='aff2'/institution@content-type='original'#text='Curso de Mestrado Acadêmico em Nutrição e Saúde (CMANS) da Universidade Estadual do Ceará - Fortaleza (CE), Brasil.'\",\n",
       " \"/aff@id='aff2'/institution@content-type='normalized'#text='Universidade Estadual do Ceará'\",\n",
       " \"/aff@id='aff2'/institution@content-type='orgname'#text='Universidade Estadual do Ceará'\",\n",
       " \"/aff@id='aff2'/addr-line/named-content@content-type='city'#text='Fortaleza'\",\n",
       " \"/aff@id='aff2'/addr-line/named-content@content-type='state'#text='CE'\",\n",
       " \"/aff@id='aff2'/country@country='BR'#text='Brazil'\"]"
      ]
     },
     "execution_count": 9,
     "metadata": {},
     "output_type": "execute_result"
    }
   ],
   "source": [
    "lines = reduce(concat, map(etree_to_lines, doctree.xpath(\"//front//aff|//front//contrib\")))\n",
    "lines"
   ]
  },
  {
   "cell_type": "markdown",
   "metadata": {},
   "source": [
    "## Approximate regex matching"
   ]
  },
  {
   "cell_type": "markdown",
   "metadata": {},
   "source": [
    "The external [regex](https://pypi.org/project/regex/) Python library have an *Approximate “fuzzy” matching* feature which might be useful for us here."
   ]
  },
  {
   "cell_type": "code",
   "execution_count": 10,
   "metadata": {},
   "outputs": [],
   "source": [
    "import regex"
   ]
  },
  {
   "cell_type": "code",
   "execution_count": 11,
   "metadata": {},
   "outputs": [
    {
     "data": {
      "text/plain": [
       "<regex.Match object; span=(0, 61), match=\"/contrib@contrib-type='author'/name/surname#text='Cavalcante'\">"
      ]
     },
     "execution_count": 11,
     "metadata": {},
     "output_type": "execute_result"
    }
   ],
   "source": [
    "match_surname = regex.match(r\"/contrib@contrib-type='author'/name/surname#text=(?<surname>.*)$\", lines[0])\n",
    "match_surname"
   ]
  },
  {
   "cell_type": "code",
   "execution_count": 12,
   "metadata": {},
   "outputs": [
    {
     "data": {
      "text/plain": [
       "{'surname': \"'Cavalcante'\"}"
      ]
     },
     "execution_count": 12,
     "metadata": {},
     "output_type": "execute_result"
    }
   ],
   "source": [
    "match_surname.groupdict()"
   ]
  },
  {
   "cell_type": "markdown",
   "metadata": {},
   "source": [
    "Evaluating the internal string:"
   ]
  },
  {
   "cell_type": "code",
   "execution_count": 13,
   "metadata": {},
   "outputs": [],
   "source": [
    "from ast import literal_eval"
   ]
  },
  {
   "cell_type": "code",
   "execution_count": 14,
   "metadata": {},
   "outputs": [
    {
     "data": {
      "text/plain": [
       "{'surname': 'Cavalcante'}"
      ]
     },
     "execution_count": 14,
     "metadata": {},
     "output_type": "execute_result"
    }
   ],
   "source": [
    "{k: literal_eval(v) for k, v in match_surname.groupdict().items()}"
   ]
  },
  {
   "cell_type": "markdown",
   "metadata": {},
   "source": [
    "Let's try now with something that has typos:"
   ]
  },
  {
   "cell_type": "code",
   "execution_count": 15,
   "metadata": {},
   "outputs": [],
   "source": [
    "example_surname = \"/contribb@contrib-type='autor'/name/surrname#text='Bellini'\""
   ]
  },
  {
   "cell_type": "code",
   "execution_count": 16,
   "metadata": {},
   "outputs": [],
   "source": [
    "regex_surname_fuzzy = regex.compile(r\"\"\"(?xb)\n",
    "  /(?:contrib){e<=2}\n",
    "    @(?:contrib-type){e<=2}\n",
    "      ='(?:author){e<=2}'\n",
    "  /(?:name/surname){e<=2}\n",
    "  \\#text=(?<surname>.*)$\n",
    "\"\"\")"
   ]
  },
  {
   "cell_type": "code",
   "execution_count": 17,
   "metadata": {},
   "outputs": [
    {
     "data": {
      "text/plain": [
       "<regex.Match object; span=(0, 59), match=\"/contribb@contrib-type='autor'/name/surrname#text='Bellini'\", fuzzy_counts=(0, 2, 1)>"
      ]
     },
     "execution_count": 17,
     "metadata": {},
     "output_type": "execute_result"
    }
   ],
   "source": [
    "match_surname_fuzzy = regex_surname_fuzzy.match(example_surname)\n",
    "match_surname_fuzzy"
   ]
  },
  {
   "cell_type": "code",
   "execution_count": 18,
   "metadata": {},
   "outputs": [
    {
     "data": {
      "text/plain": [
       "{'surname': 'Bellini'}"
      ]
     },
     "execution_count": 18,
     "metadata": {},
     "output_type": "execute_result"
    }
   ],
   "source": [
    "{k: literal_eval(v) for k, v in match_surname_fuzzy.groupdict().items()}"
   ]
  },
  {
   "cell_type": "markdown",
   "metadata": {},
   "source": [
    "## Extracting data using a list of regexes"
   ]
  },
  {
   "cell_type": "code",
   "execution_count": 19,
   "metadata": {},
   "outputs": [],
   "source": [
    "from itertools import chain"
   ]
  },
  {
   "cell_type": "code",
   "execution_count": 20,
   "metadata": {},
   "outputs": [],
   "source": [
    "def etree_line_gen(root):\n",
    "    def step(branch, path):\n",
    "        path += \"/\" + branch.tag\n",
    "        for k, v in sorted(branch.items()):\n",
    "            path += f\"@{k}={v!r}\"\n",
    "        #yield path\n",
    "        for node in branch.xpath(\"node()\"):\n",
    "            if not isinstance(node, str):\n",
    "                yield from step(node, path)\n",
    "            else:\n",
    "                node_strip = node.strip()\n",
    "                if node_strip:\n",
    "                    yield f\"{path}#text={node_strip!r}\"\n",
    "    yield from step(root, \"\")"
   ]
  },
  {
   "cell_type": "code",
   "execution_count": 21,
   "metadata": {},
   "outputs": [],
   "source": [
    "def apply_etree_regexes(root, regexes):\n",
    "    lines = \"\\n\".join(etree_to_lines(root))\n",
    "    matches_gen = (r.search(lines) for r in regexes)\n",
    "    matches_pairs = chain.from_iterable(match.groupdict().items()\n",
    "                                        for match in matches_gen if match)\n",
    "    return {k: literal_eval(v) for k, v in matches_pairs}"
   ]
  },
  {
   "cell_type": "code",
   "execution_count": 22,
   "metadata": {},
   "outputs": [],
   "source": [
    "aff_regexes = list(map(regex.compile, [\n",
    "    \"/aff@(?:id){e<=1}=(?<id>'.*?')\",\n",
    "    \"(?b)/(?:institution){e<=2}@(?:content-type){e<=4}='(?:orgname){e<=3}'#text=(?<institution_orgname>.*)\",\n",
    "    \"(?b)/(?:institution){e<=2}@(?:content-type){e<=4}='(?:normalized){e<=4}'#text=(?<institution_orgname_rewritten>.*)\",\n",
    "    \"(?b)/(?:institution){e<=2}@(?:content-type){e<=4}='(?:orgdiv){e<=2}1'#text=(?<institution_orgdiv1>.*)\",\n",
    "    \"(?b)/(?:institution){e<=2}@(?:content-type){e<=4}='(?:orgdiv){e<=2}2'#text=(?<institution_orgdiv2>.*)\",\n",
    "    \"(?b)/(?:institution){e<=2}@(?:content-type){e<=4}='(?:original){e<=3}'#text=(?<institution_original>.*)\",\n",
    "    \"(?b)/(?:email){e<=1}#text=(?<contrib_email>.*)\",\n",
    "]))"
   ]
  },
  {
   "cell_type": "code",
   "execution_count": 23,
   "metadata": {},
   "outputs": [],
   "source": [
    "with open(\"selecao_xml_br/rbort/v48n1/0102-3616-rbort-48-01-0041.xml\") as f:\n",
    "    unverified_doctree = etree.parse(f)"
   ]
  },
  {
   "cell_type": "code",
   "execution_count": 24,
   "metadata": {},
   "outputs": [
    {
     "name": "stdout",
     "output_type": "stream",
     "text": [
      "{'id': 'aff1', 'institution_orgname': 'Paraná Club', 'institution_orgdiv1': 'Ninho da Gralha Player Training Center'}\n",
      "{'id': 'aff2', 'institution_orgname': 'Paraná Clube', 'institution_orgdiv1': 'Centro de Formação de Atletas Ninho da Gralha'}\n"
     ]
    }
   ],
   "source": [
    "for aff in unverified_doctree.iter(\"aff\"):\n",
    "    print(apply_etree_regexes(aff, aff_regexes))"
   ]
  },
  {
   "cell_type": "code",
   "execution_count": 25,
   "metadata": {},
   "outputs": [
    {
     "name": "stdout",
     "output_type": "stream",
     "text": [
      "<aff xmlns:xlink=\"http://www.w3.org/1999/xlink\" xmlns:mml=\"http://www.w3.org/1998/Math/MathML\" id=\"aff2\">\n",
      "\t\t\t\t\t<label>1</label>\n",
      "\t\t\t\tMédico Ortopedista e Traumatologista do\n",
      "\t\t\t\t\t<institution content-type=\"orgdiv1\">Centro de Formação de Atletas Ninho da Gralha</institution>\n",
      "\t\t\t\t\t<institution content-type=\"orgname\">Paraná Clube</institution>\n",
      "\t\t\t\t\t<addr-line>\n",
      "\t\t\t\t\t\t<named-content content-type=\"city\">Quatro Barras</named-content>,\n",
      "\t\t<named-content content-type=\"state\">Paraná</named-content>\n",
      "\t\t\t\t\t</addr-line>\n",
      "\t\t\t\t\t<country>Brasil</country>\n",
      "\t\t\t\t</aff>\n",
      "\t\t\t\n"
     ]
    }
   ],
   "source": [
    "print(etree.tostring(unverified_doctree.xpath(\"//aff\")[1], encoding=\"utf-8\").decode(\"utf-8\"))"
   ]
  },
  {
   "cell_type": "markdown",
   "metadata": {},
   "source": [
    "Now with a typo in the tag name:"
   ]
  },
  {
   "cell_type": "code",
   "execution_count": 26,
   "metadata": {},
   "outputs": [
    {
     "name": "stdout",
     "output_type": "stream",
     "text": [
      "<contrib xmlns:xlink=\"http://www.w3.org/1999/xlink\" xmlns:mml=\"http://www.w3.org/1998/Math/MathML\" contrib-type=\"author\">\n",
      "\t\t\t\t\t<name>\n",
      "\t\t\t\t\t\t<surname>Carvalho</surname>\n",
      "\t\t\t\t\t\t<given-names>Daniel Augusto de</given-names>\n",
      "\t\t\t\t\t</name>\n",
      "\t\t\t\t\t<xref ref-typr=\"aff\" rid=\"aff2\">1</xref>\n",
      "\t\t\t\t\t<xref ref-type=\"corresp\" rid=\"cor2\">*</xref>\n",
      "\t\t\t\t</contrib>\n",
      "\t\t\t\t\n"
     ]
    }
   ],
   "source": [
    "print(etree.tostring(unverified_doctree.xpath(\"//contrib\")[1], encoding=\"utf-8\").decode(\"utf-8\"))"
   ]
  },
  {
   "cell_type": "code",
   "execution_count": 27,
   "metadata": {},
   "outputs": [],
   "source": [
    "contrib_regexes = list(map(regex.compile, [\n",
    "    r\"(?b)/(?:contrib){e<=1}.*/(?:surname){e<=2}#text=(?<contrib_surname>.*)\",\n",
    "    r\"(?b)/(?:contrib){e<=1}.*(?:given-names){e<=3}#text=(?<contrib_given_names>.*)\",\n",
    "    r\"(?b)/(?:contrib){e<=1}.*(?:prefix){e<=2}#text=(?<contrib_prefix>.*)\",\n",
    "    r\"(?b)/(?:contrib){e<=1}.*(?:suffix){e<=2}#text=(?<contrib_suffix>.*)\",\n",
    "    r\"(?b)/(?:xref){e<=1}@(?:ref-type){e<=2}='(?:aff){e<=1}'@(?:rid){e<=1}=(?<xref_aff>'.*')\",\n",
    "    r\"(?b)/(?:xref){e<=1}@(?:ref-type){e<=2}='(?:corresp){e<=1}'@(?:rid){e<=1}=(?<xref_corresp>'.*')\",\n",
    "]))"
   ]
  },
  {
   "cell_type": "code",
   "execution_count": 28,
   "metadata": {},
   "outputs": [
    {
     "name": "stdout",
     "output_type": "stream",
     "text": [
      "{'contrib_surname': 'Carvalho', 'contrib_given_names': 'Daniel Augusto de', 'xref_aff': 'aff1', 'xref_corresp': 'cor1'}\n",
      "{'contrib_surname': 'Carvalho', 'contrib_given_names': 'Daniel Augusto de', 'xref_aff': 'aff2', 'xref_corresp': 'cor2'}\n"
     ]
    }
   ],
   "source": [
    "for contrib in unverified_doctree.iter(\"contrib\"):\n",
    "    print(apply_etree_regexes(contrib, contrib_regexes))"
   ]
  },
  {
   "cell_type": "markdown",
   "metadata": {},
   "source": [
    "## Finding `<aff>` and `<contrib>` nodes using the *regex approximation* approach"
   ]
  },
  {
   "cell_type": "code",
   "execution_count": 29,
   "metadata": {},
   "outputs": [],
   "source": [
    "def etree_tag_line_gen(root, start=\"\"):\n",
    "    start += \"/\" + root.tag\n",
    "    yield start, root\n",
    "    for node in root.iterchildren():\n",
    "        yield from etree_tag_line_gen(node, start)"
   ]
  },
  {
   "cell_type": "code",
   "execution_count": 30,
   "metadata": {},
   "outputs": [],
   "source": [
    "document_regex_searchers = {k: regex.compile(v).search for k, v in [\n",
    "    (\"article_id\", r\"/(?:front){e<=1}/.*/(?:article-id){e<=2}$\"),\n",
    "    (\"contrib\", r\"/(?:front){e<=1}/(?:article-meta){e<=4}/.*/(?:contrib){e<=2}$\"),\n",
    "    (\"aff\", r\"/(?:front){e<=1}/(?:article-meta){e<=4}/(?:aff){e<=1}$\"),\n",
    "]}"
   ]
  },
  {
   "cell_type": "code",
   "execution_count": 31,
   "metadata": {},
   "outputs": [
    {
     "name": "stdout",
     "output_type": "stream",
     "text": [
      "article_id /article/front/article-meta/article-id <Element article-id at 0x7f87fd4fc888>\n",
      "contrib /article/front/article-meta/contrib-group/contrib <Element contrib at 0x7f87fd4fc8c8>\n",
      "contrib /article/front/article-meta/contrib-group/contrib <Element contrib at 0x7f87fd4fc808>\n",
      "contrib /article/front/article-meta/contrib-group/contrib <Element contrib at 0x7f87fd4fc9c8>\n",
      "contrib /article/front/article-meta/contrib-group/contrib <Element contrib at 0x7f87fd4fc8c8>\n",
      "contrib /article/front/article-meta/contrib-group/contrib <Element contrib at 0x7f87fd4fc808>\n",
      "aff /article/front/article-meta/aff <Element aff at 0x7f87fd4fc988>\n",
      "aff /article/front/article-meta/aff <Element aff at 0x7f87fd4fc808>\n"
     ]
    }
   ],
   "source": [
    "for tag_line, element in etree_tag_line_gen(doctree.getroot()):\n",
    "    for k, searcher in document_regex_searchers.items():\n",
    "        if searcher(tag_line):\n",
    "            print(k, tag_line, element)"
   ]
  },
  {
   "cell_type": "markdown",
   "metadata": {},
   "source": [
    "## Building `<aff>` and `<contrib>` matching pairs"
   ]
  },
  {
   "cell_type": "code",
   "execution_count": 32,
   "metadata": {},
   "outputs": [],
   "source": [
    "from collections import defaultdict"
   ]
  },
  {
   "cell_type": "code",
   "execution_count": 33,
   "metadata": {},
   "outputs": [],
   "source": [
    "def get_article_id_contrib_aff(element):\n",
    "    result = defaultdict(list)\n",
    "    for tag_line, element in etree_tag_line_gen(element):\n",
    "        for k, searcher in document_regex_searchers.items():\n",
    "            if searcher(tag_line):\n",
    "                result[k].append(element)\n",
    "    return result"
   ]
  },
  {
   "cell_type": "code",
   "execution_count": 34,
   "metadata": {},
   "outputs": [
    {
     "data": {
      "text/plain": [
       "{'article_id': 1, 'contrib': 5, 'aff': 2}"
      ]
     },
     "execution_count": 34,
     "metadata": {},
     "output_type": "execute_result"
    }
   ],
   "source": [
    "{k: len(v) for k, v in get_article_id_contrib_aff(doctree.getroot()).items()}"
   ]
  },
  {
   "cell_type": "markdown",
   "metadata": {},
   "source": [
    "To be continued..."
   ]
  }
 ],
 "metadata": {
  "kernelspec": {
   "display_name": "Python 3",
   "language": "python",
   "name": "python3"
  },
  "language_info": {
   "codemirror_mode": {
    "name": "ipython",
    "version": 3
   },
   "file_extension": ".py",
   "mimetype": "text/x-python",
   "name": "python",
   "nbconvert_exporter": "python",
   "pygments_lexer": "ipython3",
   "version": "3.6.5"
  }
 },
 "nbformat": 4,
 "nbformat_minor": 2
}
