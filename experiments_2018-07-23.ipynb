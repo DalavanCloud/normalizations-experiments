{
 "cells": [
  {
   "cell_type": "markdown",
   "metadata": {},
   "source": [
    "# Matching and normalizing PID/DOI"
   ]
  },
  {
   "cell_type": "markdown",
   "metadata": {},
   "source": [
    "This resumes [2018-07-12 experiments](experiments_2018-07-12.ipynb)\n",
    "on analyzing the PID and DOI columns from the CSV files,\n",
    "which should be seen as keys to match rows from distinct CSV files."
   ]
  },
  {
   "cell_type": "markdown",
   "metadata": {},
   "source": [
    "## Creating a \"PID from DOI\" CSV from Crossref data"
   ]
  },
  {
   "cell_type": "markdown",
   "metadata": {},
   "source": [
    "From the previous experiments, we've got $20$ thousand files\n",
    "from the [Crossref API](https://github.com/Crossref/rest-api-doc)\n",
    "using the `fetch_crossref.py` script:"
   ]
  },
  {
   "cell_type": "code",
   "execution_count": 1,
   "metadata": {},
   "outputs": [
    {
     "name": "stdout",
     "output_type": "stream",
     "text": [
      "20364\r\n"
     ]
    }
   ],
   "source": [
    "!ls crossref-by-doi/*.json | wc -l"
   ]
  },
  {
   "cell_type": "markdown",
   "metadata": {},
   "source": [
    "We can create a single CSV from these JSON files\n",
    "with two columns: DOI and PID.\n",
    "However, the `;` character isn't a recommended separator\n",
    "since some DOI values have it:"
   ]
  },
  {
   "cell_type": "code",
   "execution_count": 2,
   "metadata": {},
   "outputs": [
    {
     "name": "stdout",
     "output_type": "stream",
     "text": [
      "36\r\n"
     ]
    }
   ],
   "source": [
    "!cat crossref-by-doi/*.json | jq -r .message.DOI | grep ';' | wc -l"
   ]
  },
  {
   "cell_type": "markdown",
   "metadata": {},
   "source": [
    "But there are no comma:"
   ]
  },
  {
   "cell_type": "code",
   "execution_count": 3,
   "metadata": {},
   "outputs": [
    {
     "name": "stdout",
     "output_type": "stream",
     "text": [
      "0\r\n"
     ]
    }
   ],
   "source": [
    "!cat crossref-by-doi/*.json | jq -r .message.DOI | grep ',' | wc -l"
   ]
  },
  {
   "cell_type": "markdown",
   "metadata": {},
   "source": [
    "This shell script should create the desired CSV:"
   ]
  },
  {
   "cell_type": "code",
   "execution_count": 4,
   "metadata": {},
   "outputs": [],
   "source": [
    "!( \\\n",
    "  echo DOI,PID && \\\n",
    "  cat crossref-by-doi/*.json \\\n",
    "    | jq -r '.message | select(has(\"alternative-id\")) | \"\\(.DOI),\\(.[\"alternative-id\"][0])\"' \\\n",
    ") > crossref-pid-from-doi.csv"
   ]
  },
  {
   "cell_type": "markdown",
   "metadata": {},
   "source": [
    "Loading the data:"
   ]
  },
  {
   "cell_type": "code",
   "execution_count": 5,
   "metadata": {},
   "outputs": [],
   "source": [
    "import pandas as pd"
   ]
  },
  {
   "cell_type": "code",
   "execution_count": 6,
   "metadata": {},
   "outputs": [
    {
     "data": {
      "text/html": [
       "<div>\n",
       "<style scoped>\n",
       "    .dataframe tbody tr th:only-of-type {\n",
       "        vertical-align: middle;\n",
       "    }\n",
       "\n",
       "    .dataframe tbody tr th {\n",
       "        vertical-align: top;\n",
       "    }\n",
       "\n",
       "    .dataframe thead th {\n",
       "        text-align: right;\n",
       "    }\n",
       "</style>\n",
       "<table border=\"1\" class=\"dataframe\">\n",
       "  <thead>\n",
       "    <tr style=\"text-align: right;\">\n",
       "      <th></th>\n",
       "      <th>DOI</th>\n",
       "      <th>PID</th>\n",
       "    </tr>\n",
       "  </thead>\n",
       "  <tbody>\n",
       "    <tr>\n",
       "      <th>0</th>\n",
       "      <td>10.1590/0103-6440201801735</td>\n",
       "      <td>S0103-64402018000100060</td>\n",
       "    </tr>\n",
       "    <tr>\n",
       "      <th>1</th>\n",
       "      <td>10.1016/j.bjan.2013.03.013</td>\n",
       "      <td>S0034709413000640</td>\n",
       "    </tr>\n",
       "    <tr>\n",
       "      <th>2</th>\n",
       "      <td>10.1016/j.bjan.2013.03.019</td>\n",
       "      <td>S0034709413000986</td>\n",
       "    </tr>\n",
       "    <tr>\n",
       "      <th>3</th>\n",
       "      <td>10.1016/j.bjan.2013.04.007</td>\n",
       "      <td>S0034709413000974</td>\n",
       "    </tr>\n",
       "    <tr>\n",
       "      <th>4</th>\n",
       "      <td>10.1016/j.bjane.2012.06.011</td>\n",
       "      <td>S0104001414000426</td>\n",
       "    </tr>\n",
       "    <tr>\n",
       "      <th>17374</th>\n",
       "      <td>10.5935/1808-8694.20140015</td>\n",
       "      <td>S1808869414500158</td>\n",
       "    </tr>\n",
       "    <tr>\n",
       "      <th>17375</th>\n",
       "      <td>10.5935/1808-8694.20140016</td>\n",
       "      <td>S180886941450016X</td>\n",
       "    </tr>\n",
       "    <tr>\n",
       "      <th>17376</th>\n",
       "      <td>10.5935/1808-8694.20140017</td>\n",
       "      <td>S1808869414500171</td>\n",
       "    </tr>\n",
       "    <tr>\n",
       "      <th>17377</th>\n",
       "      <td>10.5935/1808-8694.20140018</td>\n",
       "      <td>S1808869414500183</td>\n",
       "    </tr>\n",
       "    <tr>\n",
       "      <th>17378</th>\n",
       "      <td>10.1590/0037-8682-0155-2015</td>\n",
       "      <td>S0037-86822015000800001</td>\n",
       "    </tr>\n",
       "  </tbody>\n",
       "</table>\n",
       "</div>"
      ],
      "text/plain": [
       "                               DOI                      PID\n",
       "0       10.1590/0103-6440201801735  S0103-64402018000100060\n",
       "1       10.1016/j.bjan.2013.03.013        S0034709413000640\n",
       "2       10.1016/j.bjan.2013.03.019        S0034709413000986\n",
       "3       10.1016/j.bjan.2013.04.007        S0034709413000974\n",
       "4      10.1016/j.bjane.2012.06.011        S0104001414000426\n",
       "17374   10.5935/1808-8694.20140015        S1808869414500158\n",
       "17375   10.5935/1808-8694.20140016        S180886941450016X\n",
       "17376   10.5935/1808-8694.20140017        S1808869414500171\n",
       "17377   10.5935/1808-8694.20140018        S1808869414500183\n",
       "17378  10.1590/0037-8682-0155-2015  S0037-86822015000800001"
      ]
     },
     "execution_count": 6,
     "metadata": {},
     "output_type": "execute_result"
    }
   ],
   "source": [
    "doi_pid = pd.read_csv(\"crossref-pid-from-doi.csv\",\n",
    "                      dtype=str,\n",
    "                      keep_default_na=False)\n",
    "pd.concat([doi_pid.head(), doi_pid.tail()])"
   ]
  },
  {
   "cell_type": "markdown",
   "metadata": {},
   "source": [
    "Even the DOI values aren't normalized: there's a single duplicate in data:"
   ]
  },
  {
   "cell_type": "code",
   "execution_count": 7,
   "metadata": {},
   "outputs": [
    {
     "data": {
      "text/plain": [
       "(17379, 17378)"
      ]
     },
     "execution_count": 7,
     "metadata": {},
     "output_type": "execute_result"
    }
   ],
   "source": [
    "doi_pid.shape[0], doi_pid.drop_duplicates().shape[0]"
   ]
  },
  {
   "cell_type": "markdown",
   "metadata": {},
   "source": [
    "But the relationship is $1:1$:"
   ]
  },
  {
   "cell_type": "code",
   "execution_count": 8,
   "metadata": {},
   "outputs": [
    {
     "data": {
      "text/plain": [
       "(17378, 17378)"
      ]
     },
     "execution_count": 8,
     "metadata": {},
     "output_type": "execute_result"
    }
   ],
   "source": [
    "doi_pid[\"DOI\"].unique().shape[0], doi_pid[\"PID\"].unique().shape[0]"
   ]
  },
  {
   "cell_type": "markdown",
   "metadata": {},
   "source": [
    "Probably the duplicate regards to some prefix,\n",
    "like these not-normalized DOI values:"
   ]
  },
  {
   "cell_type": "code",
   "execution_count": 9,
   "metadata": {},
   "outputs": [
    {
     "name": "stdout",
     "output_type": "stream",
     "text": [
      "010.1590_0103-6440201801735.json\r\n",
      "_10.1590_1414-431X20122453.json\r\n",
      "Doi: 10.4025_actasciagron.v37i1.17686.json\r\n",
      "_dx.doi.org_10.1590_0037-8682-0155-2015.json\r\n"
     ]
    }
   ],
   "source": [
    "!ls crossref-by-doi/ | grep -v ^1"
   ]
  },
  {
   "cell_type": "markdown",
   "metadata": {},
   "source": [
    "## DOI value cleaning"
   ]
  },
  {
   "cell_type": "markdown",
   "metadata": {},
   "source": [
    "The four values found from the files can also be found directly from the CSV:"
   ]
  },
  {
   "cell_type": "code",
   "execution_count": 10,
   "metadata": {},
   "outputs": [],
   "source": [
    "dataset = pd.read_csv(\"inner_join_2018-06-04.csv\",\n",
    "                      dtype=str,\n",
    "                      keep_default_na=False) \\\n",
    "            .drop_duplicates()"
   ]
  },
  {
   "cell_type": "code",
   "execution_count": 11,
   "metadata": {},
   "outputs": [
    {
     "data": {
      "text/plain": [
       "['/dx.doi.org/10.1590/0037-8682-0155-2015',\n",
       " 'Doi: 10.4025/actasciagron.v37i1.17686',\n",
       " '',\n",
       " 'S0365-05962013000700001',\n",
       " '010.1590/0103-6440201801735',\n",
       " '/10.1590/1414-431X20122453']"
      ]
     },
     "execution_count": 11,
     "metadata": {},
     "output_type": "execute_result"
    }
   ],
   "source": [
    "dataset[~dataset[\"article_doi\"].str.startswith(\"1\")][\"article_doi\"].unique().tolist()"
   ]
  },
  {
   "cell_type": "markdown",
   "metadata": {},
   "source": [
    "The empty entry was expected\n",
    "(Crossref wasn't queried for it, as it wouldn't make sense),\n",
    "and the `S`-prefixed DOI (perhaps a valid PID) looks invalid,\n",
    "and wasn't found when querying the Crossref API.\n",
    "However, there are thousands of DOIs that either weren't found,\n",
    "or has something different in the Crossref API,\n",
    "therefore we need to perform some kind of DOI normalization\n",
    "before joining the dataframes:"
   ]
  },
  {
   "cell_type": "code",
   "execution_count": 12,
   "metadata": {},
   "outputs": [
    {
     "data": {
      "text/plain": [
       "9344"
      ]
     },
     "execution_count": 12,
     "metadata": {},
     "output_type": "execute_result"
    }
   ],
   "source": [
    "len(dataset[~dataset[\"article_doi\"].isin(doi_pid[\"DOI\"])][\"article_doi\"].unique())"
   ]
  },
  {
   "cell_type": "markdown",
   "metadata": {},
   "source": [
    "At first, let's see how many values in the CSV don't follow the\n",
    "[DOI numbering specification](https://www.doi.org/doi_handbook/2_Numbering.html):"
   ]
  },
  {
   "cell_type": "code",
   "execution_count": 13,
   "metadata": {},
   "outputs": [],
   "source": [
    "import re"
   ]
  },
  {
   "cell_type": "code",
   "execution_count": 14,
   "metadata": {},
   "outputs": [
    {
     "data": {
      "text/plain": [
       "33746    /dx.doi.org/10.1590/0037-8682-0155-2015\n",
       "40790      Doi: 10.4025/actasciagron.v37i1.17686\n",
       "45760              1590/TEM-1980-542X2018v240107\n",
       "45912               1590/1983-1447.2016.01.54105\n",
       "63008                                           \n",
       "63917                    S0365-05962013000700001\n",
       "72612                010.1590/0103-6440201801735\n",
       "81931                 /10.1590/1414-431X20122453\n",
       "93953                       105028/jatm.v5i1.163\n",
       "Name: article_doi, dtype: object"
      ]
     },
     "execution_count": 14,
     "metadata": {},
     "output_type": "execute_result"
    }
   ],
   "source": [
    "udois = dataset[\"article_doi\"].drop_duplicates()\n",
    "invalid_dois = udois[~udois.apply(re.compile(r\"10(\\.\\d+)+/.+$\").match).apply(bool)]\n",
    "invalid_dois"
   ]
  },
  {
   "cell_type": "markdown",
   "metadata": {},
   "source": [
    "Only $8$ values are invalid, most of them because of prefix issues.\n",
    "This regex should fix the invalid DOI values (but the PID one):"
   ]
  },
  {
   "cell_type": "code",
   "execution_count": 15,
   "metadata": {},
   "outputs": [
    {
     "data": {
      "text/plain": [
       "33746         10.1590/0037-8682-0155-2015\n",
       "40790    10.4025/actasciagron.v37i1.17686\n",
       "45760    10.1590/TEM-1980-542X2018v240107\n",
       "45912     10.1590/1983-1447.2016.01.54105\n",
       "63008                                None\n",
       "63917                                None\n",
       "72612          10.1590/0103-6440201801735\n",
       "81931           10.1590/1414-431X20122453\n",
       "93953               10.5028/jatm.v5i1.163\n",
       "Name: article_doi, dtype: object"
      ]
     },
     "execution_count": 15,
     "metadata": {},
     "output_type": "execute_result"
    }
   ],
   "source": [
    "doi_regex = re.compile(r\"(?:.*?10\\.?|^)(\\d+(?:.\\d+)+/.+)$\")\n",
    "invalid_dois.apply(doi_regex.search).apply(lambda val: val and \"10.\" + val.groups()[0])"
   ]
  },
  {
   "cell_type": "markdown",
   "metadata": {},
   "source": [
    "But that's a rather small value.\n",
    "How about the $9344$ distinct values\n",
    "that hadn't matched a DOI in the DOI to PID dataframe?\n",
    "Let's compare with the filename,\n",
    "how many files doesn't match?"
   ]
  },
  {
   "cell_type": "code",
   "execution_count": 16,
   "metadata": {},
   "outputs": [
    {
     "name": "stdout",
     "output_type": "stream",
     "text": [
      "6491\r\n"
     ]
    }
   ],
   "source": [
    "!for f in crossref-by-doi/*.json ; do \\\n",
    "  doi=\"$(jq -r .message.DOI \"$f\")\" ; \\\n",
    "  if [ crossref-by-doi/\"${doi//\\//_}\".json != \"$f\" ] ; then \\\n",
    "    echo 1 ; \\\n",
    "  fi ; \\\n",
    "done | wc -l"
   ]
  },
  {
   "cell_type": "markdown",
   "metadata": {},
   "source": [
    "Less than $9$ thousand, but that's still too much.\n",
    "Let's see the first ones not matching\n",
    "(each row has a DOI from the Crossref\n",
    " and the file name created by replacing the `/` by `_`):"
   ]
  },
  {
   "cell_type": "code",
   "execution_count": 17,
   "metadata": {},
   "outputs": [
    {
     "name": "stdout",
     "output_type": "stream",
     "text": [
      "10.1590/0103-6440201801735 crossref-by-doi/010.1590_0103-6440201801735.json\n",
      "10.11606/issn.2316-901x.v0i61p103-121 crossref-by-doi/10.11606_issn.2316-901X.v0i61p103-121.json\n",
      "10.11606/issn.2316-901x.v0i61p122-139 crossref-by-doi/10.11606_issn.2316-901X.v0i61p122-139.json\n",
      "10.11606/issn.2316-901x.v0i61p140-158 crossref-by-doi/10.11606_issn.2316-901X.v0i61p140-158.json\n",
      "10.11606/issn.2316-901x.v0i61p14-17 crossref-by-doi/10.11606_issn.2316-901X.v0i61p14-17.json\n"
     ]
    }
   ],
   "source": [
    "!i=0; \\\n",
    "for f in crossref-by-doi/*.json ; do \\\n",
    "  doi=\"$(jq -r .message.DOI \"$f\")\" ; \\\n",
    "  if [ crossref-by-doi/\"${doi//\\//_}\".json != \"$f\" ] ; then \\\n",
    "    echo \"$doi\" \"$f\" ; \\\n",
    "    i=$[$i + 1] ; \\\n",
    "  fi ; \\\n",
    "  test $i -ge 5 && break ; \\\n",
    "done"
   ]
  },
  {
   "cell_type": "markdown",
   "metadata": {},
   "source": [
    "These are distict because of the `X` case,\n",
    "which seems to be given in lower case by the Crossref output.\n",
    "Putting the file name in lowercase for the comparison yields:"
   ]
  },
  {
   "cell_type": "code",
   "execution_count": 18,
   "metadata": {},
   "outputs": [
    {
     "name": "stdout",
     "output_type": "stream",
     "text": [
      "10.1590/0103-6440201801735 crossref-by-doi/010.1590_0103-6440201801735.json\n",
      "10.1590/1414-431x20122453 crossref-by-doi/_10.1590_1414-431X20122453.json\n",
      "10.4025/actasciagron.v37i1.17686 crossref-by-doi/Doi: 10.4025_actasciagron.v37i1.17686.json\n",
      "10.1590/0037-8682-0155-2015 crossref-by-doi/_dx.doi.org_10.1590_0037-8682-0155-2015.json\n"
     ]
    }
   ],
   "source": [
    "!for f in crossref-by-doi/*.json ; do \\\n",
    "  doi=\"$(jq -r .message.DOI \"$f\")\" ; \\\n",
    "  if [ crossref-by-doi/\"${doi//\\//_}\".json != \"${f,,}\" ] ; then \\\n",
    "    echo \"$doi\" \"$f\" ; \\\n",
    "  fi ; \\\n",
    "done"
   ]
  },
  {
   "cell_type": "markdown",
   "metadata": {},
   "source": [
    "Only $4$ not matching. Doing the same with the dataframes:"
   ]
  },
  {
   "cell_type": "code",
   "execution_count": 19,
   "metadata": {},
   "outputs": [
    {
     "data": {
      "text/plain": [
       "858      10.4301/S1807-17752015000100005\n",
       "861      10.4301/S1807-17752015000100006\n",
       "863      10.4301/S1807-17752015000100008\n",
       "865      10.4301/S1807-17752015000100002\n",
       "868      10.4301/S1807-17752015000100001\n",
       "869      10.4301/S1807-17752015000100009\n",
       "872      10.4301/S1807-17752015000100007\n",
       "875      10.4301/S1807-17752015000100004\n",
       "876      10.4301/S1807-17752015000100003\n",
       "879      10.4301/S1807-17752017000100002\n",
       "880      10.4301/S1807-17752017000100001\n",
       "882      10.4301/S1807-17752017000100005\n",
       "886      10.4301/S1807-17752017000100006\n",
       "888      10.4301/S1807-17752017000100004\n",
       "891      10.4301/S1807-17752017000100003\n",
       "892      10.4301/S1807-17752014000100007\n",
       "894      10.4301/S1807-17752014000100010\n",
       "896      10.4301/S1807-17752014000100008\n",
       "898      10.4301/S1807-17752014000100002\n",
       "901      10.4301/S1807-17752014000100009\n",
       "903      10.4301/S1807-17752014000100011\n",
       "908      10.4301/S1807-17752014000100003\n",
       "910      10.4301/S1807-17752014000100012\n",
       "912      10.4301/S1807-17752014000100006\n",
       "915      10.4301/S1807-17752016000100001\n",
       "917      10.4301/S1807-17752016000100004\n",
       "920      10.4301/S1807-17752016000100007\n",
       "924      10.4301/S1807-17752016000100002\n",
       "927      10.4301/S1807-17752016000100006\n",
       "931      10.4301/S1807-17752016000100003\n",
       "                      ...               \n",
       "93925              10.5028/jatm.v9i1.610\n",
       "93929              10.5028/jatm.v9i1.674\n",
       "93931              10.5028/jatm.v9i1.717\n",
       "93934              10.5028/jatm.v9i1.697\n",
       "93943              10.5028/jatm.v5i1.232\n",
       "93945              10.5028/jatm.v5i1.180\n",
       "93951              10.5028/jatm.v5i1.182\n",
       "93952              10.5028/jatm.v5i1.246\n",
       "93953               105028/jatm.v5i1.163\n",
       "93956              10.5028/jatm.v5i1.192\n",
       "93959              10.5028/jatm.v5i1.188\n",
       "93961              10.5028/jatm.v5i1.208\n",
       "93962              10.5028/jatm.v5i1.233\n",
       "93964              10.5028/jatm.v5i1.191\n",
       "93968              10.5028/jatm.v5i1.165\n",
       "93970              10.5028/jatm.v5i1.162\n",
       "93977              10.5028/jatm.v7i1.461\n",
       "93981              10.5028/jatm.v7i1.417\n",
       "93984              10.5028/jatm.v7i1.435\n",
       "93987              10.5028/jatm.v7i1.358\n",
       "93990              10.5028/jatm.v7i1.392\n",
       "93994              10.5028/jatm.v7i1.343\n",
       "93997              10.5028/jatm.v7i1.409\n",
       "93999              10.5028/jatm.v7i1.405\n",
       "94002              10.5028/jatm.v7i1.469\n",
       "94007              10.5028/jatm.v7i1.411\n",
       "94012              10.5028/jatm.v7i1.426\n",
       "94014              10.5028/jatm.v7i1.389\n",
       "94018              10.5028/jatm.v7i1.437\n",
       "94496        10.1590/0101-60830000000039\n",
       "Name: article_doi, Length: 3175, dtype: object"
      ]
     },
     "execution_count": 19,
     "metadata": {},
     "output_type": "execute_result"
    }
   ],
   "source": [
    "lower_doi = dataset[\"article_doi\"].str.lower()\n",
    "dataset[~lower_doi.isin(doi_pid[\"DOI\"])][\"article_doi\"].drop_duplicates()"
   ]
  },
  {
   "cell_type": "markdown",
   "metadata": {},
   "source": [
    "And that makes sense, we don't have more than $3$ thousand paired rows,\n",
    "though most of them have a Crossref entry:"
   ]
  },
  {
   "cell_type": "code",
   "execution_count": 20,
   "metadata": {},
   "outputs": [
    {
     "data": {
      "text/plain": [
       "20553"
      ]
     },
     "execution_count": 20,
     "metadata": {},
     "output_type": "execute_result"
    }
   ],
   "source": [
    "3175 + 17378 # Not matched + \"doi_pid\" size == distinct DOIs"
   ]
  },
  {
   "cell_type": "markdown",
   "metadata": {},
   "source": [
    "$2985$ out of $3175$ are Crossref entries without the PID:"
   ]
  },
  {
   "cell_type": "code",
   "execution_count": 21,
   "metadata": {},
   "outputs": [
    {
     "name": "stdout",
     "output_type": "stream",
     "text": [
      "2985\r\n"
     ]
    }
   ],
   "source": [
    "!cat crossref-by-doi/*.json \\\n",
    "  | jq -r '.message | select(has(\"alternative-id\") | not) | .DOI' \\\n",
    "  | wc -l"
   ]
  },
  {
   "cell_type": "markdown",
   "metadata": {},
   "source": [
    "Several entries don't have a PID since SciELO's DOI prefix is `10.1590`,\n",
    "and entries with other DOI prefixes aren't submitted  by SciELO\n",
    "but probably by the publisher who owns that prefix."
   ]
  },
  {
   "cell_type": "markdown",
   "metadata": {},
   "source": [
    "Nevertheless, we can fix the few DOI values that aren't normalized.\n",
    "Let's patch the dataset with a new \"fixed_doi\" column:"
   ]
  },
  {
   "cell_type": "code",
   "execution_count": 22,
   "metadata": {},
   "outputs": [
    {
     "data": {
      "text/html": [
       "<div>\n",
       "<style scoped>\n",
       "    .dataframe tbody tr th:only-of-type {\n",
       "        vertical-align: middle;\n",
       "    }\n",
       "\n",
       "    .dataframe tbody tr th {\n",
       "        vertical-align: top;\n",
       "    }\n",
       "\n",
       "    .dataframe thead th {\n",
       "        text-align: right;\n",
       "    }\n",
       "</style>\n",
       "<table border=\"1\" class=\"dataframe\">\n",
       "  <thead>\n",
       "    <tr style=\"text-align: right;\">\n",
       "      <th></th>\n",
       "      <th>article_doi</th>\n",
       "      <th>fixed_doi</th>\n",
       "    </tr>\n",
       "  </thead>\n",
       "  <tbody>\n",
       "    <tr>\n",
       "      <th>33746</th>\n",
       "      <td>/dx.doi.org/10.1590/0037-8682-0155-2015</td>\n",
       "      <td>10.1590/0037-8682-0155-2015</td>\n",
       "    </tr>\n",
       "    <tr>\n",
       "      <th>40790</th>\n",
       "      <td>Doi: 10.4025/actasciagron.v37i1.17686</td>\n",
       "      <td>10.4025/actasciagron.v37i1.17686</td>\n",
       "    </tr>\n",
       "    <tr>\n",
       "      <th>45760</th>\n",
       "      <td>1590/TEM-1980-542X2018v240107</td>\n",
       "      <td>10.1590/tem-1980-542x2018v240107</td>\n",
       "    </tr>\n",
       "    <tr>\n",
       "      <th>45912</th>\n",
       "      <td>1590/1983-1447.2016.01.54105</td>\n",
       "      <td>10.1590/1983-1447.2016.01.54105</td>\n",
       "    </tr>\n",
       "    <tr>\n",
       "      <th>63008</th>\n",
       "      <td></td>\n",
       "      <td>None</td>\n",
       "    </tr>\n",
       "    <tr>\n",
       "      <th>63917</th>\n",
       "      <td>S0365-05962013000700001</td>\n",
       "      <td>None</td>\n",
       "    </tr>\n",
       "    <tr>\n",
       "      <th>72612</th>\n",
       "      <td>010.1590/0103-6440201801735</td>\n",
       "      <td>10.1590/0103-6440201801735</td>\n",
       "    </tr>\n",
       "    <tr>\n",
       "      <th>81931</th>\n",
       "      <td>/10.1590/1414-431X20122453</td>\n",
       "      <td>10.1590/1414-431x20122453</td>\n",
       "    </tr>\n",
       "    <tr>\n",
       "      <th>93953</th>\n",
       "      <td>105028/jatm.v5i1.163</td>\n",
       "      <td>10.5028/jatm.v5i1.163</td>\n",
       "    </tr>\n",
       "  </tbody>\n",
       "</table>\n",
       "</div>"
      ],
      "text/plain": [
       "                                   article_doi  \\\n",
       "33746  /dx.doi.org/10.1590/0037-8682-0155-2015   \n",
       "40790    Doi: 10.4025/actasciagron.v37i1.17686   \n",
       "45760            1590/TEM-1980-542X2018v240107   \n",
       "45912             1590/1983-1447.2016.01.54105   \n",
       "63008                                            \n",
       "63917                  S0365-05962013000700001   \n",
       "72612              010.1590/0103-6440201801735   \n",
       "81931               /10.1590/1414-431X20122453   \n",
       "93953                     105028/jatm.v5i1.163   \n",
       "\n",
       "                              fixed_doi  \n",
       "33746       10.1590/0037-8682-0155-2015  \n",
       "40790  10.4025/actasciagron.v37i1.17686  \n",
       "45760  10.1590/tem-1980-542x2018v240107  \n",
       "45912   10.1590/1983-1447.2016.01.54105  \n",
       "63008                              None  \n",
       "63917                              None  \n",
       "72612        10.1590/0103-6440201801735  \n",
       "81931         10.1590/1414-431x20122453  \n",
       "93953             10.5028/jatm.v5i1.163  "
      ]
     },
     "execution_count": 22,
     "metadata": {},
     "output_type": "execute_result"
    }
   ],
   "source": [
    "dataset[\"fixed_doi\"] = dataset[\"article_doi\"] \\\n",
    "                      .apply(doi_regex.search) \\\n",
    "                      .apply(lambda val: val and \"10.\" + val.groups()[0]) \\\n",
    "                      .str.lower()\n",
    "dataset[[\"article_doi\", \"fixed_doi\"]] \\\n",
    "    [dataset[\"article_doi\"].str.lower() != dataset[\"fixed_doi\"]] \\\n",
    "    .drop_duplicates()"
   ]
  },
  {
   "cell_type": "markdown",
   "metadata": {},
   "source": [
    "One can append `or \"\"` to the lambda\n",
    "in order to replace the `None` by empty strings.\n",
    "This `(?:.*?10\\.?|^)(\\d+(?:.\\d+)+/.+)$` regex should be seen\n",
    "as an overfit to this data:\n",
    "it assumes there are no suffix errors,\n",
    "and that a `10`-prefixed value without a dot\n",
    "had just missed the dot.\n",
    "However, as it matches a valid DOI,\n",
    "it should remain useful for DOI value normalization\n",
    "even for data obtained from elsewhere."
   ]
  },
  {
   "cell_type": "markdown",
   "metadata": {},
   "source": [
    "This procedure enhances the matching by some few entries: "
   ]
  },
  {
   "cell_type": "code",
   "execution_count": 23,
   "metadata": {},
   "outputs": [
    {
     "data": {
      "text/plain": [
       "3171"
      ]
     },
     "execution_count": 23,
     "metadata": {},
     "output_type": "execute_result"
    }
   ],
   "source": [
    "dataset[~dataset[\"fixed_doi\"].isin(doi_pid[\"DOI\"])][\"fixed_doi\"].drop_duplicates().shape[0]"
   ]
  },
  {
   "cell_type": "markdown",
   "metadata": {},
   "source": [
    "Just for consistency sake,\n",
    "that value can also be found as ($\\#$ denotes \"number of\"):\n",
    "\n",
    "$$\n",
    "\\# not(matched) = \\# distinct(article\\_doi) - \\# Crossref\\_files_{total} + \\# Crossref\\_files_{without\\_PID}\n",
    "$$"
   ]
  },
  {
   "cell_type": "code",
   "execution_count": 24,
   "metadata": {},
   "outputs": [
    {
     "data": {
      "text/plain": [
       "3171"
      ]
     },
     "execution_count": 24,
     "metadata": {},
     "output_type": "execute_result"
    }
   ],
   "source": [
    "20550 - 20364 + 2985"
   ]
  },
  {
   "cell_type": "markdown",
   "metadata": {},
   "source": [
    "## Comparing raw XML PID with the Crossref PID"
   ]
  },
  {
   "cell_type": "markdown",
   "metadata": {},
   "source": [
    "Having the `fixed_doi` column makes a matching join quite easy:"
   ]
  },
  {
   "cell_type": "code",
   "execution_count": 25,
   "metadata": {},
   "outputs": [
    {
     "data": {
      "text/html": [
       "<div>\n",
       "<style scoped>\n",
       "    .dataframe tbody tr th:only-of-type {\n",
       "        vertical-align: middle;\n",
       "    }\n",
       "\n",
       "    .dataframe tbody tr th {\n",
       "        vertical-align: top;\n",
       "    }\n",
       "\n",
       "    .dataframe thead th {\n",
       "        text-align: right;\n",
       "    }\n",
       "</style>\n",
       "<table border=\"1\" class=\"dataframe\">\n",
       "  <thead>\n",
       "    <tr style=\"text-align: right;\">\n",
       "      <th></th>\n",
       "      <th>0</th>\n",
       "      <th>1</th>\n",
       "      <th>2</th>\n",
       "    </tr>\n",
       "  </thead>\n",
       "  <tbody>\n",
       "    <tr>\n",
       "      <th>addr_city</th>\n",
       "      <td></td>\n",
       "      <td></td>\n",
       "      <td></td>\n",
       "    </tr>\n",
       "    <tr>\n",
       "      <th>addr_country</th>\n",
       "      <td>Brazil</td>\n",
       "      <td>Brazil</td>\n",
       "      <td>Brazil</td>\n",
       "    </tr>\n",
       "    <tr>\n",
       "      <th>addr_country_code</th>\n",
       "      <td>BR</td>\n",
       "      <td>BR</td>\n",
       "      <td>BR</td>\n",
       "    </tr>\n",
       "    <tr>\n",
       "      <th>addr_postal_code</th>\n",
       "      <td></td>\n",
       "      <td></td>\n",
       "      <td></td>\n",
       "    </tr>\n",
       "    <tr>\n",
       "      <th>addr_state</th>\n",
       "      <td></td>\n",
       "      <td></td>\n",
       "      <td></td>\n",
       "    </tr>\n",
       "    <tr>\n",
       "      <th>aff_email</th>\n",
       "      <td>ligiamorimadeira@gmail.com</td>\n",
       "      <td>mksilva@ufrgs.br</td>\n",
       "      <td>bianca.or@gmail.com</td>\n",
       "    </tr>\n",
       "    <tr>\n",
       "      <th>aff_id</th>\n",
       "      <td>aff1</td>\n",
       "      <td>aff1</td>\n",
       "      <td>aff2</td>\n",
       "    </tr>\n",
       "    <tr>\n",
       "      <th>aff_text</th>\n",
       "      <td>* É doutora em Sociologia pela Universidade Fe...</td>\n",
       "      <td>* É professor do Departamento de Sociologia da...</td>\n",
       "      <td>** É professora do Instituto Federal Sul-rio-g...</td>\n",
       "    </tr>\n",
       "    <tr>\n",
       "      <th>article_doi</th>\n",
       "      <td>10.1590/0103-335220162102</td>\n",
       "      <td>10.1590/0103-335220162106</td>\n",
       "      <td>10.1590/0103-335220162106</td>\n",
       "    </tr>\n",
       "    <tr>\n",
       "      <th>article_publisher_id</th>\n",
       "      <td></td>\n",
       "      <td></td>\n",
       "      <td></td>\n",
       "    </tr>\n",
       "    <tr>\n",
       "      <th>article_title</th>\n",
       "      <td>Compliance:a (rara) aplicação de instrumentos ...</td>\n",
       "      <td>Condições e mecanismos do engajamento militant...</td>\n",
       "      <td>Condições e mecanismos do engajamento militant...</td>\n",
       "    </tr>\n",
       "    <tr>\n",
       "      <th>contrib_bio</th>\n",
       "      <td></td>\n",
       "      <td></td>\n",
       "      <td></td>\n",
       "    </tr>\n",
       "    <tr>\n",
       "      <th>contrib_degrees</th>\n",
       "      <td></td>\n",
       "      <td></td>\n",
       "      <td></td>\n",
       "    </tr>\n",
       "    <tr>\n",
       "      <th>contrib_email</th>\n",
       "      <td></td>\n",
       "      <td></td>\n",
       "      <td></td>\n",
       "    </tr>\n",
       "    <tr>\n",
       "      <th>contrib_given_names</th>\n",
       "      <td>Lígia Mori</td>\n",
       "      <td>Marcelo Kunrath</td>\n",
       "      <td>Bianca de Oliveira</td>\n",
       "    </tr>\n",
       "    <tr>\n",
       "      <th>contrib_name</th>\n",
       "      <td>Madeira Lígia Mori</td>\n",
       "      <td>Silva Marcelo Kunrath</td>\n",
       "      <td>Ruskowski Bianca de Oliveira</td>\n",
       "    </tr>\n",
       "    <tr>\n",
       "      <th>contrib_orcid</th>\n",
       "      <td></td>\n",
       "      <td></td>\n",
       "      <td></td>\n",
       "    </tr>\n",
       "    <tr>\n",
       "      <th>contrib_prefix</th>\n",
       "      <td></td>\n",
       "      <td></td>\n",
       "      <td></td>\n",
       "    </tr>\n",
       "    <tr>\n",
       "      <th>contrib_role</th>\n",
       "      <td></td>\n",
       "      <td></td>\n",
       "      <td></td>\n",
       "    </tr>\n",
       "    <tr>\n",
       "      <th>contrib_suffix</th>\n",
       "      <td></td>\n",
       "      <td></td>\n",
       "      <td></td>\n",
       "    </tr>\n",
       "    <tr>\n",
       "      <th>contrib_surname</th>\n",
       "      <td>Madeira</td>\n",
       "      <td>Silva</td>\n",
       "      <td>Ruskowski</td>\n",
       "    </tr>\n",
       "    <tr>\n",
       "      <th>contrib_type</th>\n",
       "      <td>author</td>\n",
       "      <td>author</td>\n",
       "      <td>author</td>\n",
       "    </tr>\n",
       "    <tr>\n",
       "      <th>institution_orgdiv1</th>\n",
       "      <td></td>\n",
       "      <td></td>\n",
       "      <td></td>\n",
       "    </tr>\n",
       "    <tr>\n",
       "      <th>institution_orgdiv2</th>\n",
       "      <td></td>\n",
       "      <td></td>\n",
       "      <td></td>\n",
       "    </tr>\n",
       "    <tr>\n",
       "      <th>institution_orgname</th>\n",
       "      <td>Universidade Federal do Rio Grande do Sul (UFRGS)</td>\n",
       "      <td>Universidade Federal do Rio Grande do Sul (UFRGS)</td>\n",
       "      <td>Instituto Federal Sul-rio-grandense (IFSUL)</td>\n",
       "    </tr>\n",
       "    <tr>\n",
       "      <th>institution_orgname_rewritten</th>\n",
       "      <td>Universidade Federal do Rio Grande do Sul</td>\n",
       "      <td>Universidade Federal do Rio Grande do Sul</td>\n",
       "      <td>Instituto Federal Sul-rio-grandense</td>\n",
       "    </tr>\n",
       "    <tr>\n",
       "      <th>institution_original</th>\n",
       "      <td>É doutora em Sociologia pela Universidade Fede...</td>\n",
       "      <td>É professor do Departamento de Sociologia da U...</td>\n",
       "      <td>É professora do Instituto Federal Sul-rio-gran...</td>\n",
       "    </tr>\n",
       "    <tr>\n",
       "      <th>issn_epub</th>\n",
       "      <td>2178-4884</td>\n",
       "      <td>2178-4884</td>\n",
       "      <td>2178-4884</td>\n",
       "    </tr>\n",
       "    <tr>\n",
       "      <th>issn_ppub</th>\n",
       "      <td></td>\n",
       "      <td></td>\n",
       "      <td></td>\n",
       "    </tr>\n",
       "    <tr>\n",
       "      <th>journal_nlm_ta</th>\n",
       "      <td></td>\n",
       "      <td></td>\n",
       "      <td></td>\n",
       "    </tr>\n",
       "    <tr>\n",
       "      <th>journal_publisher_id</th>\n",
       "      <td>rbcpol</td>\n",
       "      <td>rbcpol</td>\n",
       "      <td>rbcpol</td>\n",
       "    </tr>\n",
       "    <tr>\n",
       "      <th>journal_title</th>\n",
       "      <td>Revista Brasileira de Ciência Política</td>\n",
       "      <td>Revista Brasileira de Ciência Política</td>\n",
       "      <td>Revista Brasileira de Ciência Política</td>\n",
       "    </tr>\n",
       "    <tr>\n",
       "      <th>label</th>\n",
       "      <td>*</td>\n",
       "      <td>*</td>\n",
       "      <td>**</td>\n",
       "    </tr>\n",
       "    <tr>\n",
       "      <th>phone</th>\n",
       "      <td></td>\n",
       "      <td></td>\n",
       "      <td></td>\n",
       "    </tr>\n",
       "    <tr>\n",
       "      <th>publisher_name</th>\n",
       "      <td>Universidade de Brasília. Instituto de Ciência...</td>\n",
       "      <td>Universidade de Brasília. Instituto de Ciência...</td>\n",
       "      <td>Universidade de Brasília. Instituto de Ciência...</td>\n",
       "    </tr>\n",
       "    <tr>\n",
       "      <th>xref_aff</th>\n",
       "      <td>aff1</td>\n",
       "      <td>aff1</td>\n",
       "      <td>aff2</td>\n",
       "    </tr>\n",
       "    <tr>\n",
       "      <th>xref_aff_text</th>\n",
       "      <td>*</td>\n",
       "      <td>*</td>\n",
       "      <td>**</td>\n",
       "    </tr>\n",
       "    <tr>\n",
       "      <th>xref_corresp</th>\n",
       "      <td></td>\n",
       "      <td></td>\n",
       "      <td></td>\n",
       "    </tr>\n",
       "    <tr>\n",
       "      <th>xref_corresp_text</th>\n",
       "      <td></td>\n",
       "      <td></td>\n",
       "      <td></td>\n",
       "    </tr>\n",
       "    <tr>\n",
       "      <th>fixed_doi</th>\n",
       "      <td>10.1590/0103-335220162102</td>\n",
       "      <td>10.1590/0103-335220162106</td>\n",
       "      <td>10.1590/0103-335220162106</td>\n",
       "    </tr>\n",
       "    <tr>\n",
       "      <th>DOI</th>\n",
       "      <td>10.1590/0103-335220162102</td>\n",
       "      <td>10.1590/0103-335220162106</td>\n",
       "      <td>10.1590/0103-335220162106</td>\n",
       "    </tr>\n",
       "    <tr>\n",
       "      <th>PID</th>\n",
       "      <td>S0103-33522016000300045</td>\n",
       "      <td>S0103-33522016000300187</td>\n",
       "      <td>S0103-33522016000300187</td>\n",
       "    </tr>\n",
       "  </tbody>\n",
       "</table>\n",
       "</div>"
      ],
      "text/plain": [
       "                                                                               0  \\\n",
       "addr_city                                                                          \n",
       "addr_country                                                              Brazil   \n",
       "addr_country_code                                                             BR   \n",
       "addr_postal_code                                                                   \n",
       "addr_state                                                                         \n",
       "aff_email                                             ligiamorimadeira@gmail.com   \n",
       "aff_id                                                                      aff1   \n",
       "aff_text                       * É doutora em Sociologia pela Universidade Fe...   \n",
       "article_doi                                            10.1590/0103-335220162102   \n",
       "article_publisher_id                                                               \n",
       "article_title                  Compliance:a (rara) aplicação de instrumentos ...   \n",
       "contrib_bio                                                                        \n",
       "contrib_degrees                                                                    \n",
       "contrib_email                                                                      \n",
       "contrib_given_names                                                   Lígia Mori   \n",
       "contrib_name                                                  Madeira Lígia Mori   \n",
       "contrib_orcid                                                                      \n",
       "contrib_prefix                                                                     \n",
       "contrib_role                                                                       \n",
       "contrib_suffix                                                                     \n",
       "contrib_surname                                                          Madeira   \n",
       "contrib_type                                                              author   \n",
       "institution_orgdiv1                                                                \n",
       "institution_orgdiv2                                                                \n",
       "institution_orgname            Universidade Federal do Rio Grande do Sul (UFRGS)   \n",
       "institution_orgname_rewritten          Universidade Federal do Rio Grande do Sul   \n",
       "institution_original           É doutora em Sociologia pela Universidade Fede...   \n",
       "issn_epub                                                              2178-4884   \n",
       "issn_ppub                                                                          \n",
       "journal_nlm_ta                                                                     \n",
       "journal_publisher_id                                                      rbcpol   \n",
       "journal_title                             Revista Brasileira de Ciência Política   \n",
       "label                                                                          *   \n",
       "phone                                                                              \n",
       "publisher_name                 Universidade de Brasília. Instituto de Ciência...   \n",
       "xref_aff                                                                    aff1   \n",
       "xref_aff_text                                                                  *   \n",
       "xref_corresp                                                                       \n",
       "xref_corresp_text                                                                  \n",
       "fixed_doi                                              10.1590/0103-335220162102   \n",
       "DOI                                                    10.1590/0103-335220162102   \n",
       "PID                                                      S0103-33522016000300045   \n",
       "\n",
       "                                                                               1  \\\n",
       "addr_city                                                                          \n",
       "addr_country                                                              Brazil   \n",
       "addr_country_code                                                             BR   \n",
       "addr_postal_code                                                                   \n",
       "addr_state                                                                         \n",
       "aff_email                                                       mksilva@ufrgs.br   \n",
       "aff_id                                                                      aff1   \n",
       "aff_text                       * É professor do Departamento de Sociologia da...   \n",
       "article_doi                                            10.1590/0103-335220162106   \n",
       "article_publisher_id                                                               \n",
       "article_title                  Condições e mecanismos do engajamento militant...   \n",
       "contrib_bio                                                                        \n",
       "contrib_degrees                                                                    \n",
       "contrib_email                                                                      \n",
       "contrib_given_names                                              Marcelo Kunrath   \n",
       "contrib_name                                               Silva Marcelo Kunrath   \n",
       "contrib_orcid                                                                      \n",
       "contrib_prefix                                                                     \n",
       "contrib_role                                                                       \n",
       "contrib_suffix                                                                     \n",
       "contrib_surname                                                            Silva   \n",
       "contrib_type                                                              author   \n",
       "institution_orgdiv1                                                                \n",
       "institution_orgdiv2                                                                \n",
       "institution_orgname            Universidade Federal do Rio Grande do Sul (UFRGS)   \n",
       "institution_orgname_rewritten          Universidade Federal do Rio Grande do Sul   \n",
       "institution_original           É professor do Departamento de Sociologia da U...   \n",
       "issn_epub                                                              2178-4884   \n",
       "issn_ppub                                                                          \n",
       "journal_nlm_ta                                                                     \n",
       "journal_publisher_id                                                      rbcpol   \n",
       "journal_title                             Revista Brasileira de Ciência Política   \n",
       "label                                                                          *   \n",
       "phone                                                                              \n",
       "publisher_name                 Universidade de Brasília. Instituto de Ciência...   \n",
       "xref_aff                                                                    aff1   \n",
       "xref_aff_text                                                                  *   \n",
       "xref_corresp                                                                       \n",
       "xref_corresp_text                                                                  \n",
       "fixed_doi                                              10.1590/0103-335220162106   \n",
       "DOI                                                    10.1590/0103-335220162106   \n",
       "PID                                                      S0103-33522016000300187   \n",
       "\n",
       "                                                                               2  \n",
       "addr_city                                                                         \n",
       "addr_country                                                              Brazil  \n",
       "addr_country_code                                                             BR  \n",
       "addr_postal_code                                                                  \n",
       "addr_state                                                                        \n",
       "aff_email                                                    bianca.or@gmail.com  \n",
       "aff_id                                                                      aff2  \n",
       "aff_text                       ** É professora do Instituto Federal Sul-rio-g...  \n",
       "article_doi                                            10.1590/0103-335220162106  \n",
       "article_publisher_id                                                              \n",
       "article_title                  Condições e mecanismos do engajamento militant...  \n",
       "contrib_bio                                                                       \n",
       "contrib_degrees                                                                   \n",
       "contrib_email                                                                     \n",
       "contrib_given_names                                           Bianca de Oliveira  \n",
       "contrib_name                                        Ruskowski Bianca de Oliveira  \n",
       "contrib_orcid                                                                     \n",
       "contrib_prefix                                                                    \n",
       "contrib_role                                                                      \n",
       "contrib_suffix                                                                    \n",
       "contrib_surname                                                        Ruskowski  \n",
       "contrib_type                                                              author  \n",
       "institution_orgdiv1                                                               \n",
       "institution_orgdiv2                                                               \n",
       "institution_orgname                  Instituto Federal Sul-rio-grandense (IFSUL)  \n",
       "institution_orgname_rewritten                Instituto Federal Sul-rio-grandense  \n",
       "institution_original           É professora do Instituto Federal Sul-rio-gran...  \n",
       "issn_epub                                                              2178-4884  \n",
       "issn_ppub                                                                         \n",
       "journal_nlm_ta                                                                    \n",
       "journal_publisher_id                                                      rbcpol  \n",
       "journal_title                             Revista Brasileira de Ciência Política  \n",
       "label                                                                         **  \n",
       "phone                                                                             \n",
       "publisher_name                 Universidade de Brasília. Instituto de Ciência...  \n",
       "xref_aff                                                                    aff2  \n",
       "xref_aff_text                                                                 **  \n",
       "xref_corresp                                                                      \n",
       "xref_corresp_text                                                                 \n",
       "fixed_doi                                              10.1590/0103-335220162106  \n",
       "DOI                                                    10.1590/0103-335220162106  \n",
       "PID                                                      S0103-33522016000300187  "
      ]
     },
     "execution_count": 25,
     "metadata": {},
     "output_type": "execute_result"
    }
   ],
   "source": [
    "merged2 = pd.merge(dataset, doi_pid, how=\"left\", left_on=\"fixed_doi\", right_on=\"DOI\")\n",
    "merged2.head(3).T"
   ]
  },
  {
   "cell_type": "markdown",
   "metadata": {},
   "source": [
    "However, there are way too many rows with distinct PIDs for a single DOI:"
   ]
  },
  {
   "cell_type": "code",
   "execution_count": 26,
   "metadata": {},
   "outputs": [
    {
     "data": {
      "text/html": [
       "<div>\n",
       "<style scoped>\n",
       "    .dataframe tbody tr th:only-of-type {\n",
       "        vertical-align: middle;\n",
       "    }\n",
       "\n",
       "    .dataframe tbody tr th {\n",
       "        vertical-align: top;\n",
       "    }\n",
       "\n",
       "    .dataframe thead th {\n",
       "        text-align: right;\n",
       "    }\n",
       "</style>\n",
       "<table border=\"1\" class=\"dataframe\">\n",
       "  <thead>\n",
       "    <tr style=\"text-align: right;\">\n",
       "      <th></th>\n",
       "      <th>article_publisher_id</th>\n",
       "      <th>PID</th>\n",
       "    </tr>\n",
       "  </thead>\n",
       "  <tbody>\n",
       "    <tr>\n",
       "      <th>429</th>\n",
       "      <td>S2237-26602017005001103</td>\n",
       "      <td>S2237-26602018000100117</td>\n",
       "    </tr>\n",
       "    <tr>\n",
       "      <th>433</th>\n",
       "      <td>S2237-26602017005001102</td>\n",
       "      <td>S2237-26602018000100167</td>\n",
       "    </tr>\n",
       "    <tr>\n",
       "      <th>436</th>\n",
       "      <td>S2237-26602017005001101</td>\n",
       "      <td>S2237-26602018000100151</td>\n",
       "    </tr>\n",
       "    <tr>\n",
       "      <th>733</th>\n",
       "      <td>1982-451320160109</td>\n",
       "      <td>S1982-45132016000100131</td>\n",
       "    </tr>\n",
       "    <tr>\n",
       "      <th>738</th>\n",
       "      <td>1982-451320160101</td>\n",
       "      <td>S1982-45132016000100009</td>\n",
       "    </tr>\n",
       "    <tr>\n",
       "      <th>741</th>\n",
       "      <td>1982-451320160105</td>\n",
       "      <td>S1982-45132016000100067</td>\n",
       "    </tr>\n",
       "    <tr>\n",
       "      <th>743</th>\n",
       "      <td>1982-451320160103</td>\n",
       "      <td>S1982-45132016000100039</td>\n",
       "    </tr>\n",
       "    <tr>\n",
       "      <th>747</th>\n",
       "      <td>1982-451320160106</td>\n",
       "      <td>S1982-45132016000100083</td>\n",
       "    </tr>\n",
       "    <tr>\n",
       "      <th>751</th>\n",
       "      <td>1982-451320160108</td>\n",
       "      <td>S1982-45132016000100117</td>\n",
       "    </tr>\n",
       "    <tr>\n",
       "      <th>755</th>\n",
       "      <td>1982-451320160107</td>\n",
       "      <td>S1982-45132016000100095</td>\n",
       "    </tr>\n",
       "    <tr>\n",
       "      <th>757</th>\n",
       "      <td>1982-451320160104</td>\n",
       "      <td>S1982-45132016000100055</td>\n",
       "    </tr>\n",
       "    <tr>\n",
       "      <th>760</th>\n",
       "      <td>1982-451320160112</td>\n",
       "      <td>S1982-45132016000100171</td>\n",
       "    </tr>\n",
       "    <tr>\n",
       "      <th>761</th>\n",
       "      <td>1982-451320160110</td>\n",
       "      <td>S1982-45132016000100147</td>\n",
       "    </tr>\n",
       "    <tr>\n",
       "      <th>763</th>\n",
       "      <td>1982-451320160111</td>\n",
       "      <td>S1982-45132016000100161</td>\n",
       "    </tr>\n",
       "    <tr>\n",
       "      <th>768</th>\n",
       "      <td>1982-451320160102</td>\n",
       "      <td>S1982-45132016000100021</td>\n",
       "    </tr>\n",
       "    <tr>\n",
       "      <th>771</th>\n",
       "      <td>1982-451320140109</td>\n",
       "      <td>S1982-45132014000100127</td>\n",
       "    </tr>\n",
       "    <tr>\n",
       "      <th>774</th>\n",
       "      <td>1982-451320140102</td>\n",
       "      <td>S1982-45132014000100025</td>\n",
       "    </tr>\n",
       "    <tr>\n",
       "      <th>776</th>\n",
       "      <td>1982-451320140105</td>\n",
       "      <td>S1982-45132014000100063</td>\n",
       "    </tr>\n",
       "    <tr>\n",
       "      <th>778</th>\n",
       "      <td>1982-451320140110</td>\n",
       "      <td>S1982-45132014000100139</td>\n",
       "    </tr>\n",
       "    <tr>\n",
       "      <th>782</th>\n",
       "      <td>1982-451320140103</td>\n",
       "      <td>S1982-45132014000100035</td>\n",
       "    </tr>\n",
       "    <tr>\n",
       "      <th>784</th>\n",
       "      <td>1982-451320140106</td>\n",
       "      <td>S1982-45132014000100077</td>\n",
       "    </tr>\n",
       "    <tr>\n",
       "      <th>787</th>\n",
       "      <td>1982-451320140104</td>\n",
       "      <td>S1982-45132014000100049</td>\n",
       "    </tr>\n",
       "    <tr>\n",
       "      <th>789</th>\n",
       "      <td>1982-451320140112</td>\n",
       "      <td>S1982-45132014000100171</td>\n",
       "    </tr>\n",
       "    <tr>\n",
       "      <th>796</th>\n",
       "      <td>1982-451320140107</td>\n",
       "      <td>S1982-45132014000100095</td>\n",
       "    </tr>\n",
       "    <tr>\n",
       "      <th>798</th>\n",
       "      <td>1982-451320140108</td>\n",
       "      <td>S1982-45132014000100113</td>\n",
       "    </tr>\n",
       "    <tr>\n",
       "      <th>822</th>\n",
       "      <td>001152582015</td>\n",
       "      <td>S0011-52582015000100007</td>\n",
       "    </tr>\n",
       "    <tr>\n",
       "      <th>825</th>\n",
       "      <td>00115258201544</td>\n",
       "      <td>S0011-52582015000100257</td>\n",
       "    </tr>\n",
       "    <tr>\n",
       "      <th>826</th>\n",
       "      <td>00115258201538</td>\n",
       "      <td>S0011-52582015000100037</td>\n",
       "    </tr>\n",
       "    <tr>\n",
       "      <th>827</th>\n",
       "      <td>00115258201542</td>\n",
       "      <td>S0011-52582015000100187</td>\n",
       "    </tr>\n",
       "    <tr>\n",
       "      <th>828</th>\n",
       "      <td>00115258201543</td>\n",
       "      <td>S0011-52582015000100223</td>\n",
       "    </tr>\n",
       "    <tr>\n",
       "      <th>...</th>\n",
       "      <td>...</td>\n",
       "      <td>...</td>\n",
       "    </tr>\n",
       "    <tr>\n",
       "      <th>89092</th>\n",
       "      <td>1807-57622016.0929</td>\n",
       "      <td>S1414-32832017000200297</td>\n",
       "    </tr>\n",
       "    <tr>\n",
       "      <th>89096</th>\n",
       "      <td>1807-57622016.0753</td>\n",
       "      <td>S1414-32832017000200465</td>\n",
       "    </tr>\n",
       "    <tr>\n",
       "      <th>89097</th>\n",
       "      <td>1807-57622016.0099</td>\n",
       "      <td>S1414-32832017000200411</td>\n",
       "    </tr>\n",
       "    <tr>\n",
       "      <th>89100</th>\n",
       "      <td>1807-57622016.0624</td>\n",
       "      <td>S1414-32832017000200273</td>\n",
       "    </tr>\n",
       "    <tr>\n",
       "      <th>89101</th>\n",
       "      <td>1807-57622016.0159</td>\n",
       "      <td>S1414-32832017000200385</td>\n",
       "    </tr>\n",
       "    <tr>\n",
       "      <th>89104</th>\n",
       "      <td>1807-57622015.0841</td>\n",
       "      <td>S1414-32832017000200435</td>\n",
       "    </tr>\n",
       "    <tr>\n",
       "      <th>89109</th>\n",
       "      <td>S1414-32832016005022101</td>\n",
       "      <td>S1414-32832017000200373</td>\n",
       "    </tr>\n",
       "    <tr>\n",
       "      <th>89114</th>\n",
       "      <td>S1414-32832016005022102</td>\n",
       "      <td>S1414-32832017000200363</td>\n",
       "    </tr>\n",
       "    <tr>\n",
       "      <th>89116</th>\n",
       "      <td>1807-57622016.0626</td>\n",
       "      <td>S1414-32832017000200285</td>\n",
       "    </tr>\n",
       "    <tr>\n",
       "      <th>89120</th>\n",
       "      <td>1807-57622017.0060</td>\n",
       "      <td>S1414-32832017000200257</td>\n",
       "    </tr>\n",
       "    <tr>\n",
       "      <th>89122</th>\n",
       "      <td>S1414-32832016005023103</td>\n",
       "      <td>S1414-32832017000200421</td>\n",
       "    </tr>\n",
       "    <tr>\n",
       "      <th>89123</th>\n",
       "      <td>1807-57622016.0186</td>\n",
       "      <td>S1414-32832017000200469</td>\n",
       "    </tr>\n",
       "    <tr>\n",
       "      <th>89124</th>\n",
       "      <td>S1414-32832016005023102</td>\n",
       "      <td>S1414-32832017000200397</td>\n",
       "    </tr>\n",
       "    <tr>\n",
       "      <th>89127</th>\n",
       "      <td>S1414-32832016005026101</td>\n",
       "      <td>S1414-32832017000200333</td>\n",
       "    </tr>\n",
       "    <tr>\n",
       "      <th>89131</th>\n",
       "      <td>1807-57622016.0103</td>\n",
       "      <td>S1414-32832017000200349</td>\n",
       "    </tr>\n",
       "    <tr>\n",
       "      <th>89146</th>\n",
       "      <td>1807-57622016.0323</td>\n",
       "      <td>S1414-32832017000200449</td>\n",
       "    </tr>\n",
       "    <tr>\n",
       "      <th>89160</th>\n",
       "      <td>1807-57622015.0479</td>\n",
       "      <td>S1414-32832017000200321</td>\n",
       "    </tr>\n",
       "    <tr>\n",
       "      <th>89162</th>\n",
       "      <td>1807-57622016.0625</td>\n",
       "      <td>S1414-32832017000200263</td>\n",
       "    </tr>\n",
       "    <tr>\n",
       "      <th>89163</th>\n",
       "      <td>S1414-32832016005025103</td>\n",
       "      <td>S1414-32832017000200309</td>\n",
       "    </tr>\n",
       "    <tr>\n",
       "      <th>89377</th>\n",
       "      <td>0101-60830000000075</td>\n",
       "      <td>S0101-60832016000100018</td>\n",
       "    </tr>\n",
       "    <tr>\n",
       "      <th>89380</th>\n",
       "      <td>0101-60830000000073</td>\n",
       "      <td>S0101-60832016000100011</td>\n",
       "    </tr>\n",
       "    <tr>\n",
       "      <th>89386</th>\n",
       "      <td>0101-60830000000071</td>\n",
       "      <td>S0101-60832016000100001</td>\n",
       "    </tr>\n",
       "    <tr>\n",
       "      <th>89398</th>\n",
       "      <td>0101-60830000000074</td>\n",
       "      <td>S0101-60832016000100017</td>\n",
       "    </tr>\n",
       "    <tr>\n",
       "      <th>89402</th>\n",
       "      <td>0101-60830000000072</td>\n",
       "      <td>S0101-60832016000100006</td>\n",
       "    </tr>\n",
       "    <tr>\n",
       "      <th>89439</th>\n",
       "      <td>0101-60830000000110</td>\n",
       "      <td>S0101-60832017000100030</td>\n",
       "    </tr>\n",
       "    <tr>\n",
       "      <th>89443</th>\n",
       "      <td>0101-60830000000107</td>\n",
       "      <td>S0101-60832017000100010</td>\n",
       "    </tr>\n",
       "    <tr>\n",
       "      <th>89453</th>\n",
       "      <td>0101-60830000000109</td>\n",
       "      <td>S0101-60832017000100023</td>\n",
       "    </tr>\n",
       "    <tr>\n",
       "      <th>89459</th>\n",
       "      <td>0101-60830000000108</td>\n",
       "      <td>S0101-60832017000100020</td>\n",
       "    </tr>\n",
       "    <tr>\n",
       "      <th>89461</th>\n",
       "      <td>0101-60830000000106</td>\n",
       "      <td>S0101-60832017000100006</td>\n",
       "    </tr>\n",
       "    <tr>\n",
       "      <th>89464</th>\n",
       "      <td>0101-60830000000105</td>\n",
       "      <td>S0101-60832017000100001</td>\n",
       "    </tr>\n",
       "  </tbody>\n",
       "</table>\n",
       "<p>5218 rows × 2 columns</p>\n",
       "</div>"
      ],
      "text/plain": [
       "          article_publisher_id                      PID\n",
       "429    S2237-26602017005001103  S2237-26602018000100117\n",
       "433    S2237-26602017005001102  S2237-26602018000100167\n",
       "436    S2237-26602017005001101  S2237-26602018000100151\n",
       "733          1982-451320160109  S1982-45132016000100131\n",
       "738          1982-451320160101  S1982-45132016000100009\n",
       "741          1982-451320160105  S1982-45132016000100067\n",
       "743          1982-451320160103  S1982-45132016000100039\n",
       "747          1982-451320160106  S1982-45132016000100083\n",
       "751          1982-451320160108  S1982-45132016000100117\n",
       "755          1982-451320160107  S1982-45132016000100095\n",
       "757          1982-451320160104  S1982-45132016000100055\n",
       "760          1982-451320160112  S1982-45132016000100171\n",
       "761          1982-451320160110  S1982-45132016000100147\n",
       "763          1982-451320160111  S1982-45132016000100161\n",
       "768          1982-451320160102  S1982-45132016000100021\n",
       "771          1982-451320140109  S1982-45132014000100127\n",
       "774          1982-451320140102  S1982-45132014000100025\n",
       "776          1982-451320140105  S1982-45132014000100063\n",
       "778          1982-451320140110  S1982-45132014000100139\n",
       "782          1982-451320140103  S1982-45132014000100035\n",
       "784          1982-451320140106  S1982-45132014000100077\n",
       "787          1982-451320140104  S1982-45132014000100049\n",
       "789          1982-451320140112  S1982-45132014000100171\n",
       "796          1982-451320140107  S1982-45132014000100095\n",
       "798          1982-451320140108  S1982-45132014000100113\n",
       "822               001152582015  S0011-52582015000100007\n",
       "825             00115258201544  S0011-52582015000100257\n",
       "826             00115258201538  S0011-52582015000100037\n",
       "827             00115258201542  S0011-52582015000100187\n",
       "828             00115258201543  S0011-52582015000100223\n",
       "...                        ...                      ...\n",
       "89092       1807-57622016.0929  S1414-32832017000200297\n",
       "89096       1807-57622016.0753  S1414-32832017000200465\n",
       "89097       1807-57622016.0099  S1414-32832017000200411\n",
       "89100       1807-57622016.0624  S1414-32832017000200273\n",
       "89101       1807-57622016.0159  S1414-32832017000200385\n",
       "89104       1807-57622015.0841  S1414-32832017000200435\n",
       "89109  S1414-32832016005022101  S1414-32832017000200373\n",
       "89114  S1414-32832016005022102  S1414-32832017000200363\n",
       "89116       1807-57622016.0626  S1414-32832017000200285\n",
       "89120       1807-57622017.0060  S1414-32832017000200257\n",
       "89122  S1414-32832016005023103  S1414-32832017000200421\n",
       "89123       1807-57622016.0186  S1414-32832017000200469\n",
       "89124  S1414-32832016005023102  S1414-32832017000200397\n",
       "89127  S1414-32832016005026101  S1414-32832017000200333\n",
       "89131       1807-57622016.0103  S1414-32832017000200349\n",
       "89146       1807-57622016.0323  S1414-32832017000200449\n",
       "89160       1807-57622015.0479  S1414-32832017000200321\n",
       "89162       1807-57622016.0625  S1414-32832017000200263\n",
       "89163  S1414-32832016005025103  S1414-32832017000200309\n",
       "89377      0101-60830000000075  S0101-60832016000100018\n",
       "89380      0101-60830000000073  S0101-60832016000100011\n",
       "89386      0101-60830000000071  S0101-60832016000100001\n",
       "89398      0101-60830000000074  S0101-60832016000100017\n",
       "89402      0101-60830000000072  S0101-60832016000100006\n",
       "89439      0101-60830000000110  S0101-60832017000100030\n",
       "89443      0101-60830000000107  S0101-60832017000100010\n",
       "89453      0101-60830000000109  S0101-60832017000100023\n",
       "89459      0101-60830000000108  S0101-60832017000100020\n",
       "89461      0101-60830000000106  S0101-60832017000100006\n",
       "89464      0101-60830000000105  S0101-60832017000100001\n",
       "\n",
       "[5218 rows x 2 columns]"
      ]
     },
     "execution_count": 26,
     "metadata": {},
     "output_type": "execute_result"
    }
   ],
   "source": [
    "merged2[[\"article_publisher_id\", \"PID\"]] \\\n",
    "    [(merged2[\"article_publisher_id\"] != \"\") &\n",
    "    (merged2[\"article_publisher_id\"] != merged2[\"PID\"])] \\\n",
    "    .drop_duplicates()"
   ]
  },
  {
   "cell_type": "markdown",
   "metadata": {},
   "source": [
    "That's most of the data we have:"
   ]
  },
  {
   "cell_type": "code",
   "execution_count": 27,
   "metadata": {},
   "outputs": [
    {
     "data": {
      "text/plain": [
       "5598"
      ]
     },
     "execution_count": 27,
     "metadata": {},
     "output_type": "execute_result"
    }
   ],
   "source": [
    "dataset[\"article_publisher_id\"].unique().size - 1 # -1 to remove the empty"
   ]
  },
  {
   "cell_type": "markdown",
   "metadata": {},
   "source": [
    "Less than $400$ matched:"
   ]
  },
  {
   "cell_type": "code",
   "execution_count": 28,
   "metadata": {},
   "outputs": [
    {
     "data": {
      "text/plain": [
       "398"
      ]
     },
     "execution_count": 28,
     "metadata": {},
     "output_type": "execute_result"
    }
   ],
   "source": [
    "merged2[[\"article_publisher_id\", \"PID\"]] \\\n",
    "    [merged2[\"article_publisher_id\"] == merged2[\"PID\"]] \\\n",
    "    .drop_duplicates() \\\n",
    "    .shape[0]"
   ]
  },
  {
   "cell_type": "markdown",
   "metadata": {},
   "source": [
    "Since $5598 - 398 = 5200 < 5218$, the PID relationship isn't $1:1$.\n",
    "Some of these PID values are from older \"ahead of time\" registries\n",
    "of the very same article, but that's not the only reason.\n",
    "\n",
    "The PID itself seems to require some normalization.\n",
    "Perhaps the value from Crossref is the last/frozen one,\n",
    "but it's hard to be confident about that.\n",
    "Missing the leading `S`?\n",
    "Having an extra `.` from some older PID format?\n",
    "I'm not sure, but reading the raw XML (the ground truth source)\n",
    "presents us some information that are hard to\n",
    "confidently find relationships."
   ]
  },
  {
   "cell_type": "markdown",
   "metadata": {},
   "source": [
    "Trying to normalize it by adding the `S` prefix and removing any dots doesn't help:"
   ]
  },
  {
   "cell_type": "code",
   "execution_count": 29,
   "metadata": {},
   "outputs": [
    {
     "data": {
      "text/plain": [
       "398"
      ]
     },
     "execution_count": 29,
     "metadata": {},
     "output_type": "execute_result"
    }
   ],
   "source": [
    "pid_regex = re.compile(r\"[sS]?(\\d{4})-?(\\d{3}[0-9xX].*)$\")\n",
    "merged2[\"alt_pid\"] = merged2[\"article_publisher_id\"] \\\n",
    "    .drop_duplicates() \\\n",
    "    .apply(pid_regex.search) \\\n",
    "    .apply(lambda val: val and \"S{}-{}\".format(*val.groups()) or \"\") \\\n",
    "    .str.replace(\".\", \"\") \\\n",
    "    .str.upper()\n",
    "merged2[[\"alt_pid\", \"PID\"]] \\\n",
    "    [merged2[\"alt_pid\"].apply(bool) & (merged2[\"alt_pid\"] == merged2[\"PID\"])] \\\n",
    "    .drop_duplicates().shape[0]"
   ]
  },
  {
   "cell_type": "markdown",
   "metadata": {},
   "source": [
    "## Finding the current PID and the DOI from the older PID"
   ]
  },
  {
   "cell_type": "markdown",
   "metadata": {},
   "source": [
    "The `1807-57622016.0103` format isn't accepted by the SciELO's \"XML debug\" API:"
   ]
  },
  {
   "cell_type": "code",
   "execution_count": 30,
   "metadata": {},
   "outputs": [
    {
     "name": "stdout",
     "output_type": "stream",
     "text": [
      "HTTP/1.1 404 Not Found - Archive Empty\r",
      "\r\n",
      "\u001b[1mDate\u001b[21m: Mon, 23 Jul 2018 20:06:12 GMT\r",
      "\r\n",
      "\u001b[1mPragma\u001b[21m: no-cache\r",
      "\r\n",
      "\u001b[1mContent-Length\u001b[21m: 886\r",
      "\r\n",
      "\u001b[1mContent-Type\u001b[21m: text/html; charset=UTF-8\r",
      "\r\n",
      "\u001b[1mcache-control\u001b[21m: max-age=900\r",
      "\r\n",
      "\u001b[1mmagicmarker\u001b[21m: 1\r",
      "\r\n",
      "\u001b[1mServer\u001b[21m: nginx\r",
      "\r\n",
      "\u001b[1mX-Varnish\u001b[21m: 554180725 550549535\r",
      "\r\n",
      "\u001b[1mAge\u001b[21m: 2816\r",
      "\r\n",
      "\u001b[1mVia\u001b[21m: 1.1 varnish-v4\r",
      "\r\n",
      "\u001b[1mConnection\u001b[21m: keep-alive\r",
      "\r\n",
      "\r",
      "\r\n"
     ]
    }
   ],
   "source": [
    "!curl -I 'http://www.scielo.br/scielo.php?script=sci_arttext&pid=1807-57622016.0103&lng=en&nrm=iso&tlng=pt&debug=xml'"
   ]
  },
  {
   "cell_type": "markdown",
   "metadata": {},
   "source": [
    "But using its matching `S1414-32832017000200349`\n",
    "(found from DOI), we get:"
   ]
  },
  {
   "cell_type": "code",
   "execution_count": 31,
   "metadata": {},
   "outputs": [
    {
     "name": "stdout",
     "output_type": "stream",
     "text": [
      "HTTP/1.1 200 OK\r",
      "\r\n",
      "\u001b[1mDate\u001b[21m: Mon, 23 Jul 2018 20:06:46 GMT\r",
      "\r\n",
      "\u001b[1mPragma\u001b[21m: no-cache\r",
      "\r\n",
      "\u001b[1mContent-Type\u001b[21m: text/xml; charset=utf-8\r",
      "\r\n",
      "\u001b[1mcache-control\u001b[21m: max-age=900\r",
      "\r\n",
      "\u001b[1mmagicmarker\u001b[21m: 1\r",
      "\r\n",
      "\u001b[1mServer\u001b[21m: nginx\r",
      "\r\n",
      "\u001b[1mX-Varnish\u001b[21m: 558247970 550518563\r",
      "\r\n",
      "\u001b[1mAge\u001b[21m: 2782\r",
      "\r\n",
      "\u001b[1mVia\u001b[21m: 1.1 varnish-v4\r",
      "\r\n",
      "\u001b[1mContent-Length\u001b[21m: 22847\r",
      "\r\n",
      "\u001b[1mConnection\u001b[21m: keep-alive\r",
      "\r\n",
      "\r",
      "\r\n"
     ]
    }
   ],
   "source": [
    "!curl -I 'http://www.scielo.br/scielo.php?script=sci_arttext&pid=S1414-32832017000200349&lng=en&nrm=iso&tlng=pt&debug=xml'"
   ]
  },
  {
   "cell_type": "markdown",
   "metadata": {},
   "source": [
    "Let's get the XML content with `urllib`:"
   ]
  },
  {
   "cell_type": "code",
   "execution_count": 32,
   "metadata": {},
   "outputs": [],
   "source": [
    "from urllib.request import urlopen, Request\n",
    "from urllib.parse import urlencode\n",
    "from lxml import etree"
   ]
  },
  {
   "cell_type": "code",
   "execution_count": 33,
   "metadata": {},
   "outputs": [],
   "source": [
    "def get_scielo_php(pid):\n",
    "    resp = urlopen(\"http://www.scielo.br/scielo.php?\" + urlencode({\n",
    "        \"script\": \"sci_arttext\",\n",
    "        \"pid\": pid,\n",
    "        \"lng\": \"en\",\n",
    "        \"nrm\": \"iso\",\n",
    "        \"tlng\": \"pt\",\n",
    "        \"debug\": \"xml\"\n",
    "    }))\n",
    "    return etree.parse(resp) if resp.status == 200 else None"
   ]
  },
  {
   "cell_type": "code",
   "execution_count": 34,
   "metadata": {},
   "outputs": [
    {
     "data": {
      "text/plain": [
       "{'TEXTLANG': 'pt',\n",
       " 'ORIGINALLANG': 'pt',\n",
       " 'FPAGE': '349',\n",
       " 'LPAGE': '361',\n",
       " 'PID': 'S1414-32832017000200349',\n",
       " 'DOCTOPIC': 'oa',\n",
       " 'DOCTYPE': 'article',\n",
       " 'RELATED': '',\n",
       " 'CITED': '',\n",
       " 'PROJFAPESP': '',\n",
       " 'CLINICALTRIALS': ' 0',\n",
       " 'AREASGEO': '',\n",
       " 'PROCESSDATE': '20170317',\n",
       " 'CURR_DATE': '20180723',\n",
       " 'ahpdate': '20161103',\n",
       " 'DOI': '10.1590/1807-57622016.0103',\n",
       " 'oldpid': 'S1414-32832016005024105',\n",
       " 'PDF': '1'}"
      ]
     },
     "execution_count": 34,
     "metadata": {},
     "output_type": "execute_result"
    }
   ],
   "source": [
    "php_xml_output = get_scielo_php(\"S1414-32832017000200349\")\n",
    "dict(php_xml_output.xpath(\"//ARTICLE\")[0].attrib)"
   ]
  },
  {
   "cell_type": "markdown",
   "metadata": {},
   "source": [
    "That element alone gives us all information regarding the PID and DOI,\n",
    "including the previous PID value.\n",
    "Also, we can query using the old PID value: "
   ]
  },
  {
   "cell_type": "code",
   "execution_count": 35,
   "metadata": {},
   "outputs": [
    {
     "data": {
      "text/plain": [
       "{'TEXTLANG': 'pt',\n",
       " 'ORIGINALLANG': 'pt',\n",
       " 'FPAGE': '349',\n",
       " 'LPAGE': '361',\n",
       " 'PID': 'S1414-32832017000200349',\n",
       " 'DOCTOPIC': 'oa',\n",
       " 'DOCTYPE': 'article',\n",
       " 'RELATED': '',\n",
       " 'CITED': '',\n",
       " 'PROJFAPESP': '',\n",
       " 'CLINICALTRIALS': ' 0',\n",
       " 'AREASGEO': '',\n",
       " 'PROCESSDATE': '20170317',\n",
       " 'CURR_DATE': '20180723',\n",
       " 'ahpdate': '20161103',\n",
       " 'DOI': '10.1590/1807-57622016.0103',\n",
       " 'oldpid': 'S1414-32832016005024105',\n",
       " 'PDF': '1'}"
      ]
     },
     "execution_count": 35,
     "metadata": {},
     "output_type": "execute_result"
    }
   ],
   "source": [
    "old_pid_php_xml_output = get_scielo_php(\"S1414-32832016005024105\")\n",
    "dict(old_pid_php_xml_output.xpath(\"//ARTICLE\")[0].attrib)"
   ]
  }
 ],
 "metadata": {
  "kernelspec": {
   "display_name": "Python 3",
   "language": "python",
   "name": "python3"
  },
  "language_info": {
   "codemirror_mode": {
    "name": "ipython",
    "version": 3
   },
   "file_extension": ".py",
   "mimetype": "text/x-python",
   "name": "python",
   "nbconvert_exporter": "python",
   "pygments_lexer": "ipython3",
   "version": "3.6.6"
  }
 },
 "nbformat": 4,
 "nbformat_minor": 2
}
